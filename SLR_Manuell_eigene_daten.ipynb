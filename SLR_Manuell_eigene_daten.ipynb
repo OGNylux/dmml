{
 "cells": [
  {
   "cell_type": "markdown",
   "metadata": {},
   "source": [
    "# Simple Lineare Regression manuell Berechnen"
   ]
  },
  {
   "cell_type": "code",
   "execution_count": 6,
   "metadata": {
    "ExecuteTime": {
     "end_time": "2024-10-31T13:45:48.448635500Z",
     "start_time": "2024-10-31T13:45:48.434583800Z"
    }
   },
   "outputs": [],
   "source": [
    "# Import dstools (absolute path required, please change to your systems settings)\n",
    "import importlib\n",
    "import sys\n",
    "\n",
    "path = '/dstools-master/dstools/__init__.py'\n",
    "name = 'dstools'\n",
    "\n",
    "spec = importlib.util.spec_from_file_location(name, path)\n",
    "module = importlib.util.module_from_spec(spec)\n",
    "sys.modules[spec.name] = module\n",
    "spec.loader.exec_module(module)"
   ]
  },
  {
   "cell_type": "code",
   "execution_count": 7,
   "metadata": {
    "ExecuteTime": {
     "end_time": "2024-10-31T13:45:49.645602200Z",
     "start_time": "2024-10-31T13:45:49.625706Z"
    }
   },
   "outputs": [],
   "source": [
    "import matplotlib.pyplot as plt\n",
    "import numpy as np\n",
    "import pandas as pd\n",
    "\n",
    "from dstools.datasets import sunshine"
   ]
  },
  {
   "cell_type": "code",
   "execution_count": 9,
   "metadata": {
    "ExecuteTime": {
     "end_time": "2024-10-31T13:45:58.159661400Z",
     "start_time": "2024-10-31T13:45:58.134588900Z"
    }
   },
   "outputs": [
    {
     "name": "stdout",
     "output_type": "stream",
     "text": [
      "      ID     TV  Radio  Newspaper  Sales\n",
      "0      1  230.1   37.8       69.2   22.1\n",
      "1      2   44.5   39.3       45.1   10.4\n",
      "2      3   17.2   45.9       69.3    9.3\n",
      "3      4  151.5   41.3       58.5   18.5\n",
      "4      5  180.8   10.8       58.4   12.9\n",
      "..   ...    ...    ...        ...    ...\n",
      "195  196   38.2    3.7       13.8    7.6\n",
      "196  197   94.2    4.9        8.1    9.7\n",
      "197  198  177.0    9.3        6.4   12.8\n",
      "198  199  283.6   42.0       66.2   25.5\n",
      "199  200  232.1    8.6        8.7   13.4\n",
      "\n",
      "[200 rows x 5 columns]\n"
     ]
    }
   ],
   "source": [
    "# Load the sunshine dataset\n",
    "df = pd.read_csv('advertising.csv')\n",
    "print(df)"
   ]
  },
  {
   "cell_type": "code",
   "execution_count": 4,
   "metadata": {
    "ExecuteTime": {
     "end_time": "2024-10-31T12:55:05.769253900Z",
     "start_time": "2024-10-31T12:55:05.487883400Z"
    }
   },
   "outputs": [
    {
     "data": {
      "text/plain": "<Figure size 640x480 with 1 Axes>",
      "image/png": "[encoded data removed]"
     },
     "metadata": {},
     "output_type": "display_data"
    }
   ],
   "source": [
    "# Scatterplot\n",
    "plt.plot(df['TV'], df['Sales'],'o');"
   ]
  },
  {
   "cell_type": "markdown",
   "metadata": {},
   "source": [
    "## Response- und Prediktorvariable festlegen\n",
    "\n",
    "Wir speichern die Werte der Prediktorvariablen in $x$ und die der Responsevariablen in $y$ und führen einige Abkürzungen zur besseren Lesbarkeit ein:"
   ]
  },
  {
   "cell_type": "code",
   "execution_count": 5,
   "metadata": {
    "ExecuteTime": {
     "end_time": "2024-10-31T12:55:15.372325500Z",
     "start_time": "2024-10-31T12:55:15.361422400Z"
    }
   },
   "outputs": [],
   "source": [
    "x = np.array(df.Sonnenstunden)\n",
    "y = np.array(df.Konzertbesucher)\n",
    "\n",
    "# Useful abbreviations\n",
    "x_bar = np.mean(x)\n",
    "y_bar = np.mean(y)\n",
    "SXX = np.sum((x-x_bar)**2)\n",
    "SXY = np.sum((x-x_bar)*(y-y_bar))\n",
    "\n",
    "# Number of datapoints\n",
    "n = np.size(x)\n",
    "\n",
    "# Number of features\n",
    "p = 1"
   ]
  },
  {
   "cell_type": "markdown",
   "metadata": {},
   "source": [
    "## Berechnung der Koeffizienten\n",
    "\n",
    "In der neuen Schreibweise berechnet sich der Regressionskoeffizient $\\hat{\\beta}_1$ als\n",
    "\n",
    "$$\\hat{\\beta}_1 = \\frac{SXY}{SXX}$$\n",
    "\n",
    "Somit erhalten wir für die Regressionskoeffizienten:"
   ]
  },
  {
   "cell_type": "code",
   "execution_count": 6,
   "metadata": {
    "ExecuteTime": {
     "end_time": "2024-10-31T12:55:18.814334Z",
     "start_time": "2024-10-31T12:55:18.788564500Z"
    }
   },
   "outputs": [
    {
     "name": "stdout",
     "output_type": "stream",
     "text": [
      "5.336410534890034\n",
      "15.728319304914475\n"
     ]
    }
   ],
   "source": [
    "beta_hat_1 = SXY/SXX\n",
    "beta_hat_0 = y_bar - beta_hat_1 * x_bar\n",
    "print(beta_hat_1)\n",
    "print(beta_hat_0)"
   ]
  },
  {
   "cell_type": "code",
   "execution_count": 7,
   "metadata": {
    "ExecuteTime": {
     "end_time": "2024-10-31T12:55:20.217313700Z",
     "start_time": "2024-10-31T12:55:20.139659100Z"
    }
   },
   "outputs": [
    {
     "data": {
      "text/plain": "<Figure size 640x480 with 1 Axes>",
      "image/png": "[encoded data removed]"
     },
     "metadata": {},
     "output_type": "display_data"
    }
   ],
   "source": [
    "plt.plot(df['Sonnenstunden'], df['Konzertbesucher'],'o')\n",
    "plt.plot(df['Sonnenstunden'], df['Sonnenstunden']*beta_hat_1 + beta_hat_0, '--');"
   ]
  },
  {
   "cell_type": "markdown",
   "metadata": {},
   "source": [
    "## Residuen\n",
    "\n",
    "Mit den Werten für $\\hat{\\beta}_0$ und $\\hat{\\beta}_1$ können wir die Prädiktoren $\\hat{y}$ bestimmen. Daraus ergeben sich sofort die Residuen $e_i$, die wir in der Variable `res` speichern."
   ]
  },
  {
   "cell_type": "code",
   "execution_count": 8,
   "metadata": {
    "ExecuteTime": {
     "end_time": "2024-10-31T12:57:37.537273500Z",
     "start_time": "2024-10-31T12:57:37.526981900Z"
    }
   },
   "outputs": [
    {
     "name": "stdout",
     "output_type": "stream",
     "text": [
      "[-3.86749932  3.93065436 -2.80483302  5.99332066 -2.80944882  3.92142275\n",
      " -5.21314146  0.84952484]\n"
     ]
    }
   ],
   "source": [
    "y_hat = beta_hat_1 * x + beta_hat_0\n",
    "\n",
    "# Residuen\n",
    "res = y - y_hat\n",
    "print(res)"
   ]
  },
  {
   "cell_type": "markdown",
   "metadata": {},
   "source": [
    "Bei der Berechnung der Residuen geht es darum zu sehen, wie gut die Regressionslinie zu den Daten passt. Größere Residuen zeigen an, dass die Regressionslinie schlecht zu den Daten passt, d.h. die tatsächlichen Datenpunkte fallen nicht in die Nähe der Regressionslinie. Kleinere Residuen zeigen an, dass die Regressionslinie besser zu den Daten passt, d.h. die tatsächlichen Datenpunkte liegen nahe an der Regressionslinie.\n",
    "\n",
    "Ein nützlicher Diagrammtyp zur gleichzeitigen Visualisierung aller Residuen ist ein **Residuendiagramm**. Ein Residuendiagramm (oder Residualplot) ist ein Diagrammtyp, der die vorhergesagten Werte gegen die Residuenwerte für ein Regressionsmodell anzeigt. Diese Art von Diagramm wird häufig verwendet, um zu bewerten, ob ein lineares Regressionsmodell für einen bestimmten Datensatz geeignet ist oder nicht, und um die Heteroskedastizität von Residuen zu überprüfen.\n",
    "\n",
    "In der Praxis kann man Residuen als Abweichungen von der Regressionslinie betrachten. Wenn die Residuen zufällig um die Nulllinie streuen, ist dies ein Indikator für eine gute Regression. Andernfalls kann dies bedeuten, dass die Regression unzureichend oder falsch spezifiziert ist. Ein Residuendiagramm kann auch verwendet werden, um Ausreißer in den Daten aufzudecken."
   ]
  },
  {
   "cell_type": "code",
   "execution_count": 9,
   "metadata": {
    "ExecuteTime": {
     "end_time": "2024-10-31T12:57:39.950862700Z",
     "start_time": "2024-10-31T12:57:39.883726300Z"
    }
   },
   "outputs": [
    {
     "data": {
      "text/plain": "<Figure size 640x480 with 1 Axes>",
      "image/png": "[encoded data removed]"
     },
     "metadata": {},
     "output_type": "display_data"
    }
   ],
   "source": [
    "# Residual plot\n",
    "plt.plot(y_hat, (y_hat-y), 'o');"
   ]
  },
  {
   "cell_type": "markdown",
   "metadata": {},
   "source": [
    "## Standardfehler\n",
    "\n",
    "Für die Berechnung der Standardfehler (Koeffizienten und Residuen) benötigen wie die RSS sowie $\\sigma^2$, welches wir in `sigma_sq` speichern:"
   ]
  },
  {
   "cell_type": "code",
   "execution_count": 10,
   "metadata": {
    "ExecuteTime": {
     "end_time": "2024-10-31T12:57:43.801863400Z",
     "start_time": "2024-10-31T12:57:43.773089800Z"
    }
   },
   "outputs": [
    {
     "name": "stdout",
     "output_type": "stream",
     "text": [
      "RSE:  4.570989515784033\n",
      "SE(beta_0):  4.437227000146887  SE(beta_1):  0.9527289390578388\n"
     ]
    }
   ],
   "source": [
    "# Residual Sum of Squares (RSS)\n",
    "RSS = np.sum(res**2)\n",
    "\n",
    "# Sigma squared\n",
    "sigma_sq = RSS/(n-p-1)\n",
    "\n",
    "# Residual Standard Error (RSE)\n",
    "RSE = np.sqrt(sigma_sq)\n",
    "print(\"RSE: \", RSE)\n",
    "\n",
    "# Standard Error of Regression Coefficients\n",
    "se_beta_0 = np.sqrt(sigma_sq * (1/n + (x_bar**2)/SXX))\n",
    "se_beta_1 = np.sqrt(sigma_sq/SXX)\n",
    "print(\"SE(beta_0): \", se_beta_0, \" SE(beta_1): \", se_beta_1)"
   ]
  },
  {
   "cell_type": "markdown",
   "metadata": {},
   "source": [
    "## Mean Squared Error"
   ]
  },
  {
   "cell_type": "code",
   "execution_count": 11,
   "metadata": {
    "ExecuteTime": {
     "end_time": "2024-10-31T12:57:46.462383900Z",
     "start_time": "2024-10-31T12:57:46.440660Z"
    }
   },
   "outputs": [
    {
     "name": "stdout",
     "output_type": "stream",
     "text": [
      "MSE: 15.670458865055664\n"
     ]
    }
   ],
   "source": [
    "MSE = RSS/n\n",
    "print(\"MSE:\", MSE)"
   ]
  },
  {
   "cell_type": "markdown",
   "metadata": {},
   "source": [
    "## Konfidenzintervall"
   ]
  },
  {
   "cell_type": "code",
   "execution_count": 12,
   "metadata": {
    "ExecuteTime": {
     "end_time": "2024-10-31T12:57:51.522502500Z",
     "start_time": "2024-10-31T12:57:51.509620400Z"
    }
   },
   "outputs": [
    {
     "name": "stdout",
     "output_type": "stream",
     "text": [
      "CI_approx:\n",
      " [[ 6.8538653  24.60277331]\n",
      " [ 3.43095266  7.24186841]]\n",
      "CI:\n",
      " [[ 4.87081597 26.58582264]\n",
      " [ 3.0051668   7.66765427]]\n"
     ]
    }
   ],
   "source": [
    "from scipy import stats\n",
    "\n",
    "# Approximation\n",
    "CI_approx = np.array([[beta_hat_0 - 2*se_beta_0, beta_hat_0 + 2*se_beta_0],[beta_hat_1 - 2*se_beta_1, beta_hat_1 + 2*se_beta_1]])\n",
    "\n",
    "# Get the value for the t-distribution with df=6:\n",
    "studT = stats.t.ppf(1-0.025,6)\n",
    "\n",
    "CI = np.array([[beta_hat_0 - studT*se_beta_0, beta_hat_0 + studT*se_beta_0],[beta_hat_1 - studT*se_beta_1, beta_hat_1 + studT*se_beta_1]])\n",
    "\n",
    "print(\"CI_approx:\\n\", CI_approx)\n",
    "print(\"CI:\\n\", CI)"
   ]
  },
  {
   "cell_type": "markdown",
   "metadata": {},
   "source": [
    "## Hypothesentests\n",
    "### t-Statistik\n",
    "\n",
    "Wir berechnen die t-Statistik für beide Regressionskoeffizienten"
   ]
  },
  {
   "cell_type": "code",
   "execution_count": 13,
   "metadata": {
    "ExecuteTime": {
     "end_time": "2024-10-31T12:58:01.242262300Z",
     "start_time": "2024-10-31T12:58:01.236685600Z"
    }
   },
   "outputs": [
    {
     "name": "stdout",
     "output_type": "stream",
     "text": [
      "t_beta_0:  3.544628053600552 \n",
      "t_beta_1:  5.6011844671867035\n"
     ]
    }
   ],
   "source": [
    "# t-Values\n",
    "t_beta_1 = beta_hat_1/se_beta_1\n",
    "t_beta_0 = beta_hat_0/se_beta_0\n",
    "print(\"t_beta_0: \", t_beta_0, \"\\nt_beta_1: \", t_beta_1)"
   ]
  },
  {
   "cell_type": "markdown",
   "metadata": {},
   "source": [
    "### p-Werte\n",
    "\n",
    "Dazu interessieren uns jetzt die p-Werte, zu deren Berechnung Python einen Näherungsalgorithmus verwendet:"
   ]
  },
  {
   "cell_type": "code",
   "execution_count": 14,
   "metadata": {
    "ExecuteTime": {
     "end_time": "2024-10-31T13:00:04.243591400Z",
     "start_time": "2024-10-31T13:00:04.222839500Z"
    }
   },
   "outputs": [
    {
     "name": "stdout",
     "output_type": "stream",
     "text": [
      "0.012150695888024199\n"
     ]
    }
   ],
   "source": [
    "t = 3.54462805 # t-Value\n",
    "f = 1.0\n",
    "tz = 1.0\n",
    "j = 2.0 # counter\n",
    "k = 6.0 # degrees of freedom\n",
    "\n",
    "z = 1 + (t**2)/k\n",
    "\n",
    "while (j <= (k-2)) :\n",
    "    tz = tz * ((j-1)/(z*j))\n",
    "    f = f + tz\n",
    "    j = j + 2\n",
    "    \n",
    "p = f * t / np.sqrt(z * k)\n",
    "p = 0.5 + 0.5*p\n",
    "p = 2*(1-p)\n",
    "print(p)"
   ]
  },
  {
   "cell_type": "markdown",
   "metadata": {},
   "source": [
    "Man sieht sofort, dass die `while` Schleife in unserem einfachen Fall nur zweimal durchlaufen wird. Daher gilt für die Variablen $tz$ und $f$ mit $tz_0 = 1, j_0 = 2$:\n",
    "\n",
    "$$tz_1 = tz_0 \\frac{j_0 - 1}{zj_0} = \\frac{1}{2z}$$\n",
    "$$tz_2 = tz_1 \\frac{j_i - 1}{zj_1} = \\frac{1}{2z}\\frac{3}{4z} = \\frac{3}{8z^2}$$\n",
    "$$f_1 = f_0 + tz_1 $$\n",
    "$$f_2 = f_1 + tz_2 = f_0 + tz_1 + tz_2 = 1 + \\frac{1}{2z} + \\frac{3}{8z^2}$$\n",
    "\n",
    "Somit folgt nach einer kleinen Umformung für die p-Werte:\n",
    "\n",
    "$$p = 1 - \\Big( 1 + \\frac{1}{2z} + \\frac{3}{8z^2} \\Big) \\frac{t}{\\sqrt{6z}}$$\n",
    "\n",
    "Eine Formel, die sich mit jedem besseren Taschenrechner ausrechnen läßt! Das wollen wir gleich testen:"
   ]
  },
  {
   "cell_type": "code",
   "execution_count": 15,
   "metadata": {
    "ExecuteTime": {
     "end_time": "2024-10-31T13:00:42.508377100Z",
     "start_time": "2024-10-31T13:00:42.485399800Z"
    }
   },
   "outputs": [
    {
     "name": "stdout",
     "output_type": "stream",
     "text": [
      "0.012150695835125958\n",
      "0.001379362627713876\n"
     ]
    }
   ],
   "source": [
    "t = t_beta_0\n",
    "z = 1 + (t**2)/6\n",
    "\n",
    "p_val = 1 - (1 + 1/(2*z) + 3/(8*(z**2)))*t/np.sqrt(6*z)\n",
    "p_beta_0 = p_val\n",
    "print(p_beta_0)\n",
    "\n",
    "t = t_beta_1\n",
    "z = 1 + (t**2)/6\n",
    "\n",
    "p_val = 1 - (1 + 1/(2*z) + 3/(8*(z**2)))*t/np.sqrt(6*z)\n",
    "p_beta_1 = p_val\n",
    "print(p_beta_1)"
   ]
  },
  {
   "cell_type": "markdown",
   "metadata": {},
   "source": [
    "## $R^2$"
   ]
  },
  {
   "cell_type": "code",
   "execution_count": 16,
   "metadata": {
    "ExecuteTime": {
     "end_time": "2024-10-31T13:00:45.961556Z",
     "start_time": "2024-10-31T13:00:45.933238700Z"
    }
   },
   "outputs": [
    {
     "data": {
      "text/plain": "np.float64(0.8394574407934108)"
     },
     "execution_count": 16,
     "metadata": {},
     "output_type": "execute_result"
    }
   ],
   "source": [
    "# Total sum of Squares\n",
    "TSS = np.sum((y-y_bar)**2)\n",
    "\n",
    "# R^2\n",
    "R_sq = 1 - RSS/TSS\n",
    "R_sq"
   ]
  },
  {
   "cell_type": "markdown",
   "metadata": {},
   "source": [
    "## Adjusted $R^2$"
   ]
  },
  {
   "cell_type": "code",
   "execution_count": 17,
   "metadata": {
    "ExecuteTime": {
     "end_time": "2024-10-31T13:00:52.522117700Z",
     "start_time": "2024-10-31T13:00:52.509286400Z"
    }
   },
   "outputs": [
    {
     "data": {
      "text/plain": "np.float64(0.8127003475923127)"
     },
     "execution_count": 17,
     "metadata": {},
     "output_type": "execute_result"
    }
   ],
   "source": [
    "# Adjusted R^2\n",
    "R_sq_adj = 1 - ((n-1)*RSS)/((n-2)*TSS)\n",
    "R_sq_adj"
   ]
  },
  {
   "cell_type": "markdown",
   "metadata": {},
   "source": [
    "## F-Statistik\n",
    "\n",
    "Leider gibt es für den p-Wert der F-Statistik keine einfache Näherungsformel, sondern nur eine komplizierte Iteration von Gamma- und Betafunktionen, deren Herleitung den Rahmen dieser Lehrveranstaltung übersteigt."
   ]
  },
  {
   "cell_type": "code",
   "execution_count": 18,
   "metadata": {
    "ExecuteTime": {
     "end_time": "2024-10-31T13:01:17.648406600Z",
     "start_time": "2024-10-31T13:01:17.637939Z"
    }
   },
   "outputs": [
    {
     "data": {
      "text/plain": "np.float64(31.373267435453595)"
     },
     "execution_count": 18,
     "metadata": {},
     "output_type": "execute_result"
    }
   ],
   "source": [
    "# F-Statistic\n",
    "F_stat = (n-2)*((TSS-RSS)/RSS)\n",
    "F_stat"
   ]
  },
  {
   "cell_type": "markdown",
   "metadata": {},
   "source": [
    "## Log-Likelihood"
   ]
  },
  {
   "cell_type": "code",
   "execution_count": 19,
   "metadata": {
    "ExecuteTime": {
     "end_time": "2024-10-31T13:01:27.107028700Z",
     "start_time": "2024-10-31T13:01:27.095722200Z"
    }
   },
   "outputs": [
    {
     "data": {
      "text/plain": "np.float64(-22.358617621507904)"
     },
     "execution_count": 19,
     "metadata": {},
     "output_type": "execute_result"
    }
   ],
   "source": [
    "LogLik = -(n/2)*np.log(2*np.pi) - (n/2)*np.log(RSS/n)-n/2\n",
    "LogLik"
   ]
  },
  {
   "cell_type": "markdown",
   "metadata": {},
   "source": [
    "## AIC, BIC"
   ]
  },
  {
   "cell_type": "code",
   "execution_count": 20,
   "metadata": {
    "ExecuteTime": {
     "end_time": "2024-10-31T13:01:37.130691700Z",
     "start_time": "2024-10-31T13:01:37.117590800Z"
    }
   },
   "outputs": [
    {
     "name": "stdout",
     "output_type": "stream",
     "text": [
      "AIC:  50.71723524301581 \n",
      "BIC:  50.95555986805532\n"
     ]
    }
   ],
   "source": [
    "k = 3\n",
    "AIC = 2*k - 2*LogLik\n",
    "BIC = np.log(n)*k - 2*LogLik\n",
    "print(\"AIC: \", AIC, \"\\nBIC: \", BIC)"
   ]
  },
  {
   "cell_type": "markdown",
   "metadata": {},
   "source": [
    "# Zusammenfassung"
   ]
  },
  {
   "cell_type": "code",
   "execution_count": 21,
   "metadata": {
    "ExecuteTime": {
     "end_time": "2024-10-31T13:01:42.878981300Z",
     "start_time": "2024-10-31T13:01:42.818957900Z"
    }
   },
   "outputs": [
    {
     "name": "stdout",
     "output_type": "stream",
     "text": [
      "beta_0\t\t 15.728319304914475\n",
      "beta_1\t\t 5.336410534890034\n",
      "t beta_0\t 3.544628053600552\n",
      "t beta_1\t 5.6011844671867035\n",
      "p beta_0\t 0.012150695835125958\n",
      "p beta_1\t 0.001379362627713876\n",
      "CI beta0 lo\t 4.870815972034617\n",
      "CI beta0 hi\t 26.585822637794333\n",
      "CI beta1 lo\t 3.0051668029806353\n",
      "CI beta1 hi\t 7.667654266799433\n",
      "R^2\t\t 0.8394574407934108\n",
      "adj. R^2\t 0.8127003475923127\n",
      "F-Stat\t\t 31.373267435453595\n",
      "LogLik\t\t -22.358617621507904\n",
      "AIC\t\t 50.71723524301581\n",
      "BIC\t\t 50.95555986805532\n"
     ]
    }
   ],
   "source": [
    "print(\"beta_0\\t\\t\", beta_hat_0)\n",
    "print(\"beta_1\\t\\t\", beta_hat_1)\n",
    "print(\"t beta_0\\t\", t_beta_0)\n",
    "print(\"t beta_1\\t\", t_beta_1)\n",
    "print(\"p beta_0\\t\", p_beta_0)\n",
    "print(\"p beta_1\\t\", p_beta_1)\n",
    "print(\"CI beta0 lo\\t\", CI[0][0])\n",
    "print(\"CI beta0 hi\\t\", CI[0][1])\n",
    "print(\"CI beta1 lo\\t\", CI[1][0])\n",
    "print(\"CI beta1 hi\\t\", CI[1][1])\n",
    "print(\"R^2\\t\\t\", R_sq)\n",
    "print(\"adj. R^2\\t\", R_sq_adj)\n",
    "print(\"F-Stat\\t\\t\", F_stat)\n",
    "print(\"LogLik\\t\\t\", LogLik)\n",
    "print(\"AIC\\t\\t\", AIC)\n",
    "print(\"BIC\\t\\t\", BIC)"
   ]
  },
  {
   "cell_type": "code",
   "execution_count": null,
   "outputs": [],
   "source": [],
   "metadata": {
    "collapsed": false
   }
  }
 ],
 "metadata": {
  "kernelspec": {
   "display_name": "base",
   "language": "python",
   "name": "python3"
  },
  "language_info": {
   "codemirror_mode": {
    "name": "ipython",
    "version": 3
   },
   "file_extension": ".py",
   "mimetype": "text/x-python",
   "name": "python",
   "nbconvert_exporter": "python",
   "pygments_lexer": "ipython3",
   "version": "3.12.0"
  },
  "orig_nbformat": 4
 },
 "nbformat": 4,
 "nbformat_minor": 2
}
