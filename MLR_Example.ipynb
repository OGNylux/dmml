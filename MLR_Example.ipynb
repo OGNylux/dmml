{
 "cells": [
  {
   "cell_type": "markdown",
   "metadata": {},
   "source": [
    "# Multiple Lineare Regression - Beispiel"
   ]
  },
  {
   "cell_type": "code",
   "execution_count": 3,
   "metadata": {
    "ExecuteTime": {
     "end_time": "2024-11-04T09:48:10.190079500Z",
     "start_time": "2024-11-04T09:48:08.160588900Z"
    }
   },
   "outputs": [],
   "source": [
    "# Import dstools (absolute path required, please change to your systems settings)\n",
    "import importlib\n",
    "import sys\n",
    "\n",
    "path = '/dstools-master/dstools/__init__.py'\n",
    "name = 'dstools'\n",
    "\n",
    "spec = importlib.util.spec_from_file_location(name, path)\n",
    "module = importlib.util.module_from_spec(spec)\n",
    "sys.modules[spec.name] = module\n",
    "spec.loader.exec_module(module)"
   ]
  },
  {
   "cell_type": "code",
   "execution_count": 4,
   "metadata": {
    "ExecuteTime": {
     "end_time": "2024-11-04T09:48:19.546583200Z",
     "start_time": "2024-11-04T09:48:13.715536600Z"
    }
   },
   "outputs": [],
   "source": [
    "import numpy as np\n",
    "import pandas as pd\n",
    "\n",
    "from sklearn.metrics import mean_squared_error, mean_absolute_error, r2_score\n",
    "from sklearn.model_selection import train_test_split\n",
    "\n",
    "import statsmodels.api as sm\n",
    "import statsmodels.formula.api as smf\n",
    "\n",
    "from dstools.datasets import bodyfat\n",
    "from dstools.tools import quality, vif"
   ]
  },
  {
   "cell_type": "markdown",
   "metadata": {},
   "source": [
    "## Bodyfat"
   ]
  },
  {
   "cell_type": "code",
   "execution_count": 5,
   "metadata": {
    "ExecuteTime": {
     "end_time": "2024-11-04T09:48:19.615336700Z",
     "start_time": "2024-11-04T09:48:19.548584300Z"
    }
   },
   "outputs": [
    {
     "name": "stderr",
     "output_type": "stream",
     "text": [
      "D:\\dstools-master/dstools\\datasets\\bodyfat.py:89: FutureWarning: DataFrame.applymap has been deprecated. Use DataFrame.map instead.\n",
      "  df[['Weight', 'Height']] = df[['Weight', 'Height']].applymap(lambda x: round(x, 2))\n",
      "D:\\dstools-master/dstools\\datasets\\bodyfat.py:90: FutureWarning: DataFrame.applymap has been deprecated. Use DataFrame.map instead.\n",
      "  df[to_convert] = df[to_convert].applymap(lambda x: round(x * 0.39370, 2))\n",
      "D:\\dstools-master/dstools\\datasets\\bodyfat.py:35: FutureWarning: DataFrame.applymap has been deprecated. Use DataFrame.map instead.\n",
      "  df[weights] = df[weights].applymap(lambda x: round(x * 0.45359237, 2))\n",
      "D:\\dstools-master/dstools\\datasets\\bodyfat.py:36: FutureWarning: DataFrame.applymap has been deprecated. Use DataFrame.map instead.\n",
      "  df[lengths] = df[lengths].applymap(lambda x: round(x / 0.39370, 2))\n"
     ]
    },
    {
     "data": {
      "text/plain": "   Density  Percent  Age  Weight  Height   Neck   Chest  Abdomen     Hip  \\\n0   1.0708     12.3   23   69.97  172.09  36.20   93.09    85.19   94.49   \n1   1.0853      6.1   22   78.58  183.52  38.51   93.60    83.01   98.70   \n2   1.0414     25.3   22   69.85  168.28  34.01   95.81    87.91   99.21   \n3   1.0751     10.4   26   83.80  183.52  37.39  101.80    86.41  101.19   \n4   1.0340     28.7   24   83.57  180.98  34.39   97.31   100.00  101.91   \n\n   Thigh   Knee  Ankle  Biceps  Forearm  Wrist  \n0  59.00  37.31  21.89   32.00    27.41  17.09  \n1  58.70  37.31  23.39   30.51    28.91  18.21  \n2  59.59  38.89  24.00   28.80    25.20  16.61  \n3  60.10  37.31  22.81   32.41    29.39  18.21  \n4  63.20  42.19  24.00   32.21    27.71  17.70  ",
      "text/html": "<div>\n<style scoped>\n    .dataframe tbody tr th:only-of-type {\n        vertical-align: middle;\n    }\n\n    .dataframe tbody tr th {\n        vertical-align: top;\n    }\n\n    .dataframe thead th {\n        text-align: right;\n    }\n</style>\n<table border=\"1\" class=\"dataframe\">\n  <thead>\n    <tr style=\"text-align: right;\">\n      <th></th>\n      <th>Density</th>\n      <th>Percent</th>\n      <th>Age</th>\n      <th>Weight</th>\n      <th>Height</th>\n      <th>Neck</th>\n      <th>Chest</th>\n      <th>Abdomen</th>\n      <th>Hip</th>\n      <th>Thigh</th>\n      <th>Knee</th>\n      <th>Ankle</th>\n      <th>Biceps</th>\n      <th>Forearm</th>\n      <th>Wrist</th>\n    </tr>\n  </thead>\n  <tbody>\n    <tr>\n      <th>0</th>\n      <td>1.0708</td>\n      <td>12.3</td>\n      <td>23</td>\n      <td>69.97</td>\n      <td>172.09</td>\n      <td>36.20</td>\n      <td>93.09</td>\n      <td>85.19</td>\n      <td>94.49</td>\n      <td>59.00</td>\n      <td>37.31</td>\n      <td>21.89</td>\n      <td>32.00</td>\n      <td>27.41</td>\n      <td>17.09</td>\n    </tr>\n    <tr>\n      <th>1</th>\n      <td>1.0853</td>\n      <td>6.1</td>\n      <td>22</td>\n      <td>78.58</td>\n      <td>183.52</td>\n      <td>38.51</td>\n      <td>93.60</td>\n      <td>83.01</td>\n      <td>98.70</td>\n      <td>58.70</td>\n      <td>37.31</td>\n      <td>23.39</td>\n      <td>30.51</td>\n      <td>28.91</td>\n      <td>18.21</td>\n    </tr>\n    <tr>\n      <th>2</th>\n      <td>1.0414</td>\n      <td>25.3</td>\n      <td>22</td>\n      <td>69.85</td>\n      <td>168.28</td>\n      <td>34.01</td>\n      <td>95.81</td>\n      <td>87.91</td>\n      <td>99.21</td>\n      <td>59.59</td>\n      <td>38.89</td>\n      <td>24.00</td>\n      <td>28.80</td>\n      <td>25.20</td>\n      <td>16.61</td>\n    </tr>\n    <tr>\n      <th>3</th>\n      <td>1.0751</td>\n      <td>10.4</td>\n      <td>26</td>\n      <td>83.80</td>\n      <td>183.52</td>\n      <td>37.39</td>\n      <td>101.80</td>\n      <td>86.41</td>\n      <td>101.19</td>\n      <td>60.10</td>\n      <td>37.31</td>\n      <td>22.81</td>\n      <td>32.41</td>\n      <td>29.39</td>\n      <td>18.21</td>\n    </tr>\n    <tr>\n      <th>4</th>\n      <td>1.0340</td>\n      <td>28.7</td>\n      <td>24</td>\n      <td>83.57</td>\n      <td>180.98</td>\n      <td>34.39</td>\n      <td>97.31</td>\n      <td>100.00</td>\n      <td>101.91</td>\n      <td>63.20</td>\n      <td>42.19</td>\n      <td>24.00</td>\n      <td>32.21</td>\n      <td>27.71</td>\n      <td>17.70</td>\n    </tr>\n  </tbody>\n</table>\n</div>"
     },
     "execution_count": 5,
     "metadata": {},
     "output_type": "execute_result"
    }
   ],
   "source": [
    "df = bodyfat()\n",
    "df.convert(unit=\"metric\")\n",
    "df.head()"
   ]
  },
  {
   "cell_type": "code",
   "execution_count": 9,
   "metadata": {},
   "outputs": [],
   "source": [
    "# Get X and y for Linear Regression\n",
    "X, y = df.for_regression()"
   ]
  },
  {
   "cell_type": "code",
   "execution_count": null,
   "metadata": {},
   "outputs": [],
   "source": [
    "X.head()"
   ]
  },
  {
   "cell_type": "code",
   "execution_count": 11,
   "metadata": {},
   "outputs": [],
   "source": [
    "# Train-test split\n",
    "X_train, X_test, y_train, y_test = train_test_split(X, y, random_state=147, test_size = 0.2, shuffle=True)"
   ]
  },
  {
   "cell_type": "code",
   "execution_count": null,
   "metadata": {},
   "outputs": [],
   "source": [
    "X_train = sm.add_constant(X_train) \n",
    "res= sm.OLS(y_train, X_train).fit() \n",
    "res.summary()"
   ]
  },
  {
   "cell_type": "code",
   "execution_count": null,
   "metadata": {},
   "outputs": [],
   "source": [
    "vif(X)"
   ]
  },
  {
   "cell_type": "code",
   "execution_count": 14,
   "metadata": {},
   "outputs": [],
   "source": [
    "df_pred = sm.add_constant(X_test)"
   ]
  },
  {
   "cell_type": "code",
   "execution_count": 15,
   "metadata": {},
   "outputs": [],
   "source": [
    "y_pred = res.predict(df_pred)"
   ]
  },
  {
   "cell_type": "code",
   "execution_count": null,
   "metadata": {},
   "outputs": [],
   "source": [
    "r2_score(y_test, y_pred)"
   ]
  }
 ],
 "metadata": {
  "kernelspec": {
   "display_name": "base",
   "language": "python",
   "name": "python3"
  },
  "language_info": {
   "codemirror_mode": {
    "name": "ipython",
    "version": 3
   },
   "file_extension": ".py",
   "mimetype": "text/x-python",
   "name": "python",
   "nbconvert_exporter": "python",
   "pygments_lexer": "ipython3",
   "version": "3.9.12"
  }
 },
 "nbformat": 4,
 "nbformat_minor": 2
}
