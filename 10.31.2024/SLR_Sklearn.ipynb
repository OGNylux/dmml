{
 "cells": [
  {
   "cell_type": "markdown",
   "metadata": {},
   "source": [
    "# Simple Lineare Regression mit `sklearn` berechnen"
   ]
  },
  {
   "cell_type": "code",
   "execution_count": 1,
   "metadata": {
    "ExecuteTime": {
     "end_time": "2024-10-31T13:20:47.691070700Z",
     "start_time": "2024-10-31T13:20:44.756734Z"
    }
   },
   "outputs": [],
   "source": [
    "# Import dstools (absolute path required, please change to your systems settings)\n",
    "import importlib\n",
    "import sys\n",
    "\n",
    "path = '/dstools-master/dstools/__init__.py'\n",
    "name = 'dstools'\n",
    "\n",
    "spec = importlib.util.spec_from_file_location(name, path)\n",
    "module = importlib.util.module_from_spec(spec)\n",
    "sys.modules[spec.name] = module\n",
    "spec.loader.exec_module(module)"
   ]
  },
  {
   "cell_type": "code",
   "execution_count": 2,
   "metadata": {
    "ExecuteTime": {
     "end_time": "2024-10-31T13:20:47.822790Z",
     "start_time": "2024-10-31T13:20:47.693076Z"
    }
   },
   "outputs": [],
   "source": [
    "import pandas as pd\n",
    "import numpy as np\n",
    "\n",
    "from sklearn.linear_model import LinearRegression\n",
    "from sklearn import metrics\n",
    "\n",
    "from dstools.datasets import sunshine"
   ]
  },
  {
   "cell_type": "code",
   "execution_count": 3,
   "metadata": {
    "ExecuteTime": {
     "end_time": "2024-10-31T13:20:50.169237Z",
     "start_time": "2024-10-31T13:20:50.135716700Z"
    }
   },
   "outputs": [],
   "source": [
    "df = sunshine()"
   ]
  },
  {
   "cell_type": "markdown",
   "metadata": {},
   "source": [
    "## Response- und Predictorvariable festlegen\n",
    "\n",
    "`sklearn` benötigt die Predictorvariable(n) $X$ und die Responsevariable $Y$ als Spaltenvektoren. Dazu verwenden wir die `reshape` Methode von numpy:"
   ]
  },
  {
   "cell_type": "code",
   "execution_count": 4,
   "metadata": {
    "ExecuteTime": {
     "end_time": "2024-10-31T13:20:51.886281200Z",
     "start_time": "2024-10-31T13:20:51.874280500Z"
    }
   },
   "outputs": [],
   "source": [
    "X = np.array(df.Sonnenstunden).reshape((-1, 1))\n",
    "Y = np.array(df.Konzertbesucher).reshape((-1, 1))"
   ]
  },
  {
   "cell_type": "markdown",
   "metadata": {},
   "source": [
    "## Berechnung der Koeffizienten\n",
    "\n",
    "Die eigentliche Regression wird mit der Methode `fit()` durchgeführt. Sehen wir uns dann die Koeffizienten der Regression und die fertige Regressionsgleichung an:"
   ]
  },
  {
   "cell_type": "code",
   "execution_count": 5,
   "metadata": {
    "ExecuteTime": {
     "end_time": "2024-10-31T13:20:53.316476900Z",
     "start_time": "2024-10-31T13:20:53.296517Z"
    }
   },
   "outputs": [
    {
     "data": {
      "text/plain": "<IPython.core.display.Latex object>",
      "text/latex": "$\\hat{\\beta}_0$:"
     },
     "metadata": {},
     "output_type": "display_data"
    },
    {
     "data": {
      "text/plain": "<IPython.core.display.Math object>",
      "text/latex": "$\\displaystyle 15.728319304914468$"
     },
     "metadata": {},
     "output_type": "display_data"
    },
    {
     "data": {
      "text/plain": "<IPython.core.display.Latex object>",
      "text/latex": "$\\hat{\\beta}_1$:"
     },
     "metadata": {},
     "output_type": "display_data"
    },
    {
     "data": {
      "text/plain": "<IPython.core.display.Math object>",
      "text/latex": "$\\displaystyle 5.336410534890036$"
     },
     "metadata": {},
     "output_type": "display_data"
    },
    {
     "name": "stdout",
     "output_type": "stream",
     "text": [
      "Regressionsgleichung: \n"
     ]
    },
    {
     "data": {
      "text/plain": "<IPython.core.display.Math object>",
      "text/latex": "$\\displaystyle Y = 15.73 + 5.34 \\cdot X$"
     },
     "metadata": {},
     "output_type": "display_data"
    }
   ],
   "source": [
    "model = LinearRegression().fit(X,Y)\n",
    "\n",
    "from IPython.display import display, Math, Latex\n",
    "beta_0 = model.intercept_[0]\n",
    "beta_1 = model.coef_[0][0]\n",
    "\n",
    "display(Latex(r'$\\hat{\\beta}_0$:')) \n",
    "display(Math(r'{}'.format(beta_0)))\n",
    "display(Latex(r'$\\hat{\\beta}_1$:'))\n",
    "display(Math(r'{}'.format(beta_1)))\n",
    "print(\"Regressionsgleichung: \")\n",
    "display(Math(r'Y = {} + {} \\cdot X'.format(round(beta_0,2),round(beta_1,2))))"
   ]
  },
  {
   "cell_type": "markdown",
   "metadata": {},
   "source": [
    "## R^2\n",
    "\n",
    "Das $R^2$ bekommen wir entweder direkt aus `model`oder mittels `metrics.r2_score`:"
   ]
  },
  {
   "cell_type": "code",
   "execution_count": 6,
   "metadata": {
    "ExecuteTime": {
     "end_time": "2024-10-31T13:20:56.322421100Z",
     "start_time": "2024-10-31T13:20:56.288211Z"
    }
   },
   "outputs": [
    {
     "name": "stdout",
     "output_type": "stream",
     "text": [
      "0.8394574407934109\n",
      "0.8394574407934109\n"
     ]
    }
   ],
   "source": [
    "Y_hat = model.predict(X)\n",
    "\n",
    "print(model.score(X,Y))\n",
    "print(metrics.r2_score(Y, Y_hat))"
   ]
  },
  {
   "cell_type": "markdown",
   "metadata": {},
   "source": [
    "## Mean Squared Error"
   ]
  },
  {
   "cell_type": "code",
   "execution_count": 7,
   "metadata": {
    "ExecuteTime": {
     "end_time": "2024-10-31T13:21:01.349847800Z",
     "start_time": "2024-10-31T13:21:01.332847300Z"
    }
   },
   "outputs": [
    {
     "data": {
      "text/plain": "np.float64(15.67045886505566)"
     },
     "execution_count": 7,
     "metadata": {},
     "output_type": "execute_result"
    }
   ],
   "source": [
    "metrics.mean_squared_error(Y,Y_hat)"
   ]
  },
  {
   "cell_type": "code",
   "execution_count": null,
   "outputs": [],
   "source": [],
   "metadata": {
    "collapsed": false
   }
  }
 ],
 "metadata": {
  "kernelspec": {
   "display_name": "base",
   "language": "python",
   "name": "python3"
  },
  "language_info": {
   "codemirror_mode": {
    "name": "ipython",
    "version": 3
   },
   "file_extension": ".py",
   "mimetype": "text/x-python",
   "name": "python",
   "nbconvert_exporter": "python",
   "pygments_lexer": "ipython3",
   "version": "3.9.12"
  },
  "orig_nbformat": 4
 },
 "nbformat": 4,
 "nbformat_minor": 2
}
