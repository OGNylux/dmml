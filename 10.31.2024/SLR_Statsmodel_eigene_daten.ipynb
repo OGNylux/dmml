{
 "cells": [
  {
   "cell_type": "markdown",
   "metadata": {},
   "source": [
    "# Simple Lineare Regression mit `statsmodels` berechnen"
   ]
  },
  {
   "cell_type": "code",
   "execution_count": 6,
   "metadata": {
    "ExecuteTime": {
     "end_time": "2024-10-31T13:39:58.375159600Z",
     "start_time": "2024-10-31T13:39:54.993272200Z"
    }
   },
   "outputs": [],
   "source": [
    "# Import dstools (absolute path required, please change to your systems settings)\n",
    "import importlib\n",
    "import sys\n",
    "\n",
    "path = '/dstools-master/dstools/__init__.py'\n",
    "name = 'dstools'\n",
    "\n",
    "spec = importlib.util.spec_from_file_location(name, path)\n",
    "module = importlib.util.module_from_spec(spec)\n",
    "sys.modules[spec.name] = module\n",
    "spec.loader.exec_module(module)"
   ]
  },
  {
   "cell_type": "code",
   "execution_count": 7,
   "metadata": {
    "ExecuteTime": {
     "end_time": "2024-10-31T13:39:58.736870300Z",
     "start_time": "2024-10-31T13:39:58.378160100Z"
    }
   },
   "outputs": [],
   "source": [
    "import pandas as pd\n",
    "import numpy as np\n",
    "import statsmodels as sm\n",
    "import statsmodels.formula.api as smf\n",
    "\n",
    "from dstools.datasets import sunshine"
   ]
  },
  {
   "cell_type": "code",
   "execution_count": 9,
   "metadata": {
    "ExecuteTime": {
     "end_time": "2024-10-31T13:40:13.142442700Z",
     "start_time": "2024-10-31T13:40:13.128013300Z"
    }
   },
   "outputs": [
    {
     "name": "stdout",
     "output_type": "stream",
     "text": [
      "      ID     TV  Radio  Newspaper  Sales\n",
      "0      1  230.1   37.8       69.2   22.1\n",
      "1      2   44.5   39.3       45.1   10.4\n",
      "2      3   17.2   45.9       69.3    9.3\n",
      "3      4  151.5   41.3       58.5   18.5\n",
      "4      5  180.8   10.8       58.4   12.9\n",
      "..   ...    ...    ...        ...    ...\n",
      "195  196   38.2    3.7       13.8    7.6\n",
      "196  197   94.2    4.9        8.1    9.7\n",
      "197  198  177.0    9.3        6.4   12.8\n",
      "198  199  283.6   42.0       66.2   25.5\n",
      "199  200  232.1    8.6        8.7   13.4\n",
      "\n",
      "[200 rows x 5 columns]\n"
     ]
    }
   ],
   "source": [
    "# Datensatz laden\n",
    "import csv\n",
    "df = pd.read_csv('advertising.csv')\n",
    "print(df)"
   ]
  },
  {
   "cell_type": "markdown",
   "metadata": {},
   "source": [
    "## Response- und Predictorvariable festlegen\n",
    "\n",
    "Eine bequemere Art die lineare Regression durchzuführen ist das Paket `statsmodels` zu verwenden, wie schon die wesentlich kompaktere und übersichtlichere Syntax zeigt. Mit `smf` können wir eine direkte Formelschreibweise (wie es auch in R möglich ist) verwenden."
   ]
  },
  {
   "cell_type": "code",
   "execution_count": 10,
   "metadata": {
    "ExecuteTime": {
     "end_time": "2024-10-31T13:41:27.554930700Z",
     "start_time": "2024-10-31T13:41:27.526407600Z"
    }
   },
   "outputs": [
    {
     "name": "stdout",
     "output_type": "stream",
     "text": [
      "                            OLS Regression Results                            \n",
      "==============================================================================\n",
      "Dep. Variable:                     TV   R-squared:                       0.612\n",
      "Model:                            OLS   Adj. R-squared:                  0.610\n",
      "Method:                 Least Squares   F-statistic:                     312.1\n",
      "Date:                Thu, 31 Oct 2024   Prob (F-statistic):           1.47e-42\n",
      "Time:                        14:41:27   Log-Likelihood:                -1079.2\n",
      "No. Observations:                 200   AIC:                             2162.\n",
      "Df Residuals:                     198   BIC:                             2169.\n",
      "Df Model:                           1                                         \n",
      "Covariance Type:            nonrobust                                         \n",
      "==============================================================================\n",
      "                 coef    std err          t      P>|t|      [0.025      0.975]\n",
      "------------------------------------------------------------------------------\n",
      "Intercept    -33.4502     10.897     -3.070      0.002     -54.939     -11.961\n",
      "Sales         12.8717      0.729     17.668      0.000      11.435      14.308\n",
      "==============================================================================\n",
      "Omnibus:                       21.952   Durbin-Watson:                   1.973\n",
      "Prob(Omnibus):                  0.000   Jarque-Bera (JB):               26.224\n",
      "Skew:                           0.882   Prob(JB):                     2.02e-06\n",
      "Kurtosis:                       3.193   Cond. No.                         43.2\n",
      "==============================================================================\n",
      "\n",
      "Notes:\n",
      "[1] Standard Errors assume that the covariance matrix of the errors is correctly specified.\n"
     ]
    }
   ],
   "source": [
    "results = smf.ols('TV ~ Sales', data=df).fit()\n",
    "\n",
    "print(results.summary())"
   ]
  },
  {
   "cell_type": "markdown",
   "metadata": {},
   "source": [
    "## Zusammenfassung der Werte\n",
    "\n",
    "Im Vergleich mit der Zusammenfassung der manuellen Berechnung sehen wir großteils Übereinstimmung. Etwas später werden wir die Differenz bei AIC und BIC erklären."
   ]
  },
  {
   "cell_type": "code",
   "execution_count": 15,
   "metadata": {
    "ExecuteTime": {
     "end_time": "2024-10-31T13:19:55.261145900Z",
     "start_time": "2024-10-31T13:19:55.249732600Z"
    }
   },
   "outputs": [
    {
     "name": "stdout",
     "output_type": "stream",
     "text": [
      "beta_0\t\t 15.728319304914468\n",
      "beta_1\t\t 5.3364105348900335\n",
      "t beta_0\t 3.5446280536005523\n",
      "t beta_1\t 5.601184467186704\n",
      "p beta_0\t 0.012150695835125902\n",
      "p beta_1\t 0.001379362627713965\n",
      "CI beta0 lo\t 4.870815972034617\n",
      "CI beta0 hi\t 26.58582263779432\n",
      "CI beta1 lo\t 3.0051668029806353\n",
      "CI beta1 hi\t 7.667654266799431\n",
      "R^2\t\t 0.8394574407934108\n",
      "adj. R^2\t 0.8127003475923126\n",
      "F-Stat\t\t 31.373267435453595\n",
      "LogLik\t\t -22.358617621507904\n",
      "AIC\t\t 48.71723524301581\n",
      "BIC\t\t 48.876118326375476\n"
     ]
    },
    {
     "name": "stderr",
     "output_type": "stream",
     "text": [
      "C:\\Users\\a3445\\AppData\\Local\\Temp\\ipykernel_768\\1259289454.py:1: FutureWarning: Series.__getitem__ treating keys as positions is deprecated. In a future version, integer keys will always be treated as labels (consistent with DataFrame behavior). To access a value by position, use `ser.iloc[pos]`\n",
      "  print(\"beta_0\\t\\t\", results.params[0])\n",
      "C:\\Users\\a3445\\AppData\\Local\\Temp\\ipykernel_768\\1259289454.py:2: FutureWarning: Series.__getitem__ treating keys as positions is deprecated. In a future version, integer keys will always be treated as labels (consistent with DataFrame behavior). To access a value by position, use `ser.iloc[pos]`\n",
      "  print(\"beta_1\\t\\t\", results.params[1])\n",
      "C:\\Users\\a3445\\AppData\\Local\\Temp\\ipykernel_768\\1259289454.py:3: FutureWarning: Series.__getitem__ treating keys as positions is deprecated. In a future version, integer keys will always be treated as labels (consistent with DataFrame behavior). To access a value by position, use `ser.iloc[pos]`\n",
      "  print(\"t beta_0\\t\", results.tvalues[0])\n",
      "C:\\Users\\a3445\\AppData\\Local\\Temp\\ipykernel_768\\1259289454.py:4: FutureWarning: Series.__getitem__ treating keys as positions is deprecated. In a future version, integer keys will always be treated as labels (consistent with DataFrame behavior). To access a value by position, use `ser.iloc[pos]`\n",
      "  print(\"t beta_1\\t\", results.tvalues[1])\n",
      "C:\\Users\\a3445\\AppData\\Local\\Temp\\ipykernel_768\\1259289454.py:5: FutureWarning: Series.__getitem__ treating keys as positions is deprecated. In a future version, integer keys will always be treated as labels (consistent with DataFrame behavior). To access a value by position, use `ser.iloc[pos]`\n",
      "  print(\"p beta_0\\t\", results.pvalues[0])\n",
      "C:\\Users\\a3445\\AppData\\Local\\Temp\\ipykernel_768\\1259289454.py:6: FutureWarning: Series.__getitem__ treating keys as positions is deprecated. In a future version, integer keys will always be treated as labels (consistent with DataFrame behavior). To access a value by position, use `ser.iloc[pos]`\n",
      "  print(\"p beta_1\\t\", results.pvalues[1])\n"
     ]
    }
   ],
   "source": [
    "print(\"beta_0\\t\\t\", results.params[0])\n",
    "print(\"beta_1\\t\\t\", results.params[1])\n",
    "print(\"t beta_0\\t\", results.tvalues[0])\n",
    "print(\"t beta_1\\t\", results.tvalues[1])\n",
    "print(\"p beta_0\\t\", results.pvalues[0])\n",
    "print(\"p beta_1\\t\", results.pvalues[1])\n",
    "print(\"CI beta0 lo\\t\", results.conf_int().values[0][0])\n",
    "print(\"CI beta0 hi\\t\", results.conf_int().values[0][1])\n",
    "print(\"CI beta1 lo\\t\", results.conf_int().values[1][0])\n",
    "print(\"CI beta1 hi\\t\", results.conf_int().values[1][1])\n",
    "print(\"R^2\\t\\t\", results.rsquared)\n",
    "print(\"adj. R^2\\t\", results.rsquared_adj)\n",
    "print(\"F-Stat\\t\\t\", results.fvalue)\n",
    "print(\"LogLik\\t\\t\", results.llf)\n",
    "print(\"AIC\\t\\t\", results.aic)\n",
    "print(\"BIC\\t\\t\", results.bic)"
   ]
  },
  {
   "cell_type": "markdown",
   "metadata": {},
   "source": [
    "# Gemeinsamkeiten und Unterschiede zu R\n",
    "\n",
    "Wir sehen uns nun die lineare Regression in R an:\n",
    "\n",
    "<a href=\"http://rstudio.bds.fhstp.ac.at\" target=\"new\">R Studio Server Pro</a>"
   ]
  },
  {
   "cell_type": "markdown",
   "metadata": {},
   "source": [
    "## Residuen\n",
    "\n",
    "Sehen wir uns an, wie Python standardmässig die Quartile der Residuen ausgibt. Dazu sortieren wir sie zunächst, um ein besseres Verständnis zu haben:"
   ]
  },
  {
   "cell_type": "code",
   "execution_count": 7,
   "metadata": {
    "ExecuteTime": {
     "end_time": "2024-10-31T13:06:03.396422Z",
     "start_time": "2024-10-31T13:06:03.387694500Z"
    }
   },
   "outputs": [],
   "source": [
    "residuals = results.resid"
   ]
  },
  {
   "cell_type": "code",
   "execution_count": 8,
   "metadata": {
    "ExecuteTime": {
     "end_time": "2024-10-31T13:06:04.147508500Z",
     "start_time": "2024-10-31T13:06:04.138182100Z"
    }
   },
   "outputs": [
    {
     "data": {
      "text/plain": "0   -5.213141\n1   -3.867499\n2   -2.809449\n3   -2.804833\n4    0.849525\n5    3.921423\n6    3.930654\n7    5.993321\ndtype: float64"
     },
     "execution_count": 8,
     "metadata": {},
     "output_type": "execute_result"
    }
   ],
   "source": [
    "residuals.values.sort(axis=0)\n",
    "residuals"
   ]
  },
  {
   "cell_type": "code",
   "execution_count": 9,
   "metadata": {
    "ExecuteTime": {
     "end_time": "2024-10-31T13:06:06.165818900Z",
     "start_time": "2024-10-31T13:06:06.156123300Z"
    }
   },
   "outputs": [
    {
     "data": {
      "text/plain": "array([-5.21314146, -3.07396144, -0.97765409,  3.92373065,  5.99332066])"
     },
     "execution_count": 9,
     "metadata": {},
     "output_type": "execute_result"
    }
   ],
   "source": [
    "np.quantile(residuals,[.0,.25,.5,.75,1])"
   ]
  },
  {
   "cell_type": "markdown",
   "metadata": {},
   "source": [
    "Die standardmässige Ausgabe liefert das gleiche Ergebnis wie der Standard bei R. Aber auch in Python gibt es mehrere Optionen. Die Option `type=2` aus R ist in Python `interpolation='midpoint'`:"
   ]
  },
  {
   "cell_type": "code",
   "execution_count": 10,
   "metadata": {
    "ExecuteTime": {
     "end_time": "2024-10-31T13:06:09.317443600Z",
     "start_time": "2024-10-31T13:06:09.280462500Z"
    }
   },
   "outputs": [
    {
     "data": {
      "text/plain": "array([-3.33847407, -0.97765409,  3.92603856])"
     },
     "execution_count": 10,
     "metadata": {},
     "output_type": "execute_result"
    }
   ],
   "source": [
    "np.quantile(residuals,[.25,.5,.75], method='midpoint') # R type=2,5"
   ]
  },
  {
   "cell_type": "markdown",
   "metadata": {},
   "source": [
    "## AIC, BIC in Python Statsmodel\n",
    "\n",
    "Statsmodel hat eine andere Art das AIC zu berechnen. In `linear_model.py` ist die Funktion `aic()` definiert als\n",
    "\n",
    "```python\n",
    "    def aic(self):\n",
    "        return -2 * self.llf + 2 * (self.df_model + self.k_constant)\n",
    "```\n",
    "\n",
    "wobei `df.model` die Freiheitsgrade des Modells sind (also in dem Fall 1, da wir nur eine unabhängige Variable haben) und `k.constant` ist für die lineare Regression = 1. `llf` ist der LogLikelihood Wert und stimmt mit dem von R überein. Wir haben daher als Unterschied: \n",
    "\n",
    "$$AIC_R = -2\\cdot LL + 2 \\cdot 3$$\n",
    "$$AIC_{Py} = -2 \\cdot LL + 2 \\cdot 2$$\n",
    "\n",
    "Das `self.df_model` wird berechnet als\n",
    "\n",
    "```python\n",
    "self._df_model = float(self.rank - self.k_constant)\n",
    "```\n",
    "\n",
    "wobei hier `rank` der Rang der Matrix der Singulärwerte von $X$ ist, in unserem Fall = 2. Würde Python für das AIC statt `self.df_model` den Wert `df.rank` verwenden, hätte man das gleiche Ergebnis wie in R."
   ]
  },
  {
   "cell_type": "code",
   "execution_count": null,
   "outputs": [],
   "source": [],
   "metadata": {
    "collapsed": false
   }
  }
 ],
 "metadata": {
  "kernelspec": {
   "display_name": "base",
   "language": "python",
   "name": "python3"
  },
  "language_info": {
   "codemirror_mode": {
    "name": "ipython",
    "version": 3
   },
   "file_extension": ".py",
   "mimetype": "text/x-python",
   "name": "python",
   "nbconvert_exporter": "python",
   "pygments_lexer": "ipython3",
   "version": "3.9.12"
  },
  "orig_nbformat": 4
 },
 "nbformat": 4,
 "nbformat_minor": 2
}
