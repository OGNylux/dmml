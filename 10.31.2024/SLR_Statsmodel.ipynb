{
 "cells": [
  {
   "cell_type": "markdown",
   "metadata": {},
   "source": [
    "# Simple Lineare Regression mit `statsmodels` berechnen"
   ]
  },
  {
   "cell_type": "code",
   "execution_count": 11,
   "metadata": {
    "ExecuteTime": {
     "end_time": "2024-10-31T13:19:47.756596600Z",
     "start_time": "2024-10-31T13:19:47.748171500Z"
    }
   },
   "outputs": [],
   "source": [
    "# Import dstools (absolute path required, please change to your systems settings)\n",
    "import importlib\n",
    "import sys\n",
    "\n",
    "path = '/dstools-master/dstools/__init__.py'\n",
    "name = 'dstools'\n",
    "\n",
    "spec = importlib.util.spec_from_file_location(name, path)\n",
    "module = importlib.util.module_from_spec(spec)\n",
    "sys.modules[spec.name] = module\n",
    "spec.loader.exec_module(module)"
   ]
  },
  {
   "cell_type": "code",
   "execution_count": 12,
   "metadata": {
    "ExecuteTime": {
     "end_time": "2024-10-31T13:19:49.255574500Z",
     "start_time": "2024-10-31T13:19:49.247890700Z"
    }
   },
   "outputs": [],
   "source": [
    "import pandas as pd\n",
    "import numpy as np\n",
    "import statsmodels as sm\n",
    "import statsmodels.formula.api as smf\n",
    "\n",
    "from dstools.datasets import sunshine"
   ]
  },
  {
   "cell_type": "code",
   "execution_count": 13,
   "metadata": {
    "ExecuteTime": {
     "end_time": "2024-10-31T13:19:51.122762300Z",
     "start_time": "2024-10-31T13:19:51.111539700Z"
    }
   },
   "outputs": [],
   "source": [
    "# Datensatz laden\n",
    "df = sunshine()"
   ]
  },
  {
   "cell_type": "markdown",
   "metadata": {},
   "source": [
    "## Response- und Predictorvariable festlegen\n",
    "\n",
    "Eine bequemere Art die lineare Regression durchzuführen ist das Paket `statsmodels` zu verwenden, wie schon die wesentlich kompaktere und übersichtlichere Syntax zeigt. Mit `smf` können wir eine direkte Formelschreibweise (wie es auch in R möglich ist) verwenden."
   ]
  },
  {
   "cell_type": "code",
   "execution_count": 14,
   "metadata": {
    "ExecuteTime": {
     "end_time": "2024-10-31T13:19:52.934614200Z",
     "start_time": "2024-10-31T13:19:52.914538600Z"
    }
   },
   "outputs": [
    {
     "name": "stdout",
     "output_type": "stream",
     "text": [
      "                            OLS Regression Results                            \n",
      "==============================================================================\n",
      "Dep. Variable:        Konzertbesucher   R-squared:                       0.839\n",
      "Model:                            OLS   Adj. R-squared:                  0.813\n",
      "Method:                 Least Squares   F-statistic:                     31.37\n",
      "Date:                Thu, 31 Oct 2024   Prob (F-statistic):            0.00138\n",
      "Time:                        14:19:52   Log-Likelihood:                -22.359\n",
      "No. Observations:                   8   AIC:                             48.72\n",
      "Df Residuals:                       6   BIC:                             48.88\n",
      "Df Model:                           1                                         \n",
      "Covariance Type:            nonrobust                                         \n",
      "=================================================================================\n",
      "                    coef    std err          t      P>|t|      [0.025      0.975]\n",
      "---------------------------------------------------------------------------------\n",
      "Intercept        15.7283      4.437      3.545      0.012       4.871      26.586\n",
      "Sonnenstunden     5.3364      0.953      5.601      0.001       3.005       7.668\n",
      "==============================================================================\n",
      "Omnibus:                        2.454   Durbin-Watson:                   3.403\n",
      "Prob(Omnibus):                  0.293   Jarque-Bera (JB):                0.846\n",
      "Skew:                           0.188   Prob(JB):                        0.655\n",
      "Kurtosis:                       1.452   Cond. No.                         13.3\n",
      "==============================================================================\n",
      "\n",
      "Notes:\n",
      "[1] Standard Errors assume that the covariance matrix of the errors is correctly specified.\n"
     ]
    },
    {
     "name": "stderr",
     "output_type": "stream",
     "text": [
      "D:\\Uni\\5. Semester\\Data Mining\\venv\\Lib\\site-packages\\scipy\\stats\\_axis_nan_policy.py:418: UserWarning: `kurtosistest` p-value may be inaccurate with fewer than 20 observations; only n=8 observations were given.\n",
      "  return hypotest_fun_in(*args, **kwds)\n"
     ]
    }
   ],
   "source": [
    "results = smf.ols('Konzertbesucher ~ Sonnenstunden', data=df).fit()\n",
    "\n",
    "print(results.summary())"
   ]
  },
  {
   "cell_type": "markdown",
   "metadata": {},
   "source": [
    "## Zusammenfassung der Werte\n",
    "\n",
    "Im Vergleich mit der Zusammenfassung der manuellen Berechnung sehen wir großteils Übereinstimmung. Etwas später werden wir die Differenz bei AIC und BIC erklären."
   ]
  },
  {
   "cell_type": "code",
   "execution_count": 15,
   "metadata": {
    "ExecuteTime": {
     "end_time": "2024-10-31T13:19:55.261145900Z",
     "start_time": "2024-10-31T13:19:55.249732600Z"
    }
   },
   "outputs": [
    {
     "name": "stdout",
     "output_type": "stream",
     "text": [
      "beta_0\t\t 15.728319304914468\n",
      "beta_1\t\t 5.3364105348900335\n",
      "t beta_0\t 3.5446280536005523\n",
      "t beta_1\t 5.601184467186704\n",
      "p beta_0\t 0.012150695835125902\n",
      "p beta_1\t 0.001379362627713965\n",
      "CI beta0 lo\t 4.870815972034617\n",
      "CI beta0 hi\t 26.58582263779432\n",
      "CI beta1 lo\t 3.0051668029806353\n",
      "CI beta1 hi\t 7.667654266799431\n",
      "R^2\t\t 0.8394574407934108\n",
      "adj. R^2\t 0.8127003475923126\n",
      "F-Stat\t\t 31.373267435453595\n",
      "LogLik\t\t -22.358617621507904\n",
      "AIC\t\t 48.71723524301581\n",
      "BIC\t\t 48.876118326375476\n"
     ]
    },
    {
     "name": "stderr",
     "output_type": "stream",
     "text": [
      "C:\\Users\\a3445\\AppData\\Local\\Temp\\ipykernel_768\\1259289454.py:1: FutureWarning: Series.__getitem__ treating keys as positions is deprecated. In a future version, integer keys will always be treated as labels (consistent with DataFrame behavior). To access a value by position, use `ser.iloc[pos]`\n",
      "  print(\"beta_0\\t\\t\", results.params[0])\n",
      "C:\\Users\\a3445\\AppData\\Local\\Temp\\ipykernel_768\\1259289454.py:2: FutureWarning: Series.__getitem__ treating keys as positions is deprecated. In a future version, integer keys will always be treated as labels (consistent with DataFrame behavior). To access a value by position, use `ser.iloc[pos]`\n",
      "  print(\"beta_1\\t\\t\", results.params[1])\n",
      "C:\\Users\\a3445\\AppData\\Local\\Temp\\ipykernel_768\\1259289454.py:3: FutureWarning: Series.__getitem__ treating keys as positions is deprecated. In a future version, integer keys will always be treated as labels (consistent with DataFrame behavior). To access a value by position, use `ser.iloc[pos]`\n",
      "  print(\"t beta_0\\t\", results.tvalues[0])\n",
      "C:\\Users\\a3445\\AppData\\Local\\Temp\\ipykernel_768\\1259289454.py:4: FutureWarning: Series.__getitem__ treating keys as positions is deprecated. In a future version, integer keys will always be treated as labels (consistent with DataFrame behavior). To access a value by position, use `ser.iloc[pos]`\n",
      "  print(\"t beta_1\\t\", results.tvalues[1])\n",
      "C:\\Users\\a3445\\AppData\\Local\\Temp\\ipykernel_768\\1259289454.py:5: FutureWarning: Series.__getitem__ treating keys as positions is deprecated. In a future version, integer keys will always be treated as labels (consistent with DataFrame behavior). To access a value by position, use `ser.iloc[pos]`\n",
      "  print(\"p beta_0\\t\", results.pvalues[0])\n",
      "C:\\Users\\a3445\\AppData\\Local\\Temp\\ipykernel_768\\1259289454.py:6: FutureWarning: Series.__getitem__ treating keys as positions is deprecated. In a future version, integer keys will always be treated as labels (consistent with DataFrame behavior). To access a value by position, use `ser.iloc[pos]`\n",
      "  print(\"p beta_1\\t\", results.pvalues[1])\n"
     ]
    }
   ],
   "source": [
    "print(\"beta_0\\t\\t\", results.params[0])\n",
    "print(\"beta_1\\t\\t\", results.params[1])\n",
    "print(\"t beta_0\\t\", results.tvalues[0])\n",
    "print(\"t beta_1\\t\", results.tvalues[1])\n",
    "print(\"p beta_0\\t\", results.pvalues[0])\n",
    "print(\"p beta_1\\t\", results.pvalues[1])\n",
    "print(\"CI beta0 lo\\t\", results.conf_int().values[0][0])\n",
    "print(\"CI beta0 hi\\t\", results.conf_int().values[0][1])\n",
    "print(\"CI beta1 lo\\t\", results.conf_int().values[1][0])\n",
    "print(\"CI beta1 hi\\t\", results.conf_int().values[1][1])\n",
    "print(\"R^2\\t\\t\", results.rsquared)\n",
    "print(\"adj. R^2\\t\", results.rsquared_adj)\n",
    "print(\"F-Stat\\t\\t\", results.fvalue)\n",
    "print(\"LogLik\\t\\t\", results.llf)\n",
    "print(\"AIC\\t\\t\", results.aic)\n",
    "print(\"BIC\\t\\t\", results.bic)"
   ]
  },
  {
   "cell_type": "markdown",
   "metadata": {},
   "source": [
    "# Gemeinsamkeiten und Unterschiede zu R\n",
    "\n",
    "Wir sehen uns nun die lineare Regression in R an:\n",
    "\n",
    "<a href=\"http://rstudio.bds.fhstp.ac.at\" target=\"new\">R Studio Server Pro</a>"
   ]
  },
  {
   "cell_type": "markdown",
   "metadata": {},
   "source": [
    "## Residuen\n",
    "\n",
    "Sehen wir uns an, wie Python standardmässig die Quartile der Residuen ausgibt. Dazu sortieren wir sie zunächst, um ein besseres Verständnis zu haben:"
   ]
  },
  {
   "cell_type": "code",
   "execution_count": 7,
   "metadata": {
    "ExecuteTime": {
     "end_time": "2024-10-31T13:06:03.396422Z",
     "start_time": "2024-10-31T13:06:03.387694500Z"
    }
   },
   "outputs": [],
   "source": [
    "residuals = results.resid"
   ]
  },
  {
   "cell_type": "code",
   "execution_count": 8,
   "metadata": {
    "ExecuteTime": {
     "end_time": "2024-10-31T13:06:04.147508500Z",
     "start_time": "2024-10-31T13:06:04.138182100Z"
    }
   },
   "outputs": [
    {
     "data": {
      "text/plain": "0   -5.213141\n1   -3.867499\n2   -2.809449\n3   -2.804833\n4    0.849525\n5    3.921423\n6    3.930654\n7    5.993321\ndtype: float64"
     },
     "execution_count": 8,
     "metadata": {},
     "output_type": "execute_result"
    }
   ],
   "source": [
    "residuals.values.sort(axis=0)\n",
    "residuals"
   ]
  },
  {
   "cell_type": "code",
   "execution_count": 9,
   "metadata": {
    "ExecuteTime": {
     "end_time": "2024-10-31T13:06:06.165818900Z",
     "start_time": "2024-10-31T13:06:06.156123300Z"
    }
   },
   "outputs": [
    {
     "data": {
      "text/plain": "array([-5.21314146, -3.07396144, -0.97765409,  3.92373065,  5.99332066])"
     },
     "execution_count": 9,
     "metadata": {},
     "output_type": "execute_result"
    }
   ],
   "source": [
    "np.quantile(residuals,[.0,.25,.5,.75,1])"
   ]
  },
  {
   "cell_type": "markdown",
   "metadata": {},
   "source": [
    "Die standardmässige Ausgabe liefert das gleiche Ergebnis wie der Standard bei R. Aber auch in Python gibt es mehrere Optionen. Die Option `type=2` aus R ist in Python `interpolation='midpoint'`:"
   ]
  },
  {
   "cell_type": "code",
   "execution_count": 10,
   "metadata": {
    "ExecuteTime": {
     "end_time": "2024-10-31T13:06:09.317443600Z",
     "start_time": "2024-10-31T13:06:09.280462500Z"
    }
   },
   "outputs": [
    {
     "data": {
      "text/plain": "array([-3.33847407, -0.97765409,  3.92603856])"
     },
     "execution_count": 10,
     "metadata": {},
     "output_type": "execute_result"
    }
   ],
   "source": [
    "np.quantile(residuals,[.25,.5,.75], method='midpoint') # R type=2,5"
   ]
  },
  {
   "cell_type": "markdown",
   "metadata": {},
   "source": [
    "## AIC, BIC in Python Statsmodel\n",
    "\n",
    "Statsmodel hat eine andere Art das AIC zu berechnen. In `linear_model.py` ist die Funktion `aic()` definiert als\n",
    "\n",
    "```python\n",
    "    def aic(self):\n",
    "        return -2 * self.llf + 2 * (self.df_model + self.k_constant)\n",
    "```\n",
    "\n",
    "wobei `df.model` die Freiheitsgrade des Modells sind (also in dem Fall 1, da wir nur eine unabhängige Variable haben) und `k.constant` ist für die lineare Regression = 1. `llf` ist der LogLikelihood Wert und stimmt mit dem von R überein. Wir haben daher als Unterschied: \n",
    "\n",
    "$$AIC_R = -2\\cdot LL + 2 \\cdot 3$$\n",
    "$$AIC_{Py} = -2 \\cdot LL + 2 \\cdot 2$$\n",
    "\n",
    "Das `self.df_model` wird berechnet als\n",
    "\n",
    "```python\n",
    "self._df_model = float(self.rank - self.k_constant)\n",
    "```\n",
    "\n",
    "wobei hier `rank` der Rang der Matrix der Singulärwerte von $X$ ist, in unserem Fall = 2. Würde Python für das AIC statt `self.df_model` den Wert `df.rank` verwenden, hätte man das gleiche Ergebnis wie in R."
   ]
  },
  {
   "cell_type": "code",
   "execution_count": null,
   "outputs": [],
   "source": [],
   "metadata": {
    "collapsed": false
   }
  }
 ],
 "metadata": {
  "kernelspec": {
   "display_name": "base",
   "language": "python",
   "name": "python3"
  },
  "language_info": {
   "codemirror_mode": {
    "name": "ipython",
    "version": 3
   },
   "file_extension": ".py",
   "mimetype": "text/x-python",
   "name": "python",
   "nbconvert_exporter": "python",
   "pygments_lexer": "ipython3",
   "version": "3.9.12"
  },
  "orig_nbformat": 4
 },
 "nbformat": 4,
 "nbformat_minor": 2
}
