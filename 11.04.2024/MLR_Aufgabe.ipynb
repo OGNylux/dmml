{
 "cells": [
  {
   "cell_type": "code",
   "execution_count": 1,
   "metadata": {
    "ExecuteTime": {
     "end_time": "2024-11-04T09:32:50.718993400Z",
     "start_time": "2024-11-04T09:32:47.914776400Z"
    }
   },
   "outputs": [],
   "source": [
    "# Import dstools (absolute path required, please change to your systems settings)\n",
    "import importlib\n",
    "import sys\n",
    "\n",
    "path = '/dstools-master/dstools/__init__.py'\n",
    "name = 'dstools'\n",
    "\n",
    "spec = importlib.util.spec_from_file_location(name, path)\n",
    "module = importlib.util.module_from_spec(spec)\n",
    "sys.modules[spec.name] = module\n",
    "spec.loader.exec_module(module)"
   ]
  },
  {
   "cell_type": "markdown",
   "metadata": {},
   "source": [
    "## Daten laden"
   ]
  },
  {
   "cell_type": "code",
   "execution_count": 2,
   "metadata": {
    "ExecuteTime": {
     "end_time": "2024-11-04T09:32:50.727358800Z",
     "start_time": "2024-11-04T09:32:50.719996500Z"
    }
   },
   "outputs": [],
   "source": [
    "import pandas as pd\n",
    "import numpy as np\n",
    "\n",
    "from dstools.datasets import bodyfat\n",
    "from dstools.tools import quality, vif"
   ]
  },
  {
   "cell_type": "code",
   "execution_count": 15,
   "metadata": {
    "ExecuteTime": {
     "end_time": "2024-11-04T09:57:40.792999Z",
     "start_time": "2024-11-04T09:57:40.774050600Z"
    }
   },
   "outputs": [
    {
     "data": {
      "text/plain": "   ID     TV  Radio  Newspaper  Sales\n0   1  230.1   37.8       69.2   22.1\n1   2   44.5   39.3       45.1   10.4\n2   3   17.2   45.9       69.3    9.3\n3   4  151.5   41.3       58.5   18.5\n4   5  180.8   10.8       58.4   12.9",
      "text/html": "<div>\n<style scoped>\n    .dataframe tbody tr th:only-of-type {\n        vertical-align: middle;\n    }\n\n    .dataframe tbody tr th {\n        vertical-align: top;\n    }\n\n    .dataframe thead th {\n        text-align: right;\n    }\n</style>\n<table border=\"1\" class=\"dataframe\">\n  <thead>\n    <tr style=\"text-align: right;\">\n      <th></th>\n      <th>ID</th>\n      <th>TV</th>\n      <th>Radio</th>\n      <th>Newspaper</th>\n      <th>Sales</th>\n    </tr>\n  </thead>\n  <tbody>\n    <tr>\n      <th>0</th>\n      <td>1</td>\n      <td>230.1</td>\n      <td>37.8</td>\n      <td>69.2</td>\n      <td>22.1</td>\n    </tr>\n    <tr>\n      <th>1</th>\n      <td>2</td>\n      <td>44.5</td>\n      <td>39.3</td>\n      <td>45.1</td>\n      <td>10.4</td>\n    </tr>\n    <tr>\n      <th>2</th>\n      <td>3</td>\n      <td>17.2</td>\n      <td>45.9</td>\n      <td>69.3</td>\n      <td>9.3</td>\n    </tr>\n    <tr>\n      <th>3</th>\n      <td>4</td>\n      <td>151.5</td>\n      <td>41.3</td>\n      <td>58.5</td>\n      <td>18.5</td>\n    </tr>\n    <tr>\n      <th>4</th>\n      <td>5</td>\n      <td>180.8</td>\n      <td>10.8</td>\n      <td>58.4</td>\n      <td>12.9</td>\n    </tr>\n  </tbody>\n</table>\n</div>"
     },
     "execution_count": 15,
     "metadata": {},
     "output_type": "execute_result"
    }
   ],
   "source": [
    "df = pd.read_csv('advertising.csv')\n",
    "df.head()"
   ]
  },
  {
   "cell_type": "code",
   "execution_count": 16,
   "metadata": {
    "ExecuteTime": {
     "end_time": "2024-11-04T09:57:42.527653900Z",
     "start_time": "2024-11-04T09:57:42.514372500Z"
    }
   },
   "outputs": [],
   "source": [
    "# Get X and y for Linear Regression\n",
    "X = df.drop(columns=[\"ID\", \"Sales\"])\n",
    "y = df[\"Sales\"]"
   ]
  },
  {
   "cell_type": "code",
   "execution_count": 17,
   "outputs": [
    {
     "data": {
      "text/plain": "      TV  Radio  Newspaper\n0  230.1   37.8       69.2\n1   44.5   39.3       45.1\n2   17.2   45.9       69.3\n3  151.5   41.3       58.5\n4  180.8   10.8       58.4",
      "text/html": "<div>\n<style scoped>\n    .dataframe tbody tr th:only-of-type {\n        vertical-align: middle;\n    }\n\n    .dataframe tbody tr th {\n        vertical-align: top;\n    }\n\n    .dataframe thead th {\n        text-align: right;\n    }\n</style>\n<table border=\"1\" class=\"dataframe\">\n  <thead>\n    <tr style=\"text-align: right;\">\n      <th></th>\n      <th>TV</th>\n      <th>Radio</th>\n      <th>Newspaper</th>\n    </tr>\n  </thead>\n  <tbody>\n    <tr>\n      <th>0</th>\n      <td>230.1</td>\n      <td>37.8</td>\n      <td>69.2</td>\n    </tr>\n    <tr>\n      <th>1</th>\n      <td>44.5</td>\n      <td>39.3</td>\n      <td>45.1</td>\n    </tr>\n    <tr>\n      <th>2</th>\n      <td>17.2</td>\n      <td>45.9</td>\n      <td>69.3</td>\n    </tr>\n    <tr>\n      <th>3</th>\n      <td>151.5</td>\n      <td>41.3</td>\n      <td>58.5</td>\n    </tr>\n    <tr>\n      <th>4</th>\n      <td>180.8</td>\n      <td>10.8</td>\n      <td>58.4</td>\n    </tr>\n  </tbody>\n</table>\n</div>"
     },
     "execution_count": 17,
     "metadata": {},
     "output_type": "execute_result"
    }
   ],
   "source": [
    "X.head()"
   ],
   "metadata": {
    "collapsed": false,
    "ExecuteTime": {
     "end_time": "2024-11-04T09:59:07.618742400Z",
     "start_time": "2024-11-04T09:59:07.609192400Z"
    }
   }
  },
  {
   "cell_type": "code",
   "execution_count": 18,
   "outputs": [],
   "source": [
    "from sklearn.model_selection import train_test_split\n",
    "\n",
    "X_train, X_test, y_train, y_test = train_test_split(X, y, random_state=147, test_size = 0.2, shuffle=True)"
   ],
   "metadata": {
    "collapsed": false,
    "ExecuteTime": {
     "end_time": "2024-11-04T09:59:34.516979500Z",
     "start_time": "2024-11-04T09:59:34.508946800Z"
    }
   }
  },
  {
   "cell_type": "code",
   "execution_count": 24,
   "outputs": [
    {
     "data": {
      "text/plain": "<class 'statsmodels.iolib.summary.Summary'>\n\"\"\"\n                            OLS Regression Results                            \n==============================================================================\nDep. Variable:                  Sales   R-squared:                       0.913\nModel:                            OLS   Adj. R-squared:                  0.911\nMethod:                 Least Squares   F-statistic:                     545.7\nDate:                Mon, 04 Nov 2024   Prob (F-statistic):           1.84e-82\nTime:                        11:02:59   Log-Likelihood:                -293.89\nNo. Observations:                 160   AIC:                             595.8\nDf Residuals:                     156   BIC:                             608.1\nDf Model:                           3                                         \nCovariance Type:            nonrobust                                         \n==============================================================================\n                 coef    std err          t      P>|t|      [0.025      0.975]\n------------------------------------------------------------------------------\nconst          3.1430      0.317      9.925      0.000       2.517       3.769\nTV             0.0451      0.001     30.922      0.000       0.042       0.048\nRadio          0.1894      0.009     21.813      0.000       0.172       0.207\nNewspaper     -0.0019      0.006     -0.338      0.736      -0.013       0.009\n==============================================================================\nOmnibus:                       19.822   Durbin-Watson:                   1.933\nProb(Omnibus):                  0.000   Jarque-Bera (JB):               23.066\nSkew:                          -0.891   Prob(JB):                     9.80e-06\nKurtosis:                       3.531   Cond. No.                         452.\n==============================================================================\n\nNotes:\n[1] Standard Errors assume that the covariance matrix of the errors is correctly specified.\n\"\"\"",
      "text/html": "<table class=\"simpletable\">\n<caption>OLS Regression Results</caption>\n<tr>\n  <th>Dep. Variable:</th>          <td>Sales</td>      <th>  R-squared:         </th> <td>   0.913</td>\n</tr>\n<tr>\n  <th>Model:</th>                   <td>OLS</td>       <th>  Adj. R-squared:    </th> <td>   0.911</td>\n</tr>\n<tr>\n  <th>Method:</th>             <td>Least Squares</td>  <th>  F-statistic:       </th> <td>   545.7</td>\n</tr>\n<tr>\n  <th>Date:</th>             <td>Mon, 04 Nov 2024</td> <th>  Prob (F-statistic):</th> <td>1.84e-82</td>\n</tr>\n<tr>\n  <th>Time:</th>                 <td>11:02:59</td>     <th>  Log-Likelihood:    </th> <td> -293.89</td>\n</tr>\n<tr>\n  <th>No. Observations:</th>      <td>   160</td>      <th>  AIC:               </th> <td>   595.8</td>\n</tr>\n<tr>\n  <th>Df Residuals:</th>          <td>   156</td>      <th>  BIC:               </th> <td>   608.1</td>\n</tr>\n<tr>\n  <th>Df Model:</th>              <td>     3</td>      <th>                     </th>     <td> </td>   \n</tr>\n<tr>\n  <th>Covariance Type:</th>      <td>nonrobust</td>    <th>                     </th>     <td> </td>   \n</tr>\n</table>\n<table class=\"simpletable\">\n<tr>\n      <td></td>         <th>coef</th>     <th>std err</th>      <th>t</th>      <th>P>|t|</th>  <th>[0.025</th>    <th>0.975]</th>  \n</tr>\n<tr>\n  <th>const</th>     <td>    3.1430</td> <td>    0.317</td> <td>    9.925</td> <td> 0.000</td> <td>    2.517</td> <td>    3.769</td>\n</tr>\n<tr>\n  <th>TV</th>        <td>    0.0451</td> <td>    0.001</td> <td>   30.922</td> <td> 0.000</td> <td>    0.042</td> <td>    0.048</td>\n</tr>\n<tr>\n  <th>Radio</th>     <td>    0.1894</td> <td>    0.009</td> <td>   21.813</td> <td> 0.000</td> <td>    0.172</td> <td>    0.207</td>\n</tr>\n<tr>\n  <th>Newspaper</th> <td>   -0.0019</td> <td>    0.006</td> <td>   -0.338</td> <td> 0.736</td> <td>   -0.013</td> <td>    0.009</td>\n</tr>\n</table>\n<table class=\"simpletable\">\n<tr>\n  <th>Omnibus:</th>       <td>19.822</td> <th>  Durbin-Watson:     </th> <td>   1.933</td>\n</tr>\n<tr>\n  <th>Prob(Omnibus):</th> <td> 0.000</td> <th>  Jarque-Bera (JB):  </th> <td>  23.066</td>\n</tr>\n<tr>\n  <th>Skew:</th>          <td>-0.891</td> <th>  Prob(JB):          </th> <td>9.80e-06</td>\n</tr>\n<tr>\n  <th>Kurtosis:</th>      <td> 3.531</td> <th>  Cond. No.          </th> <td>    452.</td>\n</tr>\n</table><br/><br/>Notes:<br/>[1] Standard Errors assume that the covariance matrix of the errors is correctly specified.",
      "text/latex": "\\begin{center}\n\\begin{tabular}{lclc}\n\\toprule\n\\textbf{Dep. Variable:}    &      Sales       & \\textbf{  R-squared:         } &     0.913   \\\\\n\\textbf{Model:}            &       OLS        & \\textbf{  Adj. R-squared:    } &     0.911   \\\\\n\\textbf{Method:}           &  Least Squares   & \\textbf{  F-statistic:       } &     545.7   \\\\\n\\textbf{Date:}             & Mon, 04 Nov 2024 & \\textbf{  Prob (F-statistic):} &  1.84e-82   \\\\\n\\textbf{Time:}             &     11:02:59     & \\textbf{  Log-Likelihood:    } &   -293.89   \\\\\n\\textbf{No. Observations:} &         160      & \\textbf{  AIC:               } &     595.8   \\\\\n\\textbf{Df Residuals:}     &         156      & \\textbf{  BIC:               } &     608.1   \\\\\n\\textbf{Df Model:}         &           3      & \\textbf{                     } &             \\\\\n\\textbf{Covariance Type:}  &    nonrobust     & \\textbf{                     } &             \\\\\n\\bottomrule\n\\end{tabular}\n\\begin{tabular}{lcccccc}\n                   & \\textbf{coef} & \\textbf{std err} & \\textbf{t} & \\textbf{P$> |$t$|$} & \\textbf{[0.025} & \\textbf{0.975]}  \\\\\n\\midrule\n\\textbf{const}     &       3.1430  &        0.317     &     9.925  &         0.000        &        2.517    &        3.769     \\\\\n\\textbf{TV}        &       0.0451  &        0.001     &    30.922  &         0.000        &        0.042    &        0.048     \\\\\n\\textbf{Radio}     &       0.1894  &        0.009     &    21.813  &         0.000        &        0.172    &        0.207     \\\\\n\\textbf{Newspaper} &      -0.0019  &        0.006     &    -0.338  &         0.736        &       -0.013    &        0.009     \\\\\n\\bottomrule\n\\end{tabular}\n\\begin{tabular}{lclc}\n\\textbf{Omnibus:}       & 19.822 & \\textbf{  Durbin-Watson:     } &    1.933  \\\\\n\\textbf{Prob(Omnibus):} &  0.000 & \\textbf{  Jarque-Bera (JB):  } &   23.066  \\\\\n\\textbf{Skew:}          & -0.891 & \\textbf{  Prob(JB):          } & 9.80e-06  \\\\\n\\textbf{Kurtosis:}      &  3.531 & \\textbf{  Cond. No.          } &     452.  \\\\\n\\bottomrule\n\\end{tabular}\n%\\caption{OLS Regression Results}\n\\end{center}\n\nNotes: \\newline\n [1] Standard Errors assume that the covariance matrix of the errors is correctly specified."
     },
     "execution_count": 24,
     "metadata": {},
     "output_type": "execute_result"
    }
   ],
   "source": [
    "import statsmodels.api as sm\n",
    "\n",
    "X_train = sm.add_constant(X_train)\n",
    "res = sm.OLS(y_train, X_train).fit()\n",
    "res.summary()"
   ],
   "metadata": {
    "collapsed": false,
    "ExecuteTime": {
     "end_time": "2024-11-04T10:02:59.289543500Z",
     "start_time": "2024-11-04T10:02:59.268854300Z"
    }
   }
  },
  {
   "cell_type": "code",
   "execution_count": 20,
   "outputs": [],
   "source": [
    "df_pred = sm.add_constant(X_test)"
   ],
   "metadata": {
    "collapsed": false,
    "ExecuteTime": {
     "end_time": "2024-11-04T10:01:19.783663300Z",
     "start_time": "2024-11-04T10:01:19.774664100Z"
    }
   }
  },
  {
   "cell_type": "code",
   "execution_count": 23,
   "outputs": [
    {
     "data": {
      "text/plain": "62     16.827362\n24      8.305699\n138     9.948647\n31     11.459378\n169    17.971407\n35     17.025421\n112    13.985745\n22      6.653434\n72     10.564117\n21     14.779659\n140     9.650408\n97     15.423423\n90     10.115276\n89     17.051046\n44      9.058525\n133    19.320998\n174    13.800808\n194    16.630090\n134    11.990635\n175    24.821047\n163    17.477550\n130    10.656244\n137    20.854750\n105    18.039673\n162    15.025301\n173    12.064385\n150    18.374422\n195     5.541254\n61     22.917815\n56      8.713153\n47     21.794780\n180    10.688344\n103    14.847244\n126    10.762928\n38     10.076327\n156    15.520815\n110    14.779019\n191     8.584578\n117     6.714574\n111    21.204171\ndtype: float64"
     },
     "execution_count": 23,
     "metadata": {},
     "output_type": "execute_result"
    }
   ],
   "source": [
    "y_pred = res.predict(df_pred)\n",
    "y_pred"
   ],
   "metadata": {
    "collapsed": false,
    "ExecuteTime": {
     "end_time": "2024-11-04T10:01:53.522164700Z",
     "start_time": "2024-11-04T10:01:53.511862500Z"
    }
   }
  },
  {
   "cell_type": "code",
   "execution_count": 22,
   "outputs": [
    {
     "data": {
      "text/plain": "0.8357895412614715"
     },
     "execution_count": 22,
     "metadata": {},
     "output_type": "execute_result"
    }
   ],
   "source": [
    "from sklearn.metrics import r2_score\n",
    "\n",
    "r2_score(y_test, y_pred)"
   ],
   "metadata": {
    "collapsed": false,
    "ExecuteTime": {
     "end_time": "2024-11-04T10:01:44.460734500Z",
     "start_time": "2024-11-04T10:01:44.451609600Z"
    }
   }
  },
  {
   "cell_type": "code",
   "execution_count": null,
   "outputs": [],
   "source": [],
   "metadata": {
    "collapsed": false
   }
  }
 ],
 "metadata": {
  "kernelspec": {
   "display_name": "Python 3.9.12 ('base')",
   "language": "python",
   "name": "python3"
  },
  "language_info": {
   "codemirror_mode": {
    "name": "ipython",
    "version": 3
   },
   "file_extension": ".py",
   "mimetype": "text/x-python",
   "name": "python",
   "nbconvert_exporter": "python",
   "pygments_lexer": "ipython3",
   "version": "3.9.12"
  },
  "orig_nbformat": 4,
  "vscode": {
   "interpreter": {
    "hash": "dd7196572b69c59cc0eccab309893e86548ddb8c2feba7c7f2bbdeb0303a6256"
   }
  }
 },
 "nbformat": 4,
 "nbformat_minor": 2
}
