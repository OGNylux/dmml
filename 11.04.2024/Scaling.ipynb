{
 "cells": [
  {
   "cell_type": "markdown",
   "metadata": {},
   "source": [
    "# Scaling\n",
    "\n",
    "In diesem Notebook zeigen wir die korrekte Anwendung von Skalierungen in der Data Science. Wir verwenden sowohl die von `sklearn` bereitgestellten Methoden, als auch eine händische Berechnung."
   ]
  },
  {
   "cell_type": "code",
   "execution_count": 1,
   "metadata": {
    "ExecuteTime": {
     "end_time": "2024-11-04T09:06:43.120243900Z",
     "start_time": "2024-11-04T09:06:35.867237900Z"
    }
   },
   "outputs": [],
   "source": [
    "# Import dstools (absolute path required, please change to your systems settings)\n",
    "import importlib\n",
    "import sys\n",
    "\n",
    "path = '/dstools-master/dstools/__init__.py'\n",
    "name = 'dstools'\n",
    "\n",
    "spec = importlib.util.spec_from_file_location(name, path)\n",
    "module = importlib.util.module_from_spec(spec)\n",
    "sys.modules[spec.name] = module\n",
    "spec.loader.exec_module(module)"
   ]
  },
  {
   "cell_type": "code",
   "execution_count": 4,
   "metadata": {
    "ExecuteTime": {
     "end_time": "2024-11-04T09:06:53.645400100Z",
     "start_time": "2024-11-04T09:06:53.618971800Z"
    }
   },
   "outputs": [],
   "source": [
    "import numpy as np\n",
    "import pandas as pd\n",
    "\n",
    "from sklearn.model_selection import train_test_split\n",
    "from sklearn.preprocessing import MinMaxScaler, StandardScaler\n",
    "\n",
    "from dstools.datasets import bodyfat\n",
    "from dstools.tools import quality"
   ]
  },
  {
   "cell_type": "markdown",
   "metadata": {},
   "source": [
    "## Standardisierung"
   ]
  },
  {
   "cell_type": "code",
   "execution_count": 5,
   "metadata": {
    "ExecuteTime": {
     "end_time": "2024-11-04T09:06:55.584045200Z",
     "start_time": "2024-11-04T09:06:55.558581700Z"
    }
   },
   "outputs": [
    {
     "name": "stderr",
     "output_type": "stream",
     "text": [
      "D:\\dstools-master/dstools\\datasets\\bodyfat.py:89: FutureWarning: DataFrame.applymap has been deprecated. Use DataFrame.map instead.\n",
      "  df[['Weight', 'Height']] = df[['Weight', 'Height']].applymap(lambda x: round(x, 2))\n",
      "D:\\dstools-master/dstools\\datasets\\bodyfat.py:90: FutureWarning: DataFrame.applymap has been deprecated. Use DataFrame.map instead.\n",
      "  df[to_convert] = df[to_convert].applymap(lambda x: round(x * 0.39370, 2))\n",
      "D:\\dstools-master/dstools\\datasets\\bodyfat.py:35: FutureWarning: DataFrame.applymap has been deprecated. Use DataFrame.map instead.\n",
      "  df[weights] = df[weights].applymap(lambda x: round(x * 0.45359237, 2))\n",
      "D:\\dstools-master/dstools\\datasets\\bodyfat.py:36: FutureWarning: DataFrame.applymap has been deprecated. Use DataFrame.map instead.\n",
      "  df[lengths] = df[lengths].applymap(lambda x: round(x / 0.39370, 2))\n"
     ]
    }
   ],
   "source": [
    "# Load data and prepare for regression\n",
    "df = bodyfat()\n",
    "df.convert(unit=\"metric\")\n",
    "X, y = df.for_regression()"
   ]
  },
  {
   "cell_type": "code",
   "execution_count": 6,
   "metadata": {
    "ExecuteTime": {
     "end_time": "2024-11-04T09:06:56.909272Z",
     "start_time": "2024-11-04T09:06:56.839760400Z"
    }
   },
   "outputs": [
    {
     "name": "stdout",
     "output_type": "stream",
     "text": [
      "Dataframe has 252 rows and 13 columns.\n",
      "\n",
      "0 column(s) with missing values.\n",
      "\n",
      "12 column(s) with outliers.\n",
      "\n"
     ]
    },
    {
     "data": {
      "text/plain": "            type  unique  missing_abs  missing_rel  outliers_abs  outliers_rel\nAge        int64      51            0          0.0             0          0.00\nWeight   float64     197            0          0.0             2          0.79\nHeight   float64      48            0          0.0             1          0.40\nNeck     float64      90            0          0.0             3          1.19\nChest    float64     174            0          0.0             2          0.79\nAbdomen  float64     185            0          0.0             3          1.19\nHip      float64     152            0          0.0             3          1.19\nThigh    float64     139            0          0.0             4          1.59\nKnee     float64      90            0          0.0             3          1.19\nAnkle    float64      61            0          0.0             3          1.19\nBiceps   float64     104            0          0.0             1          0.40\nForearm  float64      77            0          0.0             5          1.98\nWrist    float64      44            0          0.0             4          1.59",
      "text/html": "<div>\n<style scoped>\n    .dataframe tbody tr th:only-of-type {\n        vertical-align: middle;\n    }\n\n    .dataframe tbody tr th {\n        vertical-align: top;\n    }\n\n    .dataframe thead th {\n        text-align: right;\n    }\n</style>\n<table border=\"1\" class=\"dataframe\">\n  <thead>\n    <tr style=\"text-align: right;\">\n      <th></th>\n      <th>type</th>\n      <th>unique</th>\n      <th>missing_abs</th>\n      <th>missing_rel</th>\n      <th>outliers_abs</th>\n      <th>outliers_rel</th>\n    </tr>\n  </thead>\n  <tbody>\n    <tr>\n      <th>Age</th>\n      <td>int64</td>\n      <td>51</td>\n      <td>0</td>\n      <td>0.0</td>\n      <td>0</td>\n      <td>0.00</td>\n    </tr>\n    <tr>\n      <th>Weight</th>\n      <td>float64</td>\n      <td>197</td>\n      <td>0</td>\n      <td>0.0</td>\n      <td>2</td>\n      <td>0.79</td>\n    </tr>\n    <tr>\n      <th>Height</th>\n      <td>float64</td>\n      <td>48</td>\n      <td>0</td>\n      <td>0.0</td>\n      <td>1</td>\n      <td>0.40</td>\n    </tr>\n    <tr>\n      <th>Neck</th>\n      <td>float64</td>\n      <td>90</td>\n      <td>0</td>\n      <td>0.0</td>\n      <td>3</td>\n      <td>1.19</td>\n    </tr>\n    <tr>\n      <th>Chest</th>\n      <td>float64</td>\n      <td>174</td>\n      <td>0</td>\n      <td>0.0</td>\n      <td>2</td>\n      <td>0.79</td>\n    </tr>\n    <tr>\n      <th>Abdomen</th>\n      <td>float64</td>\n      <td>185</td>\n      <td>0</td>\n      <td>0.0</td>\n      <td>3</td>\n      <td>1.19</td>\n    </tr>\n    <tr>\n      <th>Hip</th>\n      <td>float64</td>\n      <td>152</td>\n      <td>0</td>\n      <td>0.0</td>\n      <td>3</td>\n      <td>1.19</td>\n    </tr>\n    <tr>\n      <th>Thigh</th>\n      <td>float64</td>\n      <td>139</td>\n      <td>0</td>\n      <td>0.0</td>\n      <td>4</td>\n      <td>1.59</td>\n    </tr>\n    <tr>\n      <th>Knee</th>\n      <td>float64</td>\n      <td>90</td>\n      <td>0</td>\n      <td>0.0</td>\n      <td>3</td>\n      <td>1.19</td>\n    </tr>\n    <tr>\n      <th>Ankle</th>\n      <td>float64</td>\n      <td>61</td>\n      <td>0</td>\n      <td>0.0</td>\n      <td>3</td>\n      <td>1.19</td>\n    </tr>\n    <tr>\n      <th>Biceps</th>\n      <td>float64</td>\n      <td>104</td>\n      <td>0</td>\n      <td>0.0</td>\n      <td>1</td>\n      <td>0.40</td>\n    </tr>\n    <tr>\n      <th>Forearm</th>\n      <td>float64</td>\n      <td>77</td>\n      <td>0</td>\n      <td>0.0</td>\n      <td>5</td>\n      <td>1.98</td>\n    </tr>\n    <tr>\n      <th>Wrist</th>\n      <td>float64</td>\n      <td>44</td>\n      <td>0</td>\n      <td>0.0</td>\n      <td>4</td>\n      <td>1.59</td>\n    </tr>\n  </tbody>\n</table>\n</div>"
     },
     "execution_count": 6,
     "metadata": {},
     "output_type": "execute_result"
    }
   ],
   "source": [
    "quality(X)"
   ]
  },
  {
   "cell_type": "code",
   "execution_count": 7,
   "metadata": {
    "ExecuteTime": {
     "end_time": "2024-11-04T09:07:03.152672200Z",
     "start_time": "2024-11-04T09:07:03.129368900Z"
    }
   },
   "outputs": [],
   "source": [
    "# Train-test split\n",
    "X_train, X_test, y_train, y_test = train_test_split(X, y, random_state=147, test_size = 0.2, shuffle=True)"
   ]
  },
  {
   "cell_type": "markdown",
   "metadata": {},
   "source": [
    "### StandardScaler\n",
    "\n",
    "Bei der Verwendung der eingebauten Scaler in `sklearn` sind folgende Schritte notwendig: \n",
    "\n",
    "- `fit(train)`: bestimmt den Mittelwert und die Standardabweichung der Daten und speichert sie im Objekt `StandardScaler`\n",
    "- `transform(train)`: führt die z-Transformation mit den gespeicherten Werten von Mittelwert und Standardabweichung auf den Trainingsdaten aus\n",
    "- `transform(test)`: führt die z-Transformation mit den gespeicherten Werten von Mittelwert und Standardabweichung auf den Testdaten aus\n",
    "\n",
    "Für die Trainingsdaten gibt es eine Kurzschreibweise: \n",
    "\n",
    "- `fit_transform(train)`: Da werden `fit` und `transform` hintereinander ausgeführt. \n",
    "\n",
    "> ***ACHTUNG***: **Niemals** `fit_transform` auf den **Test**daten ausführen!"
   ]
  },
  {
   "cell_type": "code",
   "execution_count": 8,
   "metadata": {
    "ExecuteTime": {
     "end_time": "2024-11-04T09:07:13.355192400Z",
     "start_time": "2024-11-04T09:07:13.341695100Z"
    }
   },
   "outputs": [],
   "source": [
    "# Create a StandardScaler object\n",
    "ssc = StandardScaler()"
   ]
  },
  {
   "cell_type": "code",
   "execution_count": 9,
   "metadata": {
    "ExecuteTime": {
     "end_time": "2024-11-04T09:07:16.267629200Z",
     "start_time": "2024-11-04T09:07:16.252269900Z"
    }
   },
   "outputs": [
    {
     "data": {
      "text/plain": "{'with_mean': True, 'with_std': True, 'copy': True}"
     },
     "execution_count": 9,
     "metadata": {},
     "output_type": "execute_result"
    }
   ],
   "source": [
    "# Show attributes\n",
    "ssc.__dict__"
   ]
  },
  {
   "cell_type": "code",
   "execution_count": 10,
   "metadata": {
    "ExecuteTime": {
     "end_time": "2024-11-04T09:07:21.915003500Z",
     "start_time": "2024-11-04T09:07:21.902290Z"
    }
   },
   "outputs": [
    {
     "data": {
      "text/plain": "StandardScaler()",
      "text/html": "<style>#sk-container-id-1 {\n  /* Definition of color scheme common for light and dark mode */\n  --sklearn-color-text: black;\n  --sklearn-color-line: gray;\n  /* Definition of color scheme for unfitted estimators */\n  --sklearn-color-unfitted-level-0: #fff5e6;\n  --sklearn-color-unfitted-level-1: #f6e4d2;\n  --sklearn-color-unfitted-level-2: #ffe0b3;\n  --sklearn-color-unfitted-level-3: chocolate;\n  /* Definition of color scheme for fitted estimators */\n  --sklearn-color-fitted-level-0: #f0f8ff;\n  --sklearn-color-fitted-level-1: #d4ebff;\n  --sklearn-color-fitted-level-2: #b3dbfd;\n  --sklearn-color-fitted-level-3: cornflowerblue;\n\n  /* Specific color for light theme */\n  --sklearn-color-text-on-default-background: var(--sg-text-color, var(--theme-code-foreground, var(--jp-content-font-color1, black)));\n  --sklearn-color-background: var(--sg-background-color, var(--theme-background, var(--jp-layout-color0, white)));\n  --sklearn-color-border-box: var(--sg-text-color, var(--theme-code-foreground, var(--jp-content-font-color1, black)));\n  --sklearn-color-icon: #696969;\n\n  @media (prefers-color-scheme: dark) {\n    /* Redefinition of color scheme for dark theme */\n    --sklearn-color-text-on-default-background: var(--sg-text-color, var(--theme-code-foreground, var(--jp-content-font-color1, white)));\n    --sklearn-color-background: var(--sg-background-color, var(--theme-background, var(--jp-layout-color0, #111)));\n    --sklearn-color-border-box: var(--sg-text-color, var(--theme-code-foreground, var(--jp-content-font-color1, white)));\n    --sklearn-color-icon: #878787;\n  }\n}\n\n#sk-container-id-1 {\n  color: var(--sklearn-color-text);\n}\n\n#sk-container-id-1 pre {\n  padding: 0;\n}\n\n#sk-container-id-1 input.sk-hidden--visually {\n  border: 0;\n  clip: rect(1px 1px 1px 1px);\n  clip: rect(1px, 1px, 1px, 1px);\n  height: 1px;\n  margin: -1px;\n  overflow: hidden;\n  padding: 0;\n  position: absolute;\n  width: 1px;\n}\n\n#sk-container-id-1 div.sk-dashed-wrapped {\n  border: 1px dashed var(--sklearn-color-line);\n  margin: 0 0.4em 0.5em 0.4em;\n  box-sizing: border-box;\n  padding-bottom: 0.4em;\n  background-color: var(--sklearn-color-background);\n}\n\n#sk-container-id-1 div.sk-container {\n  /* jupyter's `normalize.less` sets `[hidden] { display: none; }`\n     but bootstrap.min.css set `[hidden] { display: none !important; }`\n     so we also need the `!important` here to be able to override the\n     default hidden behavior on the sphinx rendered scikit-learn.org.\n     See: https://github.com/scikit-learn/scikit-learn/issues/21755 */\n  display: inline-block !important;\n  position: relative;\n}\n\n#sk-container-id-1 div.sk-text-repr-fallback {\n  display: none;\n}\n\ndiv.sk-parallel-item,\ndiv.sk-serial,\ndiv.sk-item {\n  /* draw centered vertical line to link estimators */\n  background-image: linear-gradient(var(--sklearn-color-text-on-default-background), var(--sklearn-color-text-on-default-background));\n  background-size: 2px 100%;\n  background-repeat: no-repeat;\n  background-position: center center;\n}\n\n/* Parallel-specific style estimator block */\n\n#sk-container-id-1 div.sk-parallel-item::after {\n  content: \"\";\n  width: 100%;\n  border-bottom: 2px solid var(--sklearn-color-text-on-default-background);\n  flex-grow: 1;\n}\n\n#sk-container-id-1 div.sk-parallel {\n  display: flex;\n  align-items: stretch;\n  justify-content: center;\n  background-color: var(--sklearn-color-background);\n  position: relative;\n}\n\n#sk-container-id-1 div.sk-parallel-item {\n  display: flex;\n  flex-direction: column;\n}\n\n#sk-container-id-1 div.sk-parallel-item:first-child::after {\n  align-self: flex-end;\n  width: 50%;\n}\n\n#sk-container-id-1 div.sk-parallel-item:last-child::after {\n  align-self: flex-start;\n  width: 50%;\n}\n\n#sk-container-id-1 div.sk-parallel-item:only-child::after {\n  width: 0;\n}\n\n/* Serial-specific style estimator block */\n\n#sk-container-id-1 div.sk-serial {\n  display: flex;\n  flex-direction: column;\n  align-items: center;\n  background-color: var(--sklearn-color-background);\n  padding-right: 1em;\n  padding-left: 1em;\n}\n\n\n/* Toggleable style: style used for estimator/Pipeline/ColumnTransformer box that is\nclickable and can be expanded/collapsed.\n- Pipeline and ColumnTransformer use this feature and define the default style\n- Estimators will overwrite some part of the style using the `sk-estimator` class\n*/\n\n/* Pipeline and ColumnTransformer style (default) */\n\n#sk-container-id-1 div.sk-toggleable {\n  /* Default theme specific background. It is overwritten whether we have a\n  specific estimator or a Pipeline/ColumnTransformer */\n  background-color: var(--sklearn-color-background);\n}\n\n/* Toggleable label */\n#sk-container-id-1 label.sk-toggleable__label {\n  cursor: pointer;\n  display: block;\n  width: 100%;\n  margin-bottom: 0;\n  padding: 0.5em;\n  box-sizing: border-box;\n  text-align: center;\n}\n\n#sk-container-id-1 label.sk-toggleable__label-arrow:before {\n  /* Arrow on the left of the label */\n  content: \"▸\";\n  float: left;\n  margin-right: 0.25em;\n  color: var(--sklearn-color-icon);\n}\n\n#sk-container-id-1 label.sk-toggleable__label-arrow:hover:before {\n  color: var(--sklearn-color-text);\n}\n\n/* Toggleable content - dropdown */\n\n#sk-container-id-1 div.sk-toggleable__content {\n  max-height: 0;\n  max-width: 0;\n  overflow: hidden;\n  text-align: left;\n  /* unfitted */\n  background-color: var(--sklearn-color-unfitted-level-0);\n}\n\n#sk-container-id-1 div.sk-toggleable__content.fitted {\n  /* fitted */\n  background-color: var(--sklearn-color-fitted-level-0);\n}\n\n#sk-container-id-1 div.sk-toggleable__content pre {\n  margin: 0.2em;\n  border-radius: 0.25em;\n  color: var(--sklearn-color-text);\n  /* unfitted */\n  background-color: var(--sklearn-color-unfitted-level-0);\n}\n\n#sk-container-id-1 div.sk-toggleable__content.fitted pre {\n  /* unfitted */\n  background-color: var(--sklearn-color-fitted-level-0);\n}\n\n#sk-container-id-1 input.sk-toggleable__control:checked~div.sk-toggleable__content {\n  /* Expand drop-down */\n  max-height: 200px;\n  max-width: 100%;\n  overflow: auto;\n}\n\n#sk-container-id-1 input.sk-toggleable__control:checked~label.sk-toggleable__label-arrow:before {\n  content: \"▾\";\n}\n\n/* Pipeline/ColumnTransformer-specific style */\n\n#sk-container-id-1 div.sk-label input.sk-toggleable__control:checked~label.sk-toggleable__label {\n  color: var(--sklearn-color-text);\n  background-color: var(--sklearn-color-unfitted-level-2);\n}\n\n#sk-container-id-1 div.sk-label.fitted input.sk-toggleable__control:checked~label.sk-toggleable__label {\n  background-color: var(--sklearn-color-fitted-level-2);\n}\n\n/* Estimator-specific style */\n\n/* Colorize estimator box */\n#sk-container-id-1 div.sk-estimator input.sk-toggleable__control:checked~label.sk-toggleable__label {\n  /* unfitted */\n  background-color: var(--sklearn-color-unfitted-level-2);\n}\n\n#sk-container-id-1 div.sk-estimator.fitted input.sk-toggleable__control:checked~label.sk-toggleable__label {\n  /* fitted */\n  background-color: var(--sklearn-color-fitted-level-2);\n}\n\n#sk-container-id-1 div.sk-label label.sk-toggleable__label,\n#sk-container-id-1 div.sk-label label {\n  /* The background is the default theme color */\n  color: var(--sklearn-color-text-on-default-background);\n}\n\n/* On hover, darken the color of the background */\n#sk-container-id-1 div.sk-label:hover label.sk-toggleable__label {\n  color: var(--sklearn-color-text);\n  background-color: var(--sklearn-color-unfitted-level-2);\n}\n\n/* Label box, darken color on hover, fitted */\n#sk-container-id-1 div.sk-label.fitted:hover label.sk-toggleable__label.fitted {\n  color: var(--sklearn-color-text);\n  background-color: var(--sklearn-color-fitted-level-2);\n}\n\n/* Estimator label */\n\n#sk-container-id-1 div.sk-label label {\n  font-family: monospace;\n  font-weight: bold;\n  display: inline-block;\n  line-height: 1.2em;\n}\n\n#sk-container-id-1 div.sk-label-container {\n  text-align: center;\n}\n\n/* Estimator-specific */\n#sk-container-id-1 div.sk-estimator {\n  font-family: monospace;\n  border: 1px dotted var(--sklearn-color-border-box);\n  border-radius: 0.25em;\n  box-sizing: border-box;\n  margin-bottom: 0.5em;\n  /* unfitted */\n  background-color: var(--sklearn-color-unfitted-level-0);\n}\n\n#sk-container-id-1 div.sk-estimator.fitted {\n  /* fitted */\n  background-color: var(--sklearn-color-fitted-level-0);\n}\n\n/* on hover */\n#sk-container-id-1 div.sk-estimator:hover {\n  /* unfitted */\n  background-color: var(--sklearn-color-unfitted-level-2);\n}\n\n#sk-container-id-1 div.sk-estimator.fitted:hover {\n  /* fitted */\n  background-color: var(--sklearn-color-fitted-level-2);\n}\n\n/* Specification for estimator info (e.g. \"i\" and \"?\") */\n\n/* Common style for \"i\" and \"?\" */\n\n.sk-estimator-doc-link,\na:link.sk-estimator-doc-link,\na:visited.sk-estimator-doc-link {\n  float: right;\n  font-size: smaller;\n  line-height: 1em;\n  font-family: monospace;\n  background-color: var(--sklearn-color-background);\n  border-radius: 1em;\n  height: 1em;\n  width: 1em;\n  text-decoration: none !important;\n  margin-left: 1ex;\n  /* unfitted */\n  border: var(--sklearn-color-unfitted-level-1) 1pt solid;\n  color: var(--sklearn-color-unfitted-level-1);\n}\n\n.sk-estimator-doc-link.fitted,\na:link.sk-estimator-doc-link.fitted,\na:visited.sk-estimator-doc-link.fitted {\n  /* fitted */\n  border: var(--sklearn-color-fitted-level-1) 1pt solid;\n  color: var(--sklearn-color-fitted-level-1);\n}\n\n/* On hover */\ndiv.sk-estimator:hover .sk-estimator-doc-link:hover,\n.sk-estimator-doc-link:hover,\ndiv.sk-label-container:hover .sk-estimator-doc-link:hover,\n.sk-estimator-doc-link:hover {\n  /* unfitted */\n  background-color: var(--sklearn-color-unfitted-level-3);\n  color: var(--sklearn-color-background);\n  text-decoration: none;\n}\n\ndiv.sk-estimator.fitted:hover .sk-estimator-doc-link.fitted:hover,\n.sk-estimator-doc-link.fitted:hover,\ndiv.sk-label-container:hover .sk-estimator-doc-link.fitted:hover,\n.sk-estimator-doc-link.fitted:hover {\n  /* fitted */\n  background-color: var(--sklearn-color-fitted-level-3);\n  color: var(--sklearn-color-background);\n  text-decoration: none;\n}\n\n/* Span, style for the box shown on hovering the info icon */\n.sk-estimator-doc-link span {\n  display: none;\n  z-index: 9999;\n  position: relative;\n  font-weight: normal;\n  right: .2ex;\n  padding: .5ex;\n  margin: .5ex;\n  width: min-content;\n  min-width: 20ex;\n  max-width: 50ex;\n  color: var(--sklearn-color-text);\n  box-shadow: 2pt 2pt 4pt #999;\n  /* unfitted */\n  background: var(--sklearn-color-unfitted-level-0);\n  border: .5pt solid var(--sklearn-color-unfitted-level-3);\n}\n\n.sk-estimator-doc-link.fitted span {\n  /* fitted */\n  background: var(--sklearn-color-fitted-level-0);\n  border: var(--sklearn-color-fitted-level-3);\n}\n\n.sk-estimator-doc-link:hover span {\n  display: block;\n}\n\n/* \"?\"-specific style due to the `<a>` HTML tag */\n\n#sk-container-id-1 a.estimator_doc_link {\n  float: right;\n  font-size: 1rem;\n  line-height: 1em;\n  font-family: monospace;\n  background-color: var(--sklearn-color-background);\n  border-radius: 1rem;\n  height: 1rem;\n  width: 1rem;\n  text-decoration: none;\n  /* unfitted */\n  color: var(--sklearn-color-unfitted-level-1);\n  border: var(--sklearn-color-unfitted-level-1) 1pt solid;\n}\n\n#sk-container-id-1 a.estimator_doc_link.fitted {\n  /* fitted */\n  border: var(--sklearn-color-fitted-level-1) 1pt solid;\n  color: var(--sklearn-color-fitted-level-1);\n}\n\n/* On hover */\n#sk-container-id-1 a.estimator_doc_link:hover {\n  /* unfitted */\n  background-color: var(--sklearn-color-unfitted-level-3);\n  color: var(--sklearn-color-background);\n  text-decoration: none;\n}\n\n#sk-container-id-1 a.estimator_doc_link.fitted:hover {\n  /* fitted */\n  background-color: var(--sklearn-color-fitted-level-3);\n}\n</style><div id=\"sk-container-id-1\" class=\"sk-top-container\"><div class=\"sk-text-repr-fallback\"><pre>StandardScaler()</pre><b>In a Jupyter environment, please rerun this cell to show the HTML representation or trust the notebook. <br />On GitHub, the HTML representation is unable to render, please try loading this page with nbviewer.org.</b></div><div class=\"sk-container\" hidden><div class=\"sk-item\"><div class=\"sk-estimator fitted sk-toggleable\"><input class=\"sk-toggleable__control sk-hidden--visually\" id=\"sk-estimator-id-1\" type=\"checkbox\" checked><label for=\"sk-estimator-id-1\" class=\"sk-toggleable__label fitted sk-toggleable__label-arrow fitted\">&nbsp;&nbsp;StandardScaler<a class=\"sk-estimator-doc-link fitted\" rel=\"noreferrer\" target=\"_blank\" href=\"https://scikit-learn.org/1.5/modules/generated/sklearn.preprocessing.StandardScaler.html\">?<span>Documentation for StandardScaler</span></a><span class=\"sk-estimator-doc-link fitted\">i<span>Fitted</span></span></label><div class=\"sk-toggleable__content fitted\"><pre>StandardScaler()</pre></div> </div></div></div></div>"
     },
     "execution_count": 10,
     "metadata": {},
     "output_type": "execute_result"
    }
   ],
   "source": [
    "# Apply fit method\n",
    "ssc.fit(X_train)"
   ]
  },
  {
   "cell_type": "code",
   "execution_count": 11,
   "metadata": {
    "ExecuteTime": {
     "end_time": "2024-11-04T09:07:23.227152400Z",
     "start_time": "2024-11-04T09:07:23.212018300Z"
    }
   },
   "outputs": [
    {
     "data": {
      "text/plain": "{'with_mean': True,\n 'with_std': True,\n 'copy': True,\n 'feature_names_in_': array(['Age', 'Weight', 'Height', 'Neck', 'Chest', 'Abdomen', 'Hip',\n        'Thigh', 'Knee', 'Ankle', 'Biceps', 'Forearm', 'Wrist'],\n       dtype=object),\n 'n_features_in_': 13,\n 'n_samples_seen_': np.int64(201),\n 'mean_': array([ 44.62189055,  81.24945274, 178.03935323,  38.04626866,\n        100.82363184,  92.52761194,  99.90791045,  59.49432836,\n         38.59925373,  23.13507463,  32.37791045,  28.6419403 ,\n         18.23139303]),\n 'var_': array([160.23514269, 178.91171065,  94.90657719,   5.632101  ,\n         66.64389178, 108.72998634,  52.82937971,  27.91957679,\n          5.40402581,   3.01287276,   8.96177573,   3.9950226 ,\n          0.84594035]),\n 'scale_': array([12.65840206, 13.37578823,  9.74200068,  2.3732048 ,  8.16357102,\n        10.42736718,  7.26838219,  5.28389788,  2.32465606,  1.73576287,\n         2.99362251,  1.99875526,  0.91975016])}"
     },
     "execution_count": 11,
     "metadata": {},
     "output_type": "execute_result"
    }
   ],
   "source": [
    "# Show attributes\n",
    "ssc.__dict__"
   ]
  },
  {
   "cell_type": "code",
   "execution_count": 12,
   "metadata": {
    "ExecuteTime": {
     "end_time": "2024-11-04T09:07:56.216884500Z",
     "start_time": "2024-11-04T09:07:56.202940700Z"
    }
   },
   "outputs": [
    {
     "name": "stdout",
     "output_type": "stream",
     "text": [
      "[[-7.60118892e-01 -1.80994588e+00 -1.19783950e+00 -1.70076711e+00\n",
      "  -1.22662396e+00 -1.67996500e+00 -1.47321786e+00 -1.79873430e+00\n",
      "  -1.63432939e+00 -6.53934154e-01 -2.53469181e+00 -1.36682082e+00\n",
      "  -1.45843197e+00]\n",
      " [ 1.37285175e+00 -3.93954558e-01  3.66520891e-01 -1.06871040e+00\n",
      "  -3.93655158e-01 -9.95085262e-02 -1.93703414e-01 -5.49656414e-01\n",
      "   4.62273488e-03 -4.23487930e-01 -2.93260237e-01 -6.66384886e-01\n",
      "   3.89896064e-01]\n",
      " [-4.91286771e-02  8.77746198e-01 -1.05840019e+01 -6.09415866e-01\n",
      "   6.32856399e-01  1.12803049e+00  2.14381813e+00  2.10368783e+00\n",
      "   1.67368684e+00  3.25462298e-01  4.08231014e-01  2.90479293e-02\n",
      "  -9.03933563e-01]\n",
      " [-1.28127590e-01  7.25231822e-01  3.66520891e-01 -6.16333900e-02\n",
      "   7.79850894e-01  1.01390772e+00  7.70747795e-01  1.76303022e+00\n",
      "  -1.28730325e-01  3.25462298e-01 -8.94937310e-02  1.34113319e-01\n",
      "   4.98621242e-01]\n",
      " [-2.86125415e-01  1.98907699e-01 -4.80327747e-01 -1.94962764e-02\n",
      "   3.15593281e-01  8.30735881e-01  4.39174698e-01  3.77689291e-01\n",
      "   7.78930827e-01 -1.29668995e-01  3.41422323e-01  2.84206732e-01\n",
      "   2.81170885e-01]]\n"
     ]
    }
   ],
   "source": [
    "# Apply Z-Transformation to training data\n",
    "X_train_z = ssc.transform(X_train)\n",
    "print(X_train_z[0:5,:])"
   ]
  },
  {
   "cell_type": "code",
   "execution_count": 13,
   "metadata": {
    "ExecuteTime": {
     "end_time": "2024-11-04T09:08:20.324722600Z",
     "start_time": "2024-11-04T09:08:20.311375Z"
    }
   },
   "outputs": [
    {
     "name": "stdout",
     "output_type": "stream",
     "text": [
      "[-3.53503849e-17 -7.37939284e-16  8.83759622e-16  1.52779945e-15\n",
      " -2.42592016e-15  7.95383659e-16  1.64379290e-15 -1.04283635e-15\n",
      "  8.17477650e-16 -1.02957996e-15  2.01497194e-15  1.11574652e-15\n",
      " -1.49134436e-16]\n",
      "[1. 1. 1. 1. 1. 1. 1. 1. 1. 1. 1. 1. 1.]\n"
     ]
    }
   ],
   "source": [
    "# Check if mean = 0 and std = 1\n",
    "print(np.mean(X_train_z, axis=0))\n",
    "print(np.std(X_train_z,axis=0))"
   ]
  },
  {
   "cell_type": "code",
   "execution_count": 14,
   "metadata": {
    "ExecuteTime": {
     "end_time": "2024-11-04T09:08:21.077021400Z",
     "start_time": "2024-11-04T09:08:21.071273700Z"
    }
   },
   "outputs": [
    {
     "name": "stdout",
     "output_type": "stream",
     "text": [
      "[[-0.04912868 -0.44479268 -1.1978395   0.43979826 -0.02616892  0.13161405\n",
      "   0.0264281  -0.11247915 -0.43415185 -0.99384233  0.24120929  0.42429392\n",
      "  -1.01265874]\n",
      " [ 2.32083871  0.9622272  -0.02456921  1.15612919  1.41805199  1.53273475\n",
      "   0.99087931 -0.03488492  1.5446355   0.84972746  0.44497579  0.67945272\n",
      "   2.90144769]\n",
      " [ 0.34586589 -0.25041162  0.36652089 -1.0687104  -0.37160598 -0.23377061\n",
      "  -0.56379953 -0.47206218  0.04763985  0.03164336 -1.62609361 -1.07664022\n",
      "  -0.68648321]\n",
      " [-1.31311128 -0.94495012 -0.61069111 -1.49850896 -1.30134617 -1.55625209\n",
      "  -0.56379953 -0.20899881 -1.32890787 -0.12966899 -0.43021805 -0.32617315\n",
      "  -0.68648321]\n",
      " [ 1.60984849 -1.75088394 -1.13214458 -1.41002102 -0.95958396 -1.22922802\n",
      "  -1.69334938 -1.6643638  -2.23656902 -1.75431487 -1.2953906  -1.92716956\n",
      "  -1.87158765]]\n"
     ]
    }
   ],
   "source": [
    "# Apply Z-Transformation to test data\n",
    "X_test_z = ssc.transform(X_test)\n",
    "print(X_test_z[0:5,:])"
   ]
  },
  {
   "cell_type": "code",
   "execution_count": 15,
   "metadata": {
    "ExecuteTime": {
     "end_time": "2024-11-04T09:10:35.104012900Z",
     "start_time": "2024-11-04T09:10:35.078628300Z"
    }
   },
   "outputs": [
    {
     "name": "stdout",
     "output_type": "stream",
     "text": [
      "[ 0.10267316 -0.03361662  0.0715378  -0.11252841  0.00051586  0.01339197\n",
      " -0.00251811 -0.08245824 -0.01933189 -0.09419835 -0.17162912  0.0541616\n",
      " -0.01260028]\n",
      "[0.9634595  0.97284499 0.73718154 1.09992058 1.14352689 1.14968976\n",
      " 0.9169517  0.95483484 1.16453277 0.86406517 1.02488098 1.04215604\n",
      " 1.06540557]\n"
     ]
    }
   ],
   "source": [
    "# Check mean and std\n",
    "print(np.mean(X_test_z, axis=0))\n",
    "print(np.std(X_test_z, axis=0))"
   ]
  },
  {
   "cell_type": "markdown",
   "metadata": {},
   "source": [
    "### Manuelle Berechnung\n",
    "\n",
    "Achtung, bei der manuellen Berechnung gibt es einen Unterschied zwischen `numpy` und `pandas`:"
   ]
  },
  {
   "cell_type": "code",
   "execution_count": 16,
   "metadata": {
    "ExecuteTime": {
     "end_time": "2024-11-04T09:10:38.512185900Z",
     "start_time": "2024-11-04T09:10:38.499358600Z"
    }
   },
   "outputs": [],
   "source": [
    "# Training-Data mit numpy\n",
    "X_train_z_man =  (np.array(X_train) - np.mean(np.array(X_train), axis=0))/np.std(np.array(X_train), axis=0)"
   ]
  },
  {
   "cell_type": "code",
   "execution_count": 17,
   "metadata": {
    "ExecuteTime": {
     "end_time": "2024-11-04T09:10:47.716628600Z",
     "start_time": "2024-11-04T09:10:47.688472200Z"
    }
   },
   "outputs": [],
   "source": [
    "# Training-Data mit pandas\n",
    "X_train_z_man_pd = (X_train - X_train.mean(axis=0))/X_train.std(axis=0)"
   ]
  },
  {
   "cell_type": "code",
   "execution_count": 18,
   "metadata": {
    "ExecuteTime": {
     "end_time": "2024-11-04T09:10:48.741730100Z",
     "start_time": "2024-11-04T09:10:48.721651500Z"
    }
   },
   "outputs": [
    {
     "data": {
      "text/plain": "Age       -3.976918e-17\nWeight    -7.202641e-16\nHeight     8.660844e-16\nNeck       1.560940e-15\nChest     -2.425920e-15\nAbdomen    7.953837e-16\nHip        1.643793e-15\nThigh     -1.007486e-15\nKnee       8.042213e-16\nAnkle     -1.033999e-15\nBiceps     2.021600e-15\nForearm    1.102490e-15\nWrist     -1.402968e-16\ndtype: float64"
     },
     "execution_count": 18,
     "metadata": {},
     "output_type": "execute_result"
    }
   ],
   "source": [
    "X_train_z_man_pd.mean(axis=0)"
   ]
  },
  {
   "cell_type": "code",
   "execution_count": 19,
   "metadata": {
    "ExecuteTime": {
     "end_time": "2024-11-04T09:12:32.333512200Z",
     "start_time": "2024-11-04T09:12:32.311933100Z"
    }
   },
   "outputs": [
    {
     "data": {
      "text/plain": "Age        1.0\nWeight     1.0\nHeight     1.0\nNeck       1.0\nChest      1.0\nAbdomen    1.0\nHip        1.0\nThigh      1.0\nKnee       1.0\nAnkle      1.0\nBiceps     1.0\nForearm    1.0\nWrist      1.0\ndtype: float64"
     },
     "execution_count": 19,
     "metadata": {},
     "output_type": "execute_result"
    }
   ],
   "source": [
    "X_train_z_man_pd.std(axis=0)"
   ]
  },
  {
   "cell_type": "code",
   "execution_count": 83,
   "metadata": {},
   "outputs": [
    {
     "data": {
      "text/plain": [
       "array([[ -0.76011889,  -1.80994588,  -1.1978395 , ...,  -2.53469181,\n",
       "         -1.36682082,  -1.45843197],\n",
       "       [  1.37285175,  -0.39395456,   0.36652089, ...,  -0.29326024,\n",
       "         -0.66638489,   0.38989606],\n",
       "       [ -0.04912868,   0.8777462 , -10.58400185, ...,   0.40823101,\n",
       "          0.02904793,  -0.90393356],\n",
       "       ...,\n",
       "       [ -0.99711563,  -1.03017875,  -0.02456921, ...,  -0.86447454,\n",
       "         -0.97157483,  -1.24098162],\n",
       "       [  1.0568561 ,  -0.12256868,   0.36652089, ...,  -0.49034587,\n",
       "          0.47432506,  -0.24070997],\n",
       "       [  0.4248648 ,  -0.21602112,   0.75761099, ...,  -1.26198625,\n",
       "         -0.97157483,  -0.24070997]])"
      ]
     },
     "execution_count": 83,
     "metadata": {},
     "output_type": "execute_result"
    }
   ],
   "source": [
    "X_train_z_man"
   ]
  },
  {
   "cell_type": "code",
   "execution_count": 84,
   "metadata": {},
   "outputs": [
    {
     "data": {
      "text/html": [
       "<div>\n",
       "<style scoped>\n",
       "    .dataframe tbody tr th:only-of-type {\n",
       "        vertical-align: middle;\n",
       "    }\n",
       "\n",
       "    .dataframe tbody tr th {\n",
       "        vertical-align: top;\n",
       "    }\n",
       "\n",
       "    .dataframe thead th {\n",
       "        text-align: right;\n",
       "    }\n",
       "</style>\n",
       "<table border=\"1\" class=\"dataframe\">\n",
       "  <thead>\n",
       "    <tr style=\"text-align: right;\">\n",
       "      <th></th>\n",
       "      <th>Age</th>\n",
       "      <th>Weight</th>\n",
       "      <th>Height</th>\n",
       "      <th>Neck</th>\n",
       "      <th>Chest</th>\n",
       "      <th>Abdomen</th>\n",
       "      <th>Hip</th>\n",
       "      <th>Thigh</th>\n",
       "      <th>Knee</th>\n",
       "      <th>Ankle</th>\n",
       "      <th>Biceps</th>\n",
       "      <th>Forearm</th>\n",
       "      <th>Wrist</th>\n",
       "    </tr>\n",
       "  </thead>\n",
       "  <tbody>\n",
       "    <tr>\n",
       "      <th>171</th>\n",
       "      <td>-0.758226</td>\n",
       "      <td>-1.805438</td>\n",
       "      <td>-1.194856</td>\n",
       "      <td>-1.696531</td>\n",
       "      <td>-1.223569</td>\n",
       "      <td>-1.675781</td>\n",
       "      <td>-1.469549</td>\n",
       "      <td>-1.794254</td>\n",
       "      <td>-1.630259</td>\n",
       "      <td>-0.652305</td>\n",
       "      <td>-2.528379</td>\n",
       "      <td>-1.363417</td>\n",
       "      <td>-1.454800</td>\n",
       "    </tr>\n",
       "    <tr>\n",
       "      <th>70</th>\n",
       "      <td>1.369432</td>\n",
       "      <td>-0.392973</td>\n",
       "      <td>0.365608</td>\n",
       "      <td>-1.066049</td>\n",
       "      <td>-0.392675</td>\n",
       "      <td>-0.099261</td>\n",
       "      <td>-0.193221</td>\n",
       "      <td>-0.548287</td>\n",
       "      <td>0.004611</td>\n",
       "      <td>-0.422433</td>\n",
       "      <td>-0.292530</td>\n",
       "      <td>-0.664725</td>\n",
       "      <td>0.388925</td>\n",
       "    </tr>\n",
       "    <tr>\n",
       "      <th>41</th>\n",
       "      <td>-0.049006</td>\n",
       "      <td>0.875560</td>\n",
       "      <td>-10.557641</td>\n",
       "      <td>-0.607898</td>\n",
       "      <td>0.631280</td>\n",
       "      <td>1.125221</td>\n",
       "      <td>2.138479</td>\n",
       "      <td>2.098448</td>\n",
       "      <td>1.669518</td>\n",
       "      <td>0.324652</td>\n",
       "      <td>0.407214</td>\n",
       "      <td>0.028976</td>\n",
       "      <td>-0.901682</td>\n",
       "    </tr>\n",
       "    <tr>\n",
       "      <th>202</th>\n",
       "      <td>-0.127808</td>\n",
       "      <td>0.723426</td>\n",
       "      <td>0.365608</td>\n",
       "      <td>-0.061480</td>\n",
       "      <td>0.777909</td>\n",
       "      <td>1.011382</td>\n",
       "      <td>0.768828</td>\n",
       "      <td>1.758639</td>\n",
       "      <td>-0.128410</td>\n",
       "      <td>0.324652</td>\n",
       "      <td>-0.089271</td>\n",
       "      <td>0.133779</td>\n",
       "      <td>0.497379</td>\n",
       "    </tr>\n",
       "    <tr>\n",
       "      <th>189</th>\n",
       "      <td>-0.285413</td>\n",
       "      <td>0.198412</td>\n",
       "      <td>-0.479131</td>\n",
       "      <td>-0.019448</td>\n",
       "      <td>0.314807</td>\n",
       "      <td>0.828667</td>\n",
       "      <td>0.438081</td>\n",
       "      <td>0.376749</td>\n",
       "      <td>0.776991</td>\n",
       "      <td>-0.129346</td>\n",
       "      <td>0.340572</td>\n",
       "      <td>0.283499</td>\n",
       "      <td>0.280471</td>\n",
       "    </tr>\n",
       "    <tr>\n",
       "      <th>...</th>\n",
       "      <td>...</td>\n",
       "      <td>...</td>\n",
       "      <td>...</td>\n",
       "      <td>...</td>\n",
       "      <td>...</td>\n",
       "      <td>...</td>\n",
       "      <td>...</td>\n",
       "      <td>...</td>\n",
       "      <td>...</td>\n",
       "      <td>...</td>\n",
       "      <td>...</td>\n",
       "      <td>...</td>\n",
       "      <td>...</td>\n",
       "    </tr>\n",
       "    <tr>\n",
       "      <th>30</th>\n",
       "      <td>-0.994632</td>\n",
       "      <td>0.096989</td>\n",
       "      <td>0.951294</td>\n",
       "      <td>0.278981</td>\n",
       "      <td>-0.038323</td>\n",
       "      <td>-0.366159</td>\n",
       "      <td>-0.014810</td>\n",
       "      <td>-0.374607</td>\n",
       "      <td>0.047521</td>\n",
       "      <td>6.192141</td>\n",
       "      <td>0.044014</td>\n",
       "      <td>-0.465099</td>\n",
       "      <td>0.172016</td>\n",
       "    </tr>\n",
       "    <tr>\n",
       "      <th>217</th>\n",
       "      <td>0.502609</td>\n",
       "      <td>-0.832970</td>\n",
       "      <td>-0.024508</td>\n",
       "      <td>-0.477598</td>\n",
       "      <td>-0.920537</td>\n",
       "      <td>-1.053974</td>\n",
       "      <td>-0.754531</td>\n",
       "      <td>-0.903199</td>\n",
       "      <td>0.167669</td>\n",
       "      <td>-0.301750</td>\n",
       "      <td>-1.622044</td>\n",
       "      <td>-1.363417</td>\n",
       "      <td>0.388925</td>\n",
       "    </tr>\n",
       "    <tr>\n",
       "      <th>23</th>\n",
       "      <td>-0.994632</td>\n",
       "      <td>-1.027613</td>\n",
       "      <td>-0.024508</td>\n",
       "      <td>-1.066049</td>\n",
       "      <td>-1.726993</td>\n",
       "      <td>-1.197468</td>\n",
       "      <td>-0.893143</td>\n",
       "      <td>-0.869218</td>\n",
       "      <td>-1.029519</td>\n",
       "      <td>-0.594837</td>\n",
       "      <td>-0.862321</td>\n",
       "      <td>-0.969155</td>\n",
       "      <td>-1.237891</td>\n",
       "    </tr>\n",
       "    <tr>\n",
       "      <th>232</th>\n",
       "      <td>1.054224</td>\n",
       "      <td>-0.122263</td>\n",
       "      <td>0.365608</td>\n",
       "      <td>-0.019448</td>\n",
       "      <td>-0.076202</td>\n",
       "      <td>-0.424514</td>\n",
       "      <td>-0.290661</td>\n",
       "      <td>-0.452008</td>\n",
       "      <td>0.124759</td>\n",
       "      <td>0.267184</td>\n",
       "      <td>-0.489125</td>\n",
       "      <td>0.473144</td>\n",
       "      <td>-0.240110</td>\n",
       "    </tr>\n",
       "    <tr>\n",
       "      <th>214</th>\n",
       "      <td>0.423807</td>\n",
       "      <td>-0.215483</td>\n",
       "      <td>0.755724</td>\n",
       "      <td>-0.275844</td>\n",
       "      <td>-0.259487</td>\n",
       "      <td>-0.471388</td>\n",
       "      <td>-0.523968</td>\n",
       "      <td>-0.452008</td>\n",
       "      <td>-0.214230</td>\n",
       "      <td>-0.772988</td>\n",
       "      <td>-1.258843</td>\n",
       "      <td>-0.969155</td>\n",
       "      <td>-0.240110</td>\n",
       "    </tr>\n",
       "  </tbody>\n",
       "</table>\n",
       "<p>201 rows × 13 columns</p>\n",
       "</div>"
      ],
      "text/plain": [
       "          Age    Weight     Height      Neck     Chest   Abdomen       Hip  \\\n",
       "171 -0.758226 -1.805438  -1.194856 -1.696531 -1.223569 -1.675781 -1.469549   \n",
       "70   1.369432 -0.392973   0.365608 -1.066049 -0.392675 -0.099261 -0.193221   \n",
       "41  -0.049006  0.875560 -10.557641 -0.607898  0.631280  1.125221  2.138479   \n",
       "202 -0.127808  0.723426   0.365608 -0.061480  0.777909  1.011382  0.768828   \n",
       "189 -0.285413  0.198412  -0.479131 -0.019448  0.314807  0.828667  0.438081   \n",
       "..        ...       ...        ...       ...       ...       ...       ...   \n",
       "30  -0.994632  0.096989   0.951294  0.278981 -0.038323 -0.366159 -0.014810   \n",
       "217  0.502609 -0.832970  -0.024508 -0.477598 -0.920537 -1.053974 -0.754531   \n",
       "23  -0.994632 -1.027613  -0.024508 -1.066049 -1.726993 -1.197468 -0.893143   \n",
       "232  1.054224 -0.122263   0.365608 -0.019448 -0.076202 -0.424514 -0.290661   \n",
       "214  0.423807 -0.215483   0.755724 -0.275844 -0.259487 -0.471388 -0.523968   \n",
       "\n",
       "        Thigh      Knee     Ankle    Biceps   Forearm     Wrist  \n",
       "171 -1.794254 -1.630259 -0.652305 -2.528379 -1.363417 -1.454800  \n",
       "70  -0.548287  0.004611 -0.422433 -0.292530 -0.664725  0.388925  \n",
       "41   2.098448  1.669518  0.324652  0.407214  0.028976 -0.901682  \n",
       "202  1.758639 -0.128410  0.324652 -0.089271  0.133779  0.497379  \n",
       "189  0.376749  0.776991 -0.129346  0.340572  0.283499  0.280471  \n",
       "..        ...       ...       ...       ...       ...       ...  \n",
       "30  -0.374607  0.047521  6.192141  0.044014 -0.465099  0.172016  \n",
       "217 -0.903199  0.167669 -0.301750 -1.622044 -1.363417  0.388925  \n",
       "23  -0.869218 -1.029519 -0.594837 -0.862321 -0.969155 -1.237891  \n",
       "232 -0.452008  0.124759  0.267184 -0.489125  0.473144 -0.240110  \n",
       "214 -0.452008 -0.214230 -0.772988 -1.258843 -0.969155 -0.240110  \n",
       "\n",
       "[201 rows x 13 columns]"
      ]
     },
     "execution_count": 84,
     "metadata": {},
     "output_type": "execute_result"
    }
   ],
   "source": [
    "X_train_z_man_pd"
   ]
  },
  {
   "cell_type": "code",
   "execution_count": 21,
   "metadata": {
    "ExecuteTime": {
     "end_time": "2024-11-04T09:12:56.039444100Z",
     "start_time": "2024-11-04T09:12:56.019935900Z"
    }
   },
   "outputs": [
    {
     "data": {
      "text/plain": "np.float64(12.658402059284093)"
     },
     "execution_count": 21,
     "metadata": {},
     "output_type": "execute_result"
    }
   ],
   "source": [
    "X_train['Age'].std(ddof=0)"
   ]
  },
  {
   "cell_type": "markdown",
   "metadata": {},
   "source": [
    "Grund:\n",
    "\n",
    "`numpy` berechnet die Standardabweichung mit\n",
    "\n",
    "$$\n",
    "\\sigma = \\sqrt{\\frac{1}{N}\\sum_{i=1}^N(x_i - \\mu)^2}\n",
    "$$\n",
    "\n",
    "und `pandas` mit\n",
    "\n",
    "$$\n",
    "s = \\sqrt{\\frac{1}{N-1}\\sum_{i=1}^N(x_i - \\bar{x})^2}\n",
    "$$\n"
   ]
  },
  {
   "cell_type": "code",
   "execution_count": null,
   "metadata": {},
   "outputs": [],
   "source": [
    "np.array(X_train['Age']).std()"
   ]
  },
  {
   "cell_type": "code",
   "execution_count": null,
   "metadata": {},
   "outputs": [],
   "source": [
    "# Check if mean = 0 and std = 1\n",
    "print(np.mean(X_train_z_man, axis=0))\n",
    "print(np.std(X_train_z_man,axis=0))"
   ]
  },
  {
   "cell_type": "code",
   "execution_count": null,
   "metadata": {},
   "outputs": [],
   "source": [
    "# Test-Data\n",
    "X_test_z_man =  (X_test - X_train.mean())/X_train.std()"
   ]
  }
 ],
 "metadata": {
  "kernelspec": {
   "display_name": "base",
   "language": "python",
   "name": "python3"
  },
  "language_info": {
   "codemirror_mode": {
    "name": "ipython",
    "version": 3
   },
   "file_extension": ".py",
   "mimetype": "text/x-python",
   "name": "python",
   "nbconvert_exporter": "python",
   "pygments_lexer": "ipython3",
   "version": "3.9.12"
  }
 },
 "nbformat": 4,
 "nbformat_minor": 2
}
