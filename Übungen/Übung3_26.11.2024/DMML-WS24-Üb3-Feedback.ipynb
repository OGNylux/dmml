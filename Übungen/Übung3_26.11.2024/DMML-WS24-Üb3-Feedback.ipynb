{
 "cells": [
  {
   "cell_type": "markdown",
   "metadata": {},
   "source": [
    "# WS24: DMML Übung3 26.11.2024 - FEEDBACK"
   ]
  },
  {
   "cell_type": "markdown",
   "metadata": {},
   "source": [
    "# Feedback ALLE"
   ]
  },
  {
   "cell_type": "markdown",
   "metadata": {},
   "source": [
    "<u><b>(1) Warum haben Oversampling und SMOTE zu keiner Verbesserung von F1 geführt?</b></u>"
   ]
  },
  {
   "cell_type": "markdown",
   "metadata": {},
   "source": [
    "\\begin{array}{lll} \n",
    " & Predicted & \\\\ \\hline\n",
    "Actual & TP & FN \\\\ \\hline\n",
    "       & FP & TN \\\\ \\hline\n",
    "\\end{array}\n",
    "\n",
    "\n"
   ]
  },
  {
   "cell_type": "markdown",
   "metadata": {},
   "source": [
    "\\begin{array}{rcl}\n",
    "accuracy &=& \\displaystyle\\frac{TP+TN}{TP+TN+FN+FP} \\\\ \\\\\n",
    "F1       &=& \\displaystyle\\frac{2\\;TP}{2\\;TP+FN+FP} \\\\ \\\\\n",
    "\\end{array}"
   ]
  },
  {
   "cell_type": "markdown",
   "metadata": {},
   "source": [
    "<b>Bei F1 werden FN und FP gleich gewichtet - d.h. accuracy und F1 verfolgen dasselbe Ziel!</b><br>\n",
    "<b>D.h. durch Oversampling oder SMOTE wird F1 nicht automatisch bessert - die Trainingsdaten haben mit den Trainingsdaten aber weniger zu tun.</b>"
   ]
  },
  {
   "cell_type": "markdown",
   "metadata": {},
   "source": [
    "<b>Mit dem allgemeineren $F_\\beta$-Score werden FN und FP unterschiedlich gewertet:</b><br>\n",
    "https://en.wikipedia.org/wiki/F-score"
   ]
  },
  {
   "cell_type": "markdown",
   "metadata": {},
   "source": [
    "\\begin{array}{rcl}\n",
    "F_\\beta  &=& \\displaystyle\\frac{(1+\\beta^2)\\;TP}{(1+\\beta^2)\\;TP+\\beta^2\\;FN+FP} \\\\ \\\\\n",
    "F_{0.5}  &=& \\displaystyle\\frac{5\\;TP}{5\\;TP+4\\;FN+FP} \\\\ \\\\\n",
    "F_{2}    &=& \\displaystyle\\frac{5\\;TP}{5\\;TP+FN+4\\;FP} \\\\ \\\\\n",
    "\\end{array}"
   ]
  },
  {
   "cell_type": "markdown",
   "metadata": {},
   "source": [
    "Ist $P$ die Minderheitenklasse, und ist die Minimierung von $FN$ wichtiger als die von $FP$ kann versucht werden, $F_{0.5}$ zu maximieren.<br>\n",
    "Das wird im nächsten Jahr versucht."
   ]
  },
  {
   "cell_type": "markdown",
   "metadata": {},
   "source": [
    "<u><b>(2) Warum kam es zu vielen unterschiedlichen Ergebnissen?</b></u>"
   ]
  },
  {
   "cell_type": "markdown",
   "metadata": {},
   "source": [
    "<ul>\n",
    "<li><b>GridsearchCV mit/ohne vorherigem Training-Test-Split</b>\n",
    "<ul>\n",
    "<li>Da die Angabe nicht eindeutig war, wurde das verschieden gehandhabt => Ergebnisse nicht gut vergleichbar\n",
    "<li>Teilweise wurde auch die Dateien pd_speech_features-train.csv und pd_speech_features-test.csv vom Vortag verwendet\n",
    "</ul>\n",
    "<li><b>CV standard vs RepeatedStratifiedKFold</b>\n",
    "<ul>\n",
    "<li>Die Kreuzvalidierung wurde teilweise mit und teilweise ohne der \"stratified\"-Option durchgeführt\n",
    "</li>\n",
    "</ul>\n",
    "<li><b>Unterschiedliche Hyperparameteroptimierungen</b>\n",
    "<ul>\n",
    "<li>Bestimmte Hyperparameter wurden nicht optimiert, bspw. selectkbest fix mit k=5, PCA mit Maximalzahl Hauptkomponenten\n",
    "</ul>"
   ]
  },
  {
   "cell_type": "markdown",
   "metadata": {},
   "source": [
    "<u><b>(3) Bei Verwendung von externen Inhalten sollten immer Verweise angegeben werden (vor allem ChatGPT)</b></u>"
   ]
  },
  {
   "cell_type": "markdown",
   "metadata": {},
   "source": [
    "<u><b>(4) Konkretisierung: Erreichbare Punkte auf einer ROC-Kurve</b></u><br>\n",
    "Bei ROC-Kurven können über Änderungen der Schwellwerte sowohl die Ecken, als auch einige Punkte auf senkrechten oder waagerechten Linien erreicht werden!</b><br>\n",
    "Punkte innerhalb schräger Linien (TPR und FPR ändern sich gleichzeitig) können niemals erreicht werden.<br>\n",
    "Bei N verschiedenen Objekten mit insgesamt X (<=N) verschiedenen Wahrscheinlichkeiten, gibt es X+1 verschiedene TPR/FPR-Kombinationen, und damit X+1 erreichbare Punkte auf der ROC-Kurve.\n"
   ]
  },
  {
   "cell_type": "code",
   "execution_count": 15,
   "metadata": {},
   "outputs": [],
   "source": [
    "!(ROC.gif \"ROC\")"
   ]
  },
  {
   "cell_type": "markdown",
   "metadata": {},
   "source": [
    "# A1 Feature Selection mit Oversampling"
   ]
  },
  {
   "cell_type": "markdown",
   "metadata": {},
   "source": [
    "## Gruppe 1"
   ]
  },
  {
   "cell_type": "markdown",
   "metadata": {},
   "source": [
    "<ul>\n",
    "<li>Erklärungen SelectKBest und imblearn.pipeline waren gut\n",
    "<li>Es wurde nicht <b>RepeatedStratifiedKFold</b> wie vorgegeben verwendet, sondern die Standard cv<br>\n",
    "    A stratified split ensures that the proportion of each class in the original dataset is preserved in both the training and testing sets.<br>\n",
    "</ul>"
   ]
  },
  {
   "cell_type": "markdown",
   "metadata": {},
   "source": [
    "## Gruppe 2"
   ]
  },
  {
   "cell_type": "markdown",
   "metadata": {},
   "source": [
    "<b>Diese Gruppe hat leider kein Notebook abgegeben !!!</b>"
   ]
  },
  {
   "cell_type": "markdown",
   "metadata": {},
   "source": [
    "# A2 Feature Selection mit SMOTE"
   ]
  },
  {
   "cell_type": "markdown",
   "metadata": {},
   "source": [
    "## Gruppe 3"
   ]
  },
  {
   "cell_type": "markdown",
   "metadata": {},
   "source": [
    "<ul>\n",
    "<li>Ausführlichen Verweise\n",
    "<li>Schöne latex-Tabelle</li>\n",
    "<li>Es wurden die mittleren F1-Werte für alle Parameterkombination ausgegeben-<br>\n",
    "    zumindest die mittleren für die einzelnen hyperparameteroptimierten Klassifizierer wäre gut gewesen.\n",
    "<li>Mit dem besten Parametern sollte auch gleichzeitig der dort erreichte Score mit ausgegeben werden\n",
    "<ul>"
   ]
  },
  {
   "cell_type": "markdown",
   "metadata": {},
   "source": [
    "## Gruppe 4"
   ]
  },
  {
   "cell_type": "markdown",
   "metadata": {},
   "source": [
    "<ul>\n",
    "<li><b>Es wurde bei allen Auswertungen nur 5 Features verwendet!</b><br>\n",
    "feature_selector = SelectKBest(score_func=f_classif, k=5)\n",
    "<li>Gute Darstellung der Ergebnisse\n",
    "</u>"
   ]
  },
  {
   "cell_type": "markdown",
   "metadata": {},
   "source": [
    "# A3 PCA und Klassengewichtungen"
   ]
  },
  {
   "cell_type": "markdown",
   "metadata": {},
   "source": [
    "## Gruppe 5"
   ]
  },
  {
   "cell_type": "markdown",
   "metadata": {},
   "source": [
    "<ul>\n",
    "<li><b>Ihr habe nicht die Gewichte in der Zielfunktion eines Klassifikators geändert,<br>\n",
    "sondern ihr haben den F1-score mit Gewichten angepasst!!!</b><br>\n",
    "f1_scorer = make_scorer(f1_score, average='weighted')\n",
    "<li>Zunächst habt ihr RepeatedKFold schön definiert:<br>\n",
    "    cv = RepeatedKFold(n_splits= n_splits, n_repeats= n_repeats)<br>\n",
    "    <b>Im GridSearchCV habt ihr aber dann dieses cv nicht mehr verwendet:</b><br>\n",
    "    search = GridSearchCV(pipe, param_grid, scoring=f1_scorer, cv=5, n_jobs=-1, verbose=1)\n",
    "<li>For dem fitten des Gridsearch habt ihr 30% Testdaten herausgenommen (warum 30%?)\n",
    "<li>Den Code für die Plots habt ihr einfach kopiert<br>\n",
    "    <b>ohne anzupassen, dass der test_score hier F1 ist, und nicht accuracy!</b>\n",
    "</ul>"
   ]
  },
  {
   "cell_type": "markdown",
   "metadata": {},
   "source": [
    "## Gruppe 6"
   ]
  },
  {
   "cell_type": "markdown",
   "metadata": {},
   "source": [
    "<ul>\n",
    "<li>Keine Überschrift im Jupyter Notebook\n",
    "<li>Sonst alles OK\n",
    "</ul>"
   ]
  },
  {
   "cell_type": "markdown",
   "metadata": {},
   "source": [
    "# A4 PCA und Thresholding"
   ]
  },
  {
   "cell_type": "markdown",
   "metadata": {},
   "source": [
    "## Gruppe 7"
   ]
  },
  {
   "cell_type": "markdown",
   "metadata": {},
   "source": [
    "<ul>\n",
    "<li>Der FixedThresholdClassifier wurde nur mit der Logistischen Regression und nicht mit 3 verschiedenen Klassifizieren optimiert.\n",
    "<li>Bemerkung: beim kNN mit k=1 kommen als Wahrscheinlichkeiten nur 0 und 1 vor. Daher macht dort der FixedThresholdClassifier keinen Sinn\n",
    "<li>Sonst gute Ausarbeitung\n",
    "</ul>"
   ]
  },
  {
   "cell_type": "markdown",
   "metadata": {},
   "source": [
    "## Gruppe 8"
   ]
  },
  {
   "cell_type": "markdown",
   "metadata": {},
   "source": [
    "<ul>\n",
    "<li>In der Datei bedeutet 0 bereits kein Parkison. Daher war das folgende zuviel:<br>\n",
    "    #invertieren, damit kein Parkinson 0 ist und Parkinson 1 ist<br>\n",
    "    y = 1 - y\n",
    "<li><b>Ein PCA mit Defaultwerten ('pca', PCA()) bedeutet, dass die maximal Anzahl Hauptkomponenten verwendet wird<br>\n",
    "    = # features -1</b>b>\n",
    "<ul>"
   ]
  },
  {
   "cell_type": "markdown",
   "metadata": {},
   "source": [
    "# A5 ROC und Thresholding"
   ]
  },
  {
   "cell_type": "markdown",
   "metadata": {},
   "source": [
    "## Gruppe 9"
   ]
  },
  {
   "cell_type": "markdown",
   "metadata": {},
   "source": [
    "<ul>\n",
    "<li>Verweis auf ChatGPT vorhanden\n",
    "<li>Gute Ausarbeitung\n",
    "</ul>"
   ]
  },
  {
   "cell_type": "markdown",
   "metadata": {},
   "source": [
    "## Gruppe 10"
   ]
  },
  {
   "cell_type": "markdown",
   "metadata": {},
   "source": [
    "<ul>\n",
    "<li>Für den Parameter Kompononenten bei PCA wurde nur 75% und 95% verwendet - es sollten auch kleinere %-Werte ptobiert werden.\n",
    "<li>Den folgenden Code habt ihr verendet:<br>\n",
    "    tn, fp, fn, tp = confusion_matrix(y_test, y_pred_threshold).ravel()<br>\n",
    "    Richtig wäre gewesen:<br>\n",
    "    tp, fn, fp, tn = confusion_matrix(y_test, y_pred_threshold).ravel()\n",
    "    \n",
    "<li>Bei der Schätzung der Klassen mit Threshold habt ihr verwendet:<br>\n",
    "    y_pred_threshold = (y_prob >= threshold).astype(int)<br>\n",
    "    richtig wäre gewesen:<br>\n",
    "    y_pred_threshold = (y_prob <= threshold).astype(int)<br>\n",
    "    So passen dann auch die berechneten TPR und FPR mit der ROC-Kurve zusammen.<br>\n",
    "    ALT: Threshold: 0.1 | TPR: 0.7193 | FPR: 0.1053 | F1-Score: 0.8200<br>\n",
    "    NEU: Threshold: 0.1 | TPR: 0.2807 | FPR: 0.8947 | F1-Score: 0.3556<br>\n",
    "<li>In der Grafik werden die Thresholds verwendet, die von der Methode roc_curve zurückgegeben werden,<br>\n",
    "und nicht die vorgegebenen:<br>\n",
    "fpr_list, tpr_list, thresholds = roc_curve(y_test, y_prob, pos_label=0)<br>\n",
    "Das waren die Thresholds, mit denen man vor eine Ecke der ROC-Kurve zur nächsten kommt<br>\n",
    "Duch die Rundung auf eine Nachkommastelle sah es so aus, als wären das die vorgegebenen Thresholds gewesen\n",
    "</ul>"
   ]
  }
 ],
 "metadata": {
  "kernelspec": {
   "display_name": "Python 3 (ipykernel)",
   "language": "python",
   "name": "python3"
  },
  "language_info": {
   "codemirror_mode": {
    "name": "ipython",
    "version": 3
   },
   "file_extension": ".py",
   "mimetype": "text/x-python",
   "name": "python",
   "nbconvert_exporter": "python",
   "pygments_lexer": "ipython3",
   "version": "3.10.13"
  }
 },
 "nbformat": 4,
 "nbformat_minor": 4
}
