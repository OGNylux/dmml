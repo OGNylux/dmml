{
 "cells": [
  {
   "cell_type": "code",
   "execution_count": 1,
   "metadata": {
    "ExecuteTime": {
     "end_time": "2024-11-11T08:31:00.810347300Z",
     "start_time": "2024-11-11T08:30:59.712553200Z"
    }
   },
   "outputs": [],
   "source": [
    "# Import dstools (absolute path required, please change to your systems settings)\n",
    "import importlib\n",
    "import sys\n",
    "\n",
    "path = '/dstools-master/dstools/__init__.py'\n",
    "name = 'dstools'\n",
    "\n",
    "spec = importlib.util.spec_from_file_location(name, path)\n",
    "module = importlib.util.module_from_spec(spec)\n",
    "sys.modules[spec.name] = module\n",
    "spec.loader.exec_module(module)"
   ]
  },
  {
   "cell_type": "code",
   "execution_count": 2,
   "metadata": {
    "ExecuteTime": {
     "end_time": "2024-11-11T08:31:02.719742300Z",
     "start_time": "2024-11-11T08:31:02.546908100Z"
    }
   },
   "outputs": [],
   "source": [
    "import matplotlib.pyplot as plt\n",
    "import numpy as np\n",
    "import pandas as pd\n",
    "import seaborn as sns\n",
    "\n",
    "from sklearn.preprocessing import StandardScaler\n",
    "from sklearn.decomposition import PCA\n",
    "\n",
    "from dstools.datasets import usarrests"
   ]
  },
  {
   "cell_type": "markdown",
   "metadata": {},
   "source": [
    "# Zentrierung vs. Standardisierung\n",
    "\n",
    "In diesem Notebook betrachten wir die Auswirkung der Zentrierung und Standardisierung auf die PCA. Wir berechnen dazu die Kovarianzmatrix und die PCA für nicht-transformierte, zentrierte und Standardisierte Daten. Als Datensatz nehmen wir  USArrests aus den dstools."
   ]
  },
  {
   "cell_type": "code",
   "execution_count": 3,
   "metadata": {
    "ExecuteTime": {
     "end_time": "2024-11-11T08:31:05.432424800Z",
     "start_time": "2024-11-11T08:31:05.411102800Z"
    }
   },
   "outputs": [
    {
     "data": {
      "text/plain": "   Murder  Assault  UrbanPop  Rape\n0    13.2      236        58  21.2\n1    10.0      263        48  44.5\n2     8.1      294        80  31.0\n3     8.8      190        50  19.5\n4     9.0      276        91  40.6",
      "text/html": "<div>\n<style scoped>\n    .dataframe tbody tr th:only-of-type {\n        vertical-align: middle;\n    }\n\n    .dataframe tbody tr th {\n        vertical-align: top;\n    }\n\n    .dataframe thead th {\n        text-align: right;\n    }\n</style>\n<table border=\"1\" class=\"dataframe\">\n  <thead>\n    <tr style=\"text-align: right;\">\n      <th></th>\n      <th>Murder</th>\n      <th>Assault</th>\n      <th>UrbanPop</th>\n      <th>Rape</th>\n    </tr>\n  </thead>\n  <tbody>\n    <tr>\n      <th>0</th>\n      <td>13.2</td>\n      <td>236</td>\n      <td>58</td>\n      <td>21.2</td>\n    </tr>\n    <tr>\n      <th>1</th>\n      <td>10.0</td>\n      <td>263</td>\n      <td>48</td>\n      <td>44.5</td>\n    </tr>\n    <tr>\n      <th>2</th>\n      <td>8.1</td>\n      <td>294</td>\n      <td>80</td>\n      <td>31.0</td>\n    </tr>\n    <tr>\n      <th>3</th>\n      <td>8.8</td>\n      <td>190</td>\n      <td>50</td>\n      <td>19.5</td>\n    </tr>\n    <tr>\n      <th>4</th>\n      <td>9.0</td>\n      <td>276</td>\n      <td>91</td>\n      <td>40.6</td>\n    </tr>\n  </tbody>\n</table>\n</div>"
     },
     "execution_count": 3,
     "metadata": {},
     "output_type": "execute_result"
    }
   ],
   "source": [
    "df = usarrests()\n",
    "X = df.for_pca()\n",
    "X.head()"
   ]
  },
  {
   "cell_type": "code",
   "execution_count": 4,
   "metadata": {
    "ExecuteTime": {
     "end_time": "2024-11-11T08:31:08.840282200Z",
     "start_time": "2024-11-11T08:31:08.819018Z"
    }
   },
   "outputs": [],
   "source": [
    "# Centered data\n",
    "X_ctd = X - X.mean()\n",
    "\n",
    "# Standardized data\n",
    "X_std = (X - X.mean())/X.std()"
   ]
  },
  {
   "cell_type": "code",
   "execution_count": 5,
   "metadata": {
    "ExecuteTime": {
     "end_time": "2024-11-11T08:31:10.047204100Z",
     "start_time": "2024-11-11T08:31:10.035179700Z"
    }
   },
   "outputs": [],
   "source": [
    "# Raw data\n",
    "pca = PCA()\n",
    "princComp = pca.fit_transform(X)\n",
    "\n",
    "# Centered data\n",
    "pca_ctd = PCA()\n",
    "princComp_ctd = pca_ctd.fit_transform(X_ctd)\n",
    "\n",
    "# Standardized data\n",
    "pca_std = PCA()\n",
    "princComp_std = pca_std.fit_transform(X_std)"
   ]
  },
  {
   "cell_type": "code",
   "execution_count": 6,
   "metadata": {
    "ExecuteTime": {
     "end_time": "2024-11-11T08:31:12.017041300Z",
     "start_time": "2024-11-11T08:31:11.969567100Z"
    }
   },
   "outputs": [
    {
     "data": {
      "text/plain": "                X Var  X Mean    X_ctd Var  X_ctd Mean  X_std Var  X_std Mean\nMurder      18.970465     8.0    18.970465        -0.0        1.0        -0.0\nAssault   6945.165714   171.0  6945.165714         0.0        1.0         0.0\nUrbanPop   209.518776    66.0   209.518776        -0.0        1.0        -0.0\nRape        87.729159    21.0    87.729159         0.0        1.0         0.0",
      "text/html": "<div>\n<style scoped>\n    .dataframe tbody tr th:only-of-type {\n        vertical-align: middle;\n    }\n\n    .dataframe tbody tr th {\n        vertical-align: top;\n    }\n\n    .dataframe thead th {\n        text-align: right;\n    }\n</style>\n<table border=\"1\" class=\"dataframe\">\n  <thead>\n    <tr style=\"text-align: right;\">\n      <th></th>\n      <th>X Var</th>\n      <th>X Mean</th>\n      <th>X_ctd Var</th>\n      <th>X_ctd Mean</th>\n      <th>X_std Var</th>\n      <th>X_std Mean</th>\n    </tr>\n  </thead>\n  <tbody>\n    <tr>\n      <th>Murder</th>\n      <td>18.970465</td>\n      <td>8.0</td>\n      <td>18.970465</td>\n      <td>-0.0</td>\n      <td>1.0</td>\n      <td>-0.0</td>\n    </tr>\n    <tr>\n      <th>Assault</th>\n      <td>6945.165714</td>\n      <td>171.0</td>\n      <td>6945.165714</td>\n      <td>0.0</td>\n      <td>1.0</td>\n      <td>0.0</td>\n    </tr>\n    <tr>\n      <th>UrbanPop</th>\n      <td>209.518776</td>\n      <td>66.0</td>\n      <td>209.518776</td>\n      <td>-0.0</td>\n      <td>1.0</td>\n      <td>-0.0</td>\n    </tr>\n    <tr>\n      <th>Rape</th>\n      <td>87.729159</td>\n      <td>21.0</td>\n      <td>87.729159</td>\n      <td>0.0</td>\n      <td>1.0</td>\n      <td>0.0</td>\n    </tr>\n  </tbody>\n</table>\n</div>"
     },
     "execution_count": 6,
     "metadata": {},
     "output_type": "execute_result"
    }
   ],
   "source": [
    "df = pd.DataFrame(data=X.var(), columns=['X Var'])\n",
    "df['X Mean'] = X.mean().round()\n",
    "df['X_ctd Var'] = X_ctd.var()\n",
    "df['X_ctd Mean'] = X_ctd.mean().round()\n",
    "df['X_std Var'] = X_std.var()\n",
    "df['X_std Mean'] = X_std.mean().round()\n",
    "df"
   ]
  },
  {
   "cell_type": "code",
   "execution_count": 7,
   "metadata": {
    "ExecuteTime": {
     "end_time": "2024-11-11T08:31:16.361264500Z",
     "start_time": "2024-11-11T08:31:16.175431800Z"
    }
   },
   "outputs": [
    {
     "data": {
      "text/plain": "<Figure size 640x480 with 1 Axes>",
      "image/png": "[encoded data removed]"
     },
     "metadata": {},
     "output_type": "display_data"
    }
   ],
   "source": [
    "sns.barplot(x=['PC1','PC2', 'PC3','PC4'],y=pca.explained_variance_);"
   ]
  },
  {
   "cell_type": "code",
   "execution_count": 8,
   "metadata": {
    "ExecuteTime": {
     "end_time": "2024-11-11T08:31:19.048632100Z",
     "start_time": "2024-11-11T08:31:18.947750500Z"
    }
   },
   "outputs": [
    {
     "data": {
      "text/plain": "<Figure size 640x480 with 1 Axes>",
      "image/png": "[encoded data removed]"
     },
     "metadata": {},
     "output_type": "display_data"
    }
   ],
   "source": [
    "sns.barplot(x=['PC1','PC2', 'PC3','PC4'],y=pca_ctd.explained_variance_);"
   ]
  },
  {
   "cell_type": "code",
   "execution_count": 9,
   "metadata": {
    "ExecuteTime": {
     "end_time": "2024-11-11T08:31:24.087149900Z",
     "start_time": "2024-11-11T08:31:23.958354200Z"
    }
   },
   "outputs": [
    {
     "data": {
      "text/plain": "<Figure size 640x480 with 1 Axes>",
      "image/png": "[encoded data removed]"
     },
     "metadata": {},
     "output_type": "display_data"
    }
   ],
   "source": [
    "sns.barplot(x=['PC1','PC2', 'PC3','PC4'],y=pca_std.explained_variance_);"
   ]
  },
  {
   "cell_type": "code",
   "execution_count": null,
   "outputs": [],
   "source": [],
   "metadata": {
    "collapsed": false
   }
  }
 ],
 "metadata": {
  "kernelspec": {
   "display_name": "base",
   "language": "python",
   "name": "python3"
  },
  "language_info": {
   "codemirror_mode": {
    "name": "ipython",
    "version": 3
   },
   "file_extension": ".py",
   "mimetype": "text/x-python",
   "name": "python",
   "nbconvert_exporter": "python",
   "pygments_lexer": "ipython3",
   "version": "3.9.12"
  }
 },
 "nbformat": 4,
 "nbformat_minor": 2
}
