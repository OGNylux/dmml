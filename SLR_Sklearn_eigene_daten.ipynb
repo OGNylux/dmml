{
 "cells": [
  {
   "cell_type": "markdown",
   "metadata": {},
   "source": [
    "# Simple Lineare Regression mit `sklearn` berechnen"
   ]
  },
  {
   "cell_type": "code",
   "execution_count": 2,
   "metadata": {
    "ExecuteTime": {
     "end_time": "2024-10-31T13:48:47.643283100Z",
     "start_time": "2024-10-31T13:48:44.394719400Z"
    }
   },
   "outputs": [],
   "source": [
    "# Import dstools (absolute path required, please change to your systems settings)\n",
    "import importlib\n",
    "import sys\n",
    "\n",
    "path = '/dstools-master/dstools/__init__.py'\n",
    "name = 'dstools'\n",
    "\n",
    "spec = importlib.util.spec_from_file_location(name, path)\n",
    "module = importlib.util.module_from_spec(spec)\n",
    "sys.modules[spec.name] = module\n",
    "spec.loader.exec_module(module)"
   ]
  },
  {
   "cell_type": "code",
   "execution_count": 3,
   "metadata": {
    "ExecuteTime": {
     "end_time": "2024-10-31T13:48:47.904397600Z",
     "start_time": "2024-10-31T13:48:47.645282200Z"
    }
   },
   "outputs": [],
   "source": [
    "import pandas as pd\n",
    "import numpy as np\n",
    "\n",
    "from sklearn.linear_model import LinearRegression\n",
    "from sklearn import metrics\n",
    "\n",
    "from dstools.datasets import sunshine"
   ]
  },
  {
   "cell_type": "code",
   "execution_count": 4,
   "metadata": {
    "ExecuteTime": {
     "end_time": "2024-10-31T13:48:49.258132800Z",
     "start_time": "2024-10-31T13:48:49.225432700Z"
    }
   },
   "outputs": [
    {
     "data": {
      "text/plain": "      ID     TV  Radio  Newspaper  Sales\n0      1  230.1   37.8       69.2   22.1\n1      2   44.5   39.3       45.1   10.4\n2      3   17.2   45.9       69.3    9.3\n3      4  151.5   41.3       58.5   18.5\n4      5  180.8   10.8       58.4   12.9\n..   ...    ...    ...        ...    ...\n195  196   38.2    3.7       13.8    7.6\n196  197   94.2    4.9        8.1    9.7\n197  198  177.0    9.3        6.4   12.8\n198  199  283.6   42.0       66.2   25.5\n199  200  232.1    8.6        8.7   13.4\n\n[200 rows x 5 columns]",
      "text/html": "<div>\n<style scoped>\n    .dataframe tbody tr th:only-of-type {\n        vertical-align: middle;\n    }\n\n    .dataframe tbody tr th {\n        vertical-align: top;\n    }\n\n    .dataframe thead th {\n        text-align: right;\n    }\n</style>\n<table border=\"1\" class=\"dataframe\">\n  <thead>\n    <tr style=\"text-align: right;\">\n      <th></th>\n      <th>ID</th>\n      <th>TV</th>\n      <th>Radio</th>\n      <th>Newspaper</th>\n      <th>Sales</th>\n    </tr>\n  </thead>\n  <tbody>\n    <tr>\n      <th>0</th>\n      <td>1</td>\n      <td>230.1</td>\n      <td>37.8</td>\n      <td>69.2</td>\n      <td>22.1</td>\n    </tr>\n    <tr>\n      <th>1</th>\n      <td>2</td>\n      <td>44.5</td>\n      <td>39.3</td>\n      <td>45.1</td>\n      <td>10.4</td>\n    </tr>\n    <tr>\n      <th>2</th>\n      <td>3</td>\n      <td>17.2</td>\n      <td>45.9</td>\n      <td>69.3</td>\n      <td>9.3</td>\n    </tr>\n    <tr>\n      <th>3</th>\n      <td>4</td>\n      <td>151.5</td>\n      <td>41.3</td>\n      <td>58.5</td>\n      <td>18.5</td>\n    </tr>\n    <tr>\n      <th>4</th>\n      <td>5</td>\n      <td>180.8</td>\n      <td>10.8</td>\n      <td>58.4</td>\n      <td>12.9</td>\n    </tr>\n    <tr>\n      <th>...</th>\n      <td>...</td>\n      <td>...</td>\n      <td>...</td>\n      <td>...</td>\n      <td>...</td>\n    </tr>\n    <tr>\n      <th>195</th>\n      <td>196</td>\n      <td>38.2</td>\n      <td>3.7</td>\n      <td>13.8</td>\n      <td>7.6</td>\n    </tr>\n    <tr>\n      <th>196</th>\n      <td>197</td>\n      <td>94.2</td>\n      <td>4.9</td>\n      <td>8.1</td>\n      <td>9.7</td>\n    </tr>\n    <tr>\n      <th>197</th>\n      <td>198</td>\n      <td>177.0</td>\n      <td>9.3</td>\n      <td>6.4</td>\n      <td>12.8</td>\n    </tr>\n    <tr>\n      <th>198</th>\n      <td>199</td>\n      <td>283.6</td>\n      <td>42.0</td>\n      <td>66.2</td>\n      <td>25.5</td>\n    </tr>\n    <tr>\n      <th>199</th>\n      <td>200</td>\n      <td>232.1</td>\n      <td>8.6</td>\n      <td>8.7</td>\n      <td>13.4</td>\n    </tr>\n  </tbody>\n</table>\n<p>200 rows × 5 columns</p>\n</div>"
     },
     "execution_count": 4,
     "metadata": {},
     "output_type": "execute_result"
    }
   ],
   "source": [
    "df = pd.read_csv('advertising.csv')\n",
    "df"
   ]
  },
  {
   "cell_type": "markdown",
   "metadata": {},
   "source": [
    "## Response- und Predictorvariable festlegen\n",
    "\n",
    "`sklearn` benötigt die Predictorvariable(n) $X$ und die Responsevariable $Y$ als Spaltenvektoren. Dazu verwenden wir die `reshape` Methode von numpy:"
   ]
  },
  {
   "cell_type": "code",
   "execution_count": 5,
   "metadata": {
    "ExecuteTime": {
     "end_time": "2024-10-31T13:49:23.830166700Z",
     "start_time": "2024-10-31T13:49:23.815167700Z"
    }
   },
   "outputs": [],
   "source": [
    "X = np.array(df.TV).reshape((-1, 1))\n",
    "Y = np.array(df.Sales).reshape((-1, 1))"
   ]
  },
  {
   "cell_type": "markdown",
   "metadata": {},
   "source": [
    "## Berechnung der Koeffizienten\n",
    "\n",
    "Die eigentliche Regression wird mit der Methode `fit()` durchgeführt. Sehen wir uns dann die Koeffizienten der Regression und die fertige Regressionsgleichung an:"
   ]
  },
  {
   "cell_type": "code",
   "execution_count": 6,
   "metadata": {
    "ExecuteTime": {
     "end_time": "2024-10-31T13:49:34.146256600Z",
     "start_time": "2024-10-31T13:49:34.115660200Z"
    }
   },
   "outputs": [
    {
     "data": {
      "text/plain": "<IPython.core.display.Latex object>",
      "text/latex": "$\\hat{\\beta}_0$:"
     },
     "metadata": {},
     "output_type": "display_data"
    },
    {
     "data": {
      "text/plain": "<IPython.core.display.Math object>",
      "text/latex": "$\\displaystyle 7.032593549127695$"
     },
     "metadata": {},
     "output_type": "display_data"
    },
    {
     "data": {
      "text/plain": "<IPython.core.display.Latex object>",
      "text/latex": "$\\hat{\\beta}_1$:"
     },
     "metadata": {},
     "output_type": "display_data"
    },
    {
     "data": {
      "text/plain": "<IPython.core.display.Math object>",
      "text/latex": "$\\displaystyle 0.04753664043301975$"
     },
     "metadata": {},
     "output_type": "display_data"
    },
    {
     "name": "stdout",
     "output_type": "stream",
     "text": [
      "Regressionsgleichung: \n"
     ]
    },
    {
     "data": {
      "text/plain": "<IPython.core.display.Math object>",
      "text/latex": "$\\displaystyle Y = 7.03 + 0.05 \\cdot X$"
     },
     "metadata": {},
     "output_type": "display_data"
    }
   ],
   "source": [
    "model = LinearRegression().fit(X,Y)\n",
    "\n",
    "from IPython.display import display, Math, Latex\n",
    "beta_0 = model.intercept_[0]\n",
    "beta_1 = model.coef_[0][0]\n",
    "\n",
    "display(Latex(r'$\\hat{\\beta}_0$:')) \n",
    "display(Math(r'{}'.format(beta_0)))\n",
    "display(Latex(r'$\\hat{\\beta}_1$:'))\n",
    "display(Math(r'{}'.format(beta_1)))\n",
    "print(\"Regressionsgleichung: \")\n",
    "display(Math(r'Y = {} + {} \\cdot X'.format(round(beta_0,2),round(beta_1,2))))"
   ]
  },
  {
   "cell_type": "markdown",
   "metadata": {},
   "source": [
    "## R^2\n",
    "\n",
    "Das $R^2$ bekommen wir entweder direkt aus `model`oder mittels `metrics.r2_score`:"
   ]
  },
  {
   "cell_type": "code",
   "execution_count": 7,
   "metadata": {
    "ExecuteTime": {
     "end_time": "2024-10-31T13:49:46.906939600Z",
     "start_time": "2024-10-31T13:49:46.893727200Z"
    }
   },
   "outputs": [
    {
     "name": "stdout",
     "output_type": "stream",
     "text": [
      "0.611875050850071\n",
      "0.611875050850071\n"
     ]
    }
   ],
   "source": [
    "Y_hat = model.predict(X)\n",
    "\n",
    "print(model.score(X,Y))\n",
    "print(metrics.r2_score(Y, Y_hat))"
   ]
  },
  {
   "cell_type": "markdown",
   "metadata": {},
   "source": [
    "## Mean Squared Error"
   ]
  },
  {
   "cell_type": "code",
   "execution_count": 7,
   "metadata": {
    "ExecuteTime": {
     "end_time": "2024-10-31T13:21:01.349847800Z",
     "start_time": "2024-10-31T13:21:01.332847300Z"
    }
   },
   "outputs": [
    {
     "data": {
      "text/plain": "np.float64(15.67045886505566)"
     },
     "execution_count": 7,
     "metadata": {},
     "output_type": "execute_result"
    }
   ],
   "source": [
    "metrics.mean_squared_error(Y,Y_hat)"
   ]
  },
  {
   "cell_type": "code",
   "execution_count": null,
   "outputs": [],
   "source": [],
   "metadata": {
    "collapsed": false
   }
  }
 ],
 "metadata": {
  "kernelspec": {
   "display_name": "base",
   "language": "python",
   "name": "python3"
  },
  "language_info": {
   "codemirror_mode": {
    "name": "ipython",
    "version": 3
   },
   "file_extension": ".py",
   "mimetype": "text/x-python",
   "name": "python",
   "nbconvert_exporter": "python",
   "pygments_lexer": "ipython3",
   "version": "3.9.12"
  },
  "orig_nbformat": 4
 },
 "nbformat": 4,
 "nbformat_minor": 2
}
