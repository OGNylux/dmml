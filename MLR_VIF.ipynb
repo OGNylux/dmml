{
 "cells": [
  {
   "cell_type": "markdown",
   "metadata": {},
   "source": [
    "# Variance Inflation Factor bestimmen\n",
    "\n",
    "In diesem Notebook bringen wir Klarheit in das Konstrukt \"Variance Inflation Factor\". Der VIF ist ein Zeichen für Kollinearität und ist definiert als \n",
    "\n",
    "$$VIF = \\frac{1}{1-R^2_{X_j|X_{-j}}}$$\n",
    "\n",
    "wobei $R^2_{X_j|X_{-j}}$ das $R^2$ von der Regression der $j$-ten Variable gegen alle anderen Variablen der Prädiktormatrix $X$ ist.\n",
    "\n",
    "Wir betrachten für das VIF also **nur** die Prädiktoren, nicht die Responsevariable, denn wir wollen ja Kollinearitäten zwischen den Prädiktoren erkennen.\n",
    "\n",
    "Der kleinste mögliche Wert für das VIF ist 1, dann ist absolut keine Kollinearität vorhanden. \n",
    "\n",
    "In der Praxis gilt: Ein VIF größer als 5 oder 10 zeigt ein problematisches Ausmaß an Kollinearität.\n",
    "\n",
    "Ist das $R^2_{X_j|X_{-j}}$ nahe 1, dann liegt Kollinearität vor und das VIF ist sehr groß. \n",
    "\n",
    "Das VIF kann auch als Diagonalelemente der inversen Korrelationsmatrix bestimmt werden."
   ]
  },
  {
   "cell_type": "code",
   "execution_count": 4,
   "metadata": {
    "ExecuteTime": {
     "end_time": "2024-11-04T09:23:54.786903400Z",
     "start_time": "2024-11-04T09:23:51.823945300Z"
    }
   },
   "outputs": [],
   "source": [
    "# Import dstools (absolute path required, please change to your systems settings)\n",
    "import importlib\n",
    "import sys\n",
    "\n",
    "path = '/dstools-master/dstools/__init__.py'\n",
    "name = 'dstools'\n",
    "\n",
    "spec = importlib.util.spec_from_file_location(name, path)\n",
    "module = importlib.util.module_from_spec(spec)\n",
    "sys.modules[spec.name] = module\n",
    "spec.loader.exec_module(module)"
   ]
  },
  {
   "cell_type": "markdown",
   "metadata": {},
   "source": [
    "## Daten laden"
   ]
  },
  {
   "cell_type": "code",
   "execution_count": 5,
   "metadata": {
    "ExecuteTime": {
     "end_time": "2024-11-04T09:23:55.639818900Z",
     "start_time": "2024-11-04T09:23:55.628897700Z"
    }
   },
   "outputs": [],
   "source": [
    "import pandas as pd\n",
    "import numpy as np\n",
    "\n",
    "from dstools.datasets import bodyfat\n",
    "from dstools.tools import quality, vif"
   ]
  },
  {
   "cell_type": "code",
   "execution_count": 6,
   "metadata": {
    "ExecuteTime": {
     "end_time": "2024-11-04T09:23:58.322662700Z",
     "start_time": "2024-11-04T09:23:58.272105900Z"
    }
   },
   "outputs": [
    {
     "name": "stderr",
     "output_type": "stream",
     "text": [
      "D:\\dstools-master/dstools\\datasets\\bodyfat.py:89: FutureWarning: DataFrame.applymap has been deprecated. Use DataFrame.map instead.\n",
      "  df[['Weight', 'Height']] = df[['Weight', 'Height']].applymap(lambda x: round(x, 2))\n",
      "D:\\dstools-master/dstools\\datasets\\bodyfat.py:90: FutureWarning: DataFrame.applymap has been deprecated. Use DataFrame.map instead.\n",
      "  df[to_convert] = df[to_convert].applymap(lambda x: round(x * 0.39370, 2))\n",
      "D:\\dstools-master/dstools\\datasets\\bodyfat.py:35: FutureWarning: DataFrame.applymap has been deprecated. Use DataFrame.map instead.\n",
      "  df[weights] = df[weights].applymap(lambda x: round(x * 0.45359237, 2))\n",
      "D:\\dstools-master/dstools\\datasets\\bodyfat.py:36: FutureWarning: DataFrame.applymap has been deprecated. Use DataFrame.map instead.\n",
      "  df[lengths] = df[lengths].applymap(lambda x: round(x / 0.39370, 2))\n"
     ]
    },
    {
     "data": {
      "text/plain": "   Density  Percent  Age  Weight  Height   Neck   Chest  Abdomen     Hip  \\\n0   1.0708     12.3   23   69.97  172.09  36.20   93.09    85.19   94.49   \n1   1.0853      6.1   22   78.58  183.52  38.51   93.60    83.01   98.70   \n2   1.0414     25.3   22   69.85  168.28  34.01   95.81    87.91   99.21   \n3   1.0751     10.4   26   83.80  183.52  37.39  101.80    86.41  101.19   \n4   1.0340     28.7   24   83.57  180.98  34.39   97.31   100.00  101.91   \n\n   Thigh   Knee  Ankle  Biceps  Forearm  Wrist  \n0  59.00  37.31  21.89   32.00    27.41  17.09  \n1  58.70  37.31  23.39   30.51    28.91  18.21  \n2  59.59  38.89  24.00   28.80    25.20  16.61  \n3  60.10  37.31  22.81   32.41    29.39  18.21  \n4  63.20  42.19  24.00   32.21    27.71  17.70  ",
      "text/html": "<div>\n<style scoped>\n    .dataframe tbody tr th:only-of-type {\n        vertical-align: middle;\n    }\n\n    .dataframe tbody tr th {\n        vertical-align: top;\n    }\n\n    .dataframe thead th {\n        text-align: right;\n    }\n</style>\n<table border=\"1\" class=\"dataframe\">\n  <thead>\n    <tr style=\"text-align: right;\">\n      <th></th>\n      <th>Density</th>\n      <th>Percent</th>\n      <th>Age</th>\n      <th>Weight</th>\n      <th>Height</th>\n      <th>Neck</th>\n      <th>Chest</th>\n      <th>Abdomen</th>\n      <th>Hip</th>\n      <th>Thigh</th>\n      <th>Knee</th>\n      <th>Ankle</th>\n      <th>Biceps</th>\n      <th>Forearm</th>\n      <th>Wrist</th>\n    </tr>\n  </thead>\n  <tbody>\n    <tr>\n      <th>0</th>\n      <td>1.0708</td>\n      <td>12.3</td>\n      <td>23</td>\n      <td>69.97</td>\n      <td>172.09</td>\n      <td>36.20</td>\n      <td>93.09</td>\n      <td>85.19</td>\n      <td>94.49</td>\n      <td>59.00</td>\n      <td>37.31</td>\n      <td>21.89</td>\n      <td>32.00</td>\n      <td>27.41</td>\n      <td>17.09</td>\n    </tr>\n    <tr>\n      <th>1</th>\n      <td>1.0853</td>\n      <td>6.1</td>\n      <td>22</td>\n      <td>78.58</td>\n      <td>183.52</td>\n      <td>38.51</td>\n      <td>93.60</td>\n      <td>83.01</td>\n      <td>98.70</td>\n      <td>58.70</td>\n      <td>37.31</td>\n      <td>23.39</td>\n      <td>30.51</td>\n      <td>28.91</td>\n      <td>18.21</td>\n    </tr>\n    <tr>\n      <th>2</th>\n      <td>1.0414</td>\n      <td>25.3</td>\n      <td>22</td>\n      <td>69.85</td>\n      <td>168.28</td>\n      <td>34.01</td>\n      <td>95.81</td>\n      <td>87.91</td>\n      <td>99.21</td>\n      <td>59.59</td>\n      <td>38.89</td>\n      <td>24.00</td>\n      <td>28.80</td>\n      <td>25.20</td>\n      <td>16.61</td>\n    </tr>\n    <tr>\n      <th>3</th>\n      <td>1.0751</td>\n      <td>10.4</td>\n      <td>26</td>\n      <td>83.80</td>\n      <td>183.52</td>\n      <td>37.39</td>\n      <td>101.80</td>\n      <td>86.41</td>\n      <td>101.19</td>\n      <td>60.10</td>\n      <td>37.31</td>\n      <td>22.81</td>\n      <td>32.41</td>\n      <td>29.39</td>\n      <td>18.21</td>\n    </tr>\n    <tr>\n      <th>4</th>\n      <td>1.0340</td>\n      <td>28.7</td>\n      <td>24</td>\n      <td>83.57</td>\n      <td>180.98</td>\n      <td>34.39</td>\n      <td>97.31</td>\n      <td>100.00</td>\n      <td>101.91</td>\n      <td>63.20</td>\n      <td>42.19</td>\n      <td>24.00</td>\n      <td>32.21</td>\n      <td>27.71</td>\n      <td>17.70</td>\n    </tr>\n  </tbody>\n</table>\n</div>"
     },
     "execution_count": 6,
     "metadata": {},
     "output_type": "execute_result"
    }
   ],
   "source": [
    "df = bodyfat()\n",
    "df.convert(unit=\"metric\")\n",
    "df.head()"
   ]
  },
  {
   "cell_type": "code",
   "execution_count": 7,
   "metadata": {
    "ExecuteTime": {
     "end_time": "2024-11-04T09:24:00.112827300Z",
     "start_time": "2024-11-04T09:24:00.094760300Z"
    }
   },
   "outputs": [],
   "source": [
    "# Get X and y for Linear Regression\n",
    "X, y = df.for_regression()"
   ]
  },
  {
   "cell_type": "markdown",
   "metadata": {},
   "source": [
    "### VIF mittels inverser Korrelationsmatrix\n",
    "\n",
    "Wir können die inverse Matrix direkt aus unserem Pandas-Dataframe berechnen:"
   ]
  },
  {
   "cell_type": "code",
   "execution_count": 5,
   "metadata": {
    "ExecuteTime": {
     "end_time": "2024-10-31T14:11:11.770955400Z",
     "start_time": "2024-10-31T14:11:11.682168500Z"
    }
   },
   "outputs": [
    {
     "data": {
      "text/plain": "array([ 2.24776988, 33.51170689,  1.67378493,  4.32439027,  9.4614085 ,\n       11.77919266, 14.79902778,  7.77200665,  4.61118844,  1.90609216,\n        3.62195761,  2.19216283,  3.37953898])"
     },
     "execution_count": 5,
     "metadata": {},
     "output_type": "execute_result"
    }
   ],
   "source": [
    "np.diag(np.linalg.inv(X.corr()))"
   ]
  },
  {
   "cell_type": "markdown",
   "metadata": {},
   "source": [
    "### VIF mit dstools berechnen"
   ]
  },
  {
   "cell_type": "code",
   "execution_count": 6,
   "metadata": {
    "ExecuteTime": {
     "end_time": "2024-10-31T14:11:15.915927700Z",
     "start_time": "2024-10-31T14:11:15.805417900Z"
    }
   },
   "outputs": [],
   "source": [
    "?vif"
   ]
  },
  {
   "cell_type": "code",
   "execution_count": 7,
   "metadata": {
    "ExecuteTime": {
     "end_time": "2024-10-31T14:16:16.489601Z",
     "start_time": "2024-10-31T14:16:16.409602300Z"
    }
   },
   "outputs": [
    {
     "data": {
      "text/plain": "    columns        vif\n1    Weight  33.511707\n6       Hip  14.799028\n5   Abdomen  11.779193\n4     Chest   9.461408\n7     Thigh   7.772007\n8      Knee   4.611188\n3      Neck   4.324390\n10   Biceps   3.621958\n12    Wrist   3.379539\n0       Age   2.247770\n11  Forearm   2.192163\n9     Ankle   1.906092\n2    Height   1.673785",
      "text/html": "<div>\n<style scoped>\n    .dataframe tbody tr th:only-of-type {\n        vertical-align: middle;\n    }\n\n    .dataframe tbody tr th {\n        vertical-align: top;\n    }\n\n    .dataframe thead th {\n        text-align: right;\n    }\n</style>\n<table border=\"1\" class=\"dataframe\">\n  <thead>\n    <tr style=\"text-align: right;\">\n      <th></th>\n      <th>columns</th>\n      <th>vif</th>\n    </tr>\n  </thead>\n  <tbody>\n    <tr>\n      <th>1</th>\n      <td>Weight</td>\n      <td>33.511707</td>\n    </tr>\n    <tr>\n      <th>6</th>\n      <td>Hip</td>\n      <td>14.799028</td>\n    </tr>\n    <tr>\n      <th>5</th>\n      <td>Abdomen</td>\n      <td>11.779193</td>\n    </tr>\n    <tr>\n      <th>4</th>\n      <td>Chest</td>\n      <td>9.461408</td>\n    </tr>\n    <tr>\n      <th>7</th>\n      <td>Thigh</td>\n      <td>7.772007</td>\n    </tr>\n    <tr>\n      <th>8</th>\n      <td>Knee</td>\n      <td>4.611188</td>\n    </tr>\n    <tr>\n      <th>3</th>\n      <td>Neck</td>\n      <td>4.324390</td>\n    </tr>\n    <tr>\n      <th>10</th>\n      <td>Biceps</td>\n      <td>3.621958</td>\n    </tr>\n    <tr>\n      <th>12</th>\n      <td>Wrist</td>\n      <td>3.379539</td>\n    </tr>\n    <tr>\n      <th>0</th>\n      <td>Age</td>\n      <td>2.247770</td>\n    </tr>\n    <tr>\n      <th>11</th>\n      <td>Forearm</td>\n      <td>2.192163</td>\n    </tr>\n    <tr>\n      <th>9</th>\n      <td>Ankle</td>\n      <td>1.906092</td>\n    </tr>\n    <tr>\n      <th>2</th>\n      <td>Height</td>\n      <td>1.673785</td>\n    </tr>\n  </tbody>\n</table>\n</div>"
     },
     "execution_count": 7,
     "metadata": {},
     "output_type": "execute_result"
    }
   ],
   "source": [
    "vif(X, threshold=1)"
   ]
  },
  {
   "cell_type": "code",
   "execution_count": 8,
   "metadata": {
    "ExecuteTime": {
     "end_time": "2024-10-31T14:16:17.823936Z",
     "start_time": "2024-10-31T14:16:17.791019600Z"
    }
   },
   "outputs": [
    {
     "data": {
      "text/plain": "   columns        vif\n1   Weight  33.511707\n6      Hip  14.799028\n5  Abdomen  11.779193\n4    Chest   9.461408\n7    Thigh   7.772007",
      "text/html": "<div>\n<style scoped>\n    .dataframe tbody tr th:only-of-type {\n        vertical-align: middle;\n    }\n\n    .dataframe tbody tr th {\n        vertical-align: top;\n    }\n\n    .dataframe thead th {\n        text-align: right;\n    }\n</style>\n<table border=\"1\" class=\"dataframe\">\n  <thead>\n    <tr style=\"text-align: right;\">\n      <th></th>\n      <th>columns</th>\n      <th>vif</th>\n    </tr>\n  </thead>\n  <tbody>\n    <tr>\n      <th>1</th>\n      <td>Weight</td>\n      <td>33.511707</td>\n    </tr>\n    <tr>\n      <th>6</th>\n      <td>Hip</td>\n      <td>14.799028</td>\n    </tr>\n    <tr>\n      <th>5</th>\n      <td>Abdomen</td>\n      <td>11.779193</td>\n    </tr>\n    <tr>\n      <th>4</th>\n      <td>Chest</td>\n      <td>9.461408</td>\n    </tr>\n    <tr>\n      <th>7</th>\n      <td>Thigh</td>\n      <td>7.772007</td>\n    </tr>\n  </tbody>\n</table>\n</div>"
     },
     "execution_count": 8,
     "metadata": {},
     "output_type": "execute_result"
    }
   ],
   "source": [
    "# default value for threshold is 5\n",
    "vif(X)"
   ]
  },
  {
   "cell_type": "markdown",
   "metadata": {},
   "source": [
    "### VIF mit der Funktion variance_inflation_factor\n",
    "\n",
    "Das Paket statsmodels enthält eine Funktion \"variance_inflation_factor\", die allerdings zwei Besonderheiten hat:\n",
    "\n",
    "1. Als Input benötigen wir numpy-Arrays\n",
    "1. Der Prädiktormatrix muss ein Intercept-Term hinzugefügt werden\n",
    "\n",
    "Grund für die erste Bedingung: Intern verwendet die Funktion ein Slicing, das nicht mit Pandas-Dataframes funktioniert.\n",
    "\n",
    "Grund für die zweite Bedingung: Die Funktion verwendet OLS(), welches die Intercept-Spalte nicht wie smf.ols() automatisch hinzufügt, sondern explizit braucht."
   ]
  },
  {
   "cell_type": "code",
   "execution_count": 9,
   "metadata": {
    "ExecuteTime": {
     "end_time": "2024-10-31T14:16:20.588980Z",
     "start_time": "2024-10-31T14:16:20.279410400Z"
    }
   },
   "outputs": [],
   "source": [
    "from statsmodels.stats.outliers_influence import variance_inflation_factor"
   ]
  },
  {
   "cell_type": "code",
   "execution_count": 10,
   "metadata": {
    "ExecuteTime": {
     "end_time": "2024-10-31T14:16:21.471518700Z",
     "start_time": "2024-10-31T14:16:21.437894Z"
    }
   },
   "outputs": [
    {
     "data": {
      "text/plain": "array([[ 1.  , 23.  , 69.97, ..., 32.  , 27.41, 17.09],\n       [ 1.  , 22.  , 78.58, ..., 30.51, 28.91, 18.21],\n       [ 1.  , 22.  , 69.85, ..., 28.8 , 25.2 , 16.61],\n       ...,\n       [ 1.  , 72.  , 84.71, ..., 31.29, 27.2 , 18.01],\n       [ 1.  , 72.  , 86.52, ..., 30.51, 29.39, 19.81],\n       [ 1.  , 74.  , 94.12, ..., 33.71, 30.  , 20.9 ]])"
     },
     "execution_count": 10,
     "metadata": {},
     "output_type": "execute_result"
    }
   ],
   "source": [
    "# Transformation in ein Numpy-Array und Hinzufügen der Einser Spalte\n",
    "dfn = X.to_numpy()\n",
    "datamat = np.append(np.ones((dfn.shape[0],1)),dfn, axis=1)\n",
    "datamat"
   ]
  },
  {
   "cell_type": "code",
   "execution_count": 11,
   "metadata": {
    "ExecuteTime": {
     "end_time": "2024-10-31T14:16:23.445775200Z",
     "start_time": "2024-10-31T14:16:23.403492200Z"
    }
   },
   "outputs": [
    {
     "name": "stdout",
     "output_type": "stream",
     "text": [
      "2.247769881801335\n",
      "33.511706892726444\n",
      "1.673784929009302\n",
      "4.324390274242906\n",
      "9.461408499100358\n",
      "11.779192662747784\n",
      "14.799027782700893\n",
      "7.772006650787686\n",
      "4.611188442615579\n",
      "1.9060921554220234\n",
      "3.621957608139303\n",
      "2.1921628275750025\n"
     ]
    }
   ],
   "source": [
    "# VIF Berechnen:\n",
    "for i in range(1,13):\n",
    "    vf = variance_inflation_factor(datamat,i)\n",
    "    print(vf)"
   ]
  },
  {
   "cell_type": "markdown",
   "metadata": {},
   "source": [
    "### VIF als Regression berechnen\n",
    "\n",
    "Wir berechnen den VIF exemplarische für die Variable \"Weight\""
   ]
  },
  {
   "cell_type": "code",
   "execution_count": 12,
   "metadata": {
    "ExecuteTime": {
     "end_time": "2024-10-31T14:16:25.439103500Z",
     "start_time": "2024-10-31T14:16:25.288319700Z"
    }
   },
   "outputs": [],
   "source": [
    "import statsmodels.formula.api as smf"
   ]
  },
  {
   "cell_type": "code",
   "execution_count": 13,
   "metadata": {
    "ExecuteTime": {
     "end_time": "2024-10-31T14:16:26.096386700Z",
     "start_time": "2024-10-31T14:16:26.047161400Z"
    }
   },
   "outputs": [
    {
     "data": {
      "text/plain": "np.float64(33.511706892726444)"
     },
     "execution_count": 13,
     "metadata": {},
     "output_type": "execute_result"
    }
   ],
   "source": [
    "results = smf.ols('Weight ~ Age + Height + Neck + Chest + Abdomen + Hip + Thigh + Knee + Ankle + Biceps + Forearm + Wrist', data=df).fit()\n",
    "vif = 1/(1-results.rsquared)\n",
    "vif"
   ]
  },
  {
   "cell_type": "code",
   "execution_count": null,
   "outputs": [],
   "source": [],
   "metadata": {
    "collapsed": false
   }
  }
 ],
 "metadata": {
  "kernelspec": {
   "display_name": "Python 3.9.12 ('base')",
   "language": "python",
   "name": "python3"
  },
  "language_info": {
   "codemirror_mode": {
    "name": "ipython",
    "version": 3
   },
   "file_extension": ".py",
   "mimetype": "text/x-python",
   "name": "python",
   "nbconvert_exporter": "python",
   "pygments_lexer": "ipython3",
   "version": "3.9.12"
  },
  "orig_nbformat": 4,
  "vscode": {
   "interpreter": {
    "hash": "dd7196572b69c59cc0eccab309893e86548ddb8c2feba7c7f2bbdeb0303a6256"
   }
  }
 },
 "nbformat": 4,
 "nbformat_minor": 2
}
