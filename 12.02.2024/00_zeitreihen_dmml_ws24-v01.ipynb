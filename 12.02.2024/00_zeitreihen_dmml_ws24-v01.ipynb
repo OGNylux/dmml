{
 "cells": [
  {
   "cell_type": "markdown",
   "id": "8b887ae9",
   "metadata": {},
   "source": [
    "<font size=\"+3\">\n",
    "<center>\n",
    "<b>00 ZEITREIHENANALYSE</b><br>\n",
    "<font size=\"+2\">\n",
    "    <b>im Rahmen DMML (BDS, 3.Sem, WS24)</b><br>\n",
    "    <b>02.12.-03.12.2024</b><br>\n",
    "    Benward Asprion"
   ]
  },
  {
   "cell_type": "markdown",
   "id": "3d45b72b",
   "metadata": {},
   "source": [
    "<img src=\"pics/ersatzteil.JPG\" alt=\"Drawing\" style=\"width: 1000px;\"/>"
   ]
  },
  {
   "cell_type": "markdown",
   "id": "0a3269cf",
   "metadata": {},
   "source": [
    "https://www.porscheinformatik.com/kundenfokussierte-zukunftstrends-teil-1/"
   ]
  },
  {
   "cell_type": "markdown",
   "id": "35348b20",
   "metadata": {},
   "source": [
    "# Jupyter Notebooks"
   ]
  },
  {
   "cell_type": "markdown",
   "id": "a907064f",
   "metadata": {},
   "source": [
    "<ul>\n",
    "<li>Der gesamte LV-Inhalt wird über Jupyter-Notebooks zur Verfügung gestellt.\n",
    "<li>Auf eCampus gibt es eine ZIP-Datei für heute:\n",
    "    <ul>\n",
    "        <li>Verschiedene Jupyter Notebooks, diese greifen (relativ) auf die Unterordner <b>pics</b> und <b>data</b> zu\n",
    "    <li>Die Ordner 'pics' und 'data' mit den entsprechenen Inhalten sind auch in der ZIP-Datei\n",
    "    </ul>\n",
    "</ul>"
   ]
  },
  {
   "cell_type": "markdown",
   "id": "dececc6f",
   "metadata": {},
   "source": [
    "<i>Learn How to Write Markdown & LaTeX in The Jupyter Notebook</i><br>\n",
    "https://towardsdatascience.com/write-markdown-latex-in-the-jupyter-notebook-10985edb91fd"
   ]
  },
  {
   "cell_type": "markdown",
   "id": "f122f06c",
   "metadata": {},
   "source": [
    "# Organisatorisches"
   ]
  },
  {
   "cell_type": "markdown",
   "id": "9b24258c",
   "metadata": {},
   "source": [
    "## Zeitplan und Modalitäten"
   ]
  },
  {
   "cell_type": "markdown",
   "id": "14328eb2-4af4-4b82-a65d-73a22fd09aa1",
   "metadata": {},
   "source": [
    "<img src=\"pics/DMML-WS24-zeitplan.GIF\" alt=\"Drawing\" style=\"width: 700px;\"/>"
   ]
  },
  {
   "cell_type": "markdown",
   "id": "60c75127",
   "metadata": {},
   "source": [
    "<b>\n",
    "<ul>\n",
    "<li>Es wird aufgezeichnet - da alles über Notebook ohne Kamera\n",
    "<li>Es gibt keine Abgaben/Abgaben bzgl. der Zeitreihen\n",
    "<li>Es wird (ein paar wenige) Fragen über Zeitreihen im Test am Donnerstag geben\n",
    "</ul>\n",
    "</b>"
   ]
  },
  {
   "cell_type": "markdown",
   "id": "a2eb1d14",
   "metadata": {},
   "source": [
    "## Fokus der Lehrveranstaltung"
   ]
  },
  {
   "cell_type": "markdown",
   "id": "d31c25ac",
   "metadata": {},
   "source": [
    "<b>\n",
    "<ul>\n",
    "<li>Was habt ihr über Zeitreihenanalyse gehört bzw. könnt euch erinnern?\n",
    "<li>Was sind eure Erwartungen an die LV ?\n",
    "<li>Was würdet ihr gerne wissen?\n",
    "    </ul>"
   ]
  },
  {
   "cell_type": "markdown",
   "id": "1f8fbdd5",
   "metadata": {},
   "source": [
    "<b><u>Meine Sicht der Dinge</u></b>"
   ]
  },
  {
   "cell_type": "markdown",
   "id": "5cc01145",
   "metadata": {},
   "source": [
    "<b>Ausgangslage:</b><br>\n",
    "<ul>\n",
    "<li>Im BDS (bis auf DMML mit Thomas) kein separater Unterricht von Zeitreihen\n",
    "</ul>\n",
    "\n",
    "\n",
    "<b>Ziele:</b><br>\n",
    "<ul>\n",
    "    <li><b>Grundlagen vermitteln:</b><br>\n",
    "    die wichtigsten Begriffe, wichtigsten Verfahren (Pandas und Zeitreihen)<br>\n",
    "    (nach einer Einführung fällt ein intensive Beschäftigung viel leichter)\n",
    "    <li><b>Methode:</b>\n",
    "    <ul>\n",
    "    <li>Alles mit Jupyter Notebooks\n",
    "    <li>Vortrag\n",
    "    <li>Gemeinsames Durchspielen von Jupyter Notebooks\n",
    "    <li>Miniübungen im Rahmen der LV\n",
    "    </ul>\n",
    "</ul>"
   ]
  },
  {
   "cell_type": "markdown",
   "id": "4c938735",
   "metadata": {},
   "source": [
    "## Inhalte der Lehrveranstaltung"
   ]
  },
  {
   "cell_type": "markdown",
   "id": "e0ca2b97",
   "metadata": {},
   "source": [
    "<img src=\"pics/inhalte-lv.jpg\" alt=\"Drawing\" style=\"width: 700px;\"/>"
   ]
  },
  {
   "cell_type": "markdown",
   "id": "1a1fcbe9",
   "metadata": {},
   "source": [
    "<b>Das ist der maximale Inhalt.</b><br>\n",
    "<b>Die Abschnitt 13, 15 und 16 werden wir voraussichtlich nicht behandeln."
   ]
  },
  {
   "cell_type": "markdown",
   "id": "f8599972",
   "metadata": {},
   "source": [
    "## Literatur"
   ]
  },
  {
   "cell_type": "markdown",
   "id": "956019b7-3a1f-4034-b40b-344927b3c48b",
   "metadata": {},
   "source": [
    "### Hyndman/Athanasopoulus: Forecasting - Principles and Practice"
   ]
  },
  {
   "cell_type": "markdown",
   "id": "90c42079-ae8e-4729-94cf-8704797179b1",
   "metadata": {},
   "source": [
    "<u><b>Klare Empfehlung</b></u>"
   ]
  },
  {
   "cell_type": "markdown",
   "id": "f0221d35",
   "metadata": {},
   "source": [
    "<img src='pics/hyndman-bookcover.png' alt='Drawing' style='width: 300px;'/>"
   ]
  },
  {
   "cell_type": "markdown",
   "id": "f9f8ba4e",
   "metadata": {},
   "source": [
    "<font size=\"+1\"><b>https://otexts.com/fpp3/</b>"
   ]
  },
  {
   "cell_type": "markdown",
   "id": "5acf7369",
   "metadata": {},
   "source": [
    "<img src='pics/hyndman-website.png' alt='Drawing' style='width: 500px;'/>"
   ]
  },
  {
   "cell_type": "markdown",
   "id": "f6781fb3",
   "metadata": {},
   "source": [
    "<ul>\n",
    "<b>\n",
    "<li>Leider mit R-Code…..\n",
    "<li>Lohnt sich trotzdem\n",
    "<li>Online kostenfrei verfügbar\n",
    "<li>Wird häufig zitiert\n",
    "    </b>\n",
    "</ul>"
   ]
  },
  {
   "cell_type": "markdown",
   "id": "48725818",
   "metadata": {},
   "source": [
    "## Geron: Hands-On Machine Learning with Scikit-Learn, Keras & TensorFlow"
   ]
  },
  {
   "cell_type": "markdown",
   "id": "3952bc8d-d03d-4952-bc2b-4edf87a9f976",
   "metadata": {},
   "source": [
    "<b>Im 15.Kapitel: \"Forecasting a Time Series with ARIMA, linear model, simple and deep RNN</b>"
   ]
  },
  {
   "cell_type": "markdown",
   "id": "3bc0a3f0-3b7c-45be-bf78-3c16aa76592e",
   "metadata": {},
   "source": [
    "_ | _ | _\n",
    "- | - | - \n",
    "![alt](pics/Geron-HandsOn-3d.GIF) | ![alt](pics/Geron-chap15.GIF) | ![alt](pics/Oreilly.GIF)"
   ]
  },
  {
   "cell_type": "markdown",
   "id": "6647a4f8-850a-4fbc-bbf2-eb7ab4d5ea94",
   "metadata": {},
   "source": [
    "## Brownlee: Introduction to Time Series Forecasting with Python / Deep Learning for time series forecasting"
   ]
  },
  {
   "cell_type": "markdown",
   "id": "d6826c9e",
   "metadata": {},
   "source": [
    "_ | _\n",
    "- | - \n",
    "![alt](pics/brownlee-intro-TSF-bookcover.png) | ![alt](pics/brownlee-DL-TSF-bookcover.png)"
   ]
  },
  {
   "cell_type": "markdown",
   "id": "dd00ada7",
   "metadata": {},
   "source": [
    "<ul>\n",
    "<b>\n",
    "<li>Kostenpflichtig\n",
    "<li>Brownlee veröffentlicht viel im Internet - nicht immer gut\n",
    "<li>Keine Empfehlung - ich kenne die Bücher nicht\n",
    "</b>\n",
    "</ul>"
   ]
  },
  {
   "cell_type": "markdown",
   "id": "70843460",
   "metadata": {},
   "source": [
    "## Zeitreihenbücher ohne Code"
   ]
  },
  {
   "cell_type": "markdown",
   "id": "460b6e13",
   "metadata": {},
   "source": [
    "Für \"upper-level undergraduates\" | Gut für Verweise - mathematisch orientiert\n",
    "- | - \n",
    "![alt](pics/brockwell-into-ts-bookcover.png) | ![alt](pics/montgomery-ts-analysis-bookcover.png)"
   ]
  },
  {
   "cell_type": "markdown",
   "id": "876544b6",
   "metadata": {},
   "source": [
    "<u><b>Internetquellen</b></u>"
   ]
  },
  {
   "cell_type": "markdown",
   "id": "eba48fc3",
   "metadata": {},
   "source": [
    "<ul>\n",
    "<b>\n",
    "<li><b>Dokumentationen/Beispiele python-Libraries (sklearn, pandas, statsmodels, .... - zu empfehlen</b>\n",
    "    <li><b>Wikipedia - zum empfehlen</b>\n",
    "    <li><b>Medium, Towards Data Science, Towards AI</b>\n",
    "    <ul>\n",
    "    <li>gut als Wiederholung, oder entdecken von neuem\n",
    "    <li>zuerst in die Kommentare, und dann in den Text schauen!\n",
    "    <li>kritisch lesen\n",
    "    </ul>\n",
    "    <li>Youtube - kritisch ansehen, am bestehen mehrere über ein Thema anschauen\n",
    "</b>\n",
    "</ul>"
   ]
  },
  {
   "cell_type": "markdown",
   "id": "3a80463d",
   "metadata": {},
   "source": [
    "## Zeitplanung"
   ]
  },
  {
   "cell_type": "markdown",
   "id": "c2571bf5",
   "metadata": {},
   "source": [
    "<b>Die Zuordnung der Themen auf die beiden Tage erfolgt flexibel.</b>\n",
    "\n",
    "<ul><b>\n",
    "<li>00 Organisatorisches\n",
    "<li>01 Zeitreihen Einführung\n",
    "<li>02 Zeit und Datum in Python/pandas/NumPy\n",
    "<li>03 Operationen mit Zeitreihen\n",
    "<li>04 Zeitreihen als stochastischer Prozess\n",
    "<li>05 Visuelle Analyse von Zeitreihen\n",
    "<li>06 Stationarität\n",
    "<li>07 Zeitreihendekomposition\n",
    "<li>08 Autokorrelation\n",
    "<li>09 Forecasting Einführung\n",
    "<li>10 Forecasting- lineare Regression\n",
    "<li>11 Forecasting Basismethoden\n",
    "<li>13 ARIMA\n",
    "<li>14 Vector Autoregression\n",
    "<li>(15 Anomalieerkennung -  noch nicht fertig)\n",
    "<li>(16 Fallstudie Prognose Anrufaufkommen Rettungsleitstellen)\n",
    "</ul>"
   ]
  }
 ],
 "metadata": {
  "kernelspec": {
   "display_name": "Python 3 (ipykernel)",
   "language": "python",
   "name": "python3"
  },
  "language_info": {
   "codemirror_mode": {
    "name": "ipython",
    "version": 3
   },
   "file_extension": ".py",
   "mimetype": "text/x-python",
   "name": "python",
   "nbconvert_exporter": "python",
   "pygments_lexer": "ipython3",
   "version": "3.10.13"
  },
  "toc": {
   "base_numbering": 1,
   "nav_menu": {},
   "number_sections": true,
   "sideBar": true,
   "skip_h1_title": false,
   "title_cell": "Table of Contents",
   "title_sidebar": "Contents",
   "toc_cell": false,
   "toc_position": {
    "height": "366.6px",
    "left": "297px",
    "top": "66.1px",
    "width": "165px"
   },
   "toc_section_display": true,
   "toc_window_display": true
  }
 },
 "nbformat": 4,
 "nbformat_minor": 5
}
