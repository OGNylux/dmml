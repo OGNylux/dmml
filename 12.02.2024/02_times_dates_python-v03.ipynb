{
 "cells": [
  {
   "cell_type": "markdown",
   "id": "63a4fd93",
   "metadata": {},
   "source": [
    "**<font size=\"+3\">02 Zeit und Datum in Python, pandas, NumPy</font>**"
   ]
  },
  {
   "cell_type": "markdown",
   "id": "06e24fbb",
   "metadata": {},
   "source": [
    "![alt](pics/python.JPG) | ![alt](pics/pandas.JPG)| ![alt](pics/numpy.JPG)\n",
    "- | - | - :\n",
    " | Grafiken: Wikipedia | _"
   ]
  },
  {
   "cell_type": "code",
   "id": "4bb7e215",
   "metadata": {
    "ExecuteTime": {
     "end_time": "2024-12-02T09:58:36.124359Z",
     "start_time": "2024-12-02T09:58:35.330495Z"
    }
   },
   "source": [
    "import pandas as pd\n",
    "import numpy as np\n",
    "from IPython.display import Image"
   ],
   "outputs": [],
   "execution_count": 1
  },
  {
   "cell_type": "markdown",
   "id": "ab3f345a",
   "metadata": {},
   "source": [
    "<h1 style=\"font-family:Helvetica\">Python - Modul datetime</h1>"
   ]
  },
  {
   "cell_type": "code",
   "id": "000259be",
   "metadata": {
    "ExecuteTime": {
     "end_time": "2024-12-02T09:58:50.611298Z",
     "start_time": "2024-12-02T09:58:50.606592Z"
    }
   },
   "source": [
    "import datetime"
   ],
   "outputs": [],
   "execution_count": 2
  },
  {
   "cell_type": "markdown",
   "id": "f16095ab",
   "metadata": {},
   "source": [
    "**Dokumentation datetime:**  \n",
    "https://docs.python.org/3/library/datetime.html  "
   ]
  },
  {
   "cell_type": "markdown",
   "id": "0c0b3b84",
   "metadata": {},
   "source": [
    "<b>Einleitung</b><br>\n",
    "<ul>\n",
    "<li><b>Datum und Zeit sind in Python keine eigene Datentypen.</b>\n",
    "<li><b>\"datetime\" gibt es ein Modul, das in Python enthalten ist</b>\n",
    "<li><b>dieses Modul stellt Klassen bereit, um mit Datums- und Zeitwerten zu arbeiten<br> (Zeitzonen managen, Berechnungen, Formatierungen).</b>\n",
    "</ul>"
   ]
  },
  {
   "cell_type": "markdown",
   "id": "c4029cea",
   "metadata": {},
   "source": [
    "<b>Datentypen in Python:</b><br>\n",
    "* numerisch: int/long, float, complex, bool\n",
    "* sequenziell: str/unicode, list, tuple, string, dictionaries, set/frozenset\n",
    "* d.h. Datum und Zeit kommen nicht vor"
   ]
  },
  {
   "cell_type": "code",
   "id": "730a0657-3fb3-4e7a-b6cd-37629c1f6295",
   "metadata": {
    "ExecuteTime": {
     "end_time": "2024-12-02T09:58:55.184323Z",
     "start_time": "2024-12-02T09:58:55.178567Z"
    }
   },
   "source": [
    "datetime.date.today()"
   ],
   "outputs": [
    {
     "data": {
      "text/plain": [
       "datetime.date(2024, 12, 2)"
      ]
     },
     "execution_count": 3,
     "metadata": {},
     "output_type": "execute_result"
    }
   ],
   "execution_count": 3
  },
  {
   "cell_type": "code",
   "id": "5f164151-269f-4f20-960f-42ba771c6ea7",
   "metadata": {
    "ExecuteTime": {
     "end_time": "2024-12-02T09:58:55.979857Z",
     "start_time": "2024-12-02T09:58:55.761695Z"
    }
   },
   "source": [
    "date.today()"
   ],
   "outputs": [
    {
     "ename": "NameError",
     "evalue": "name 'date' is not defined",
     "output_type": "error",
     "traceback": [
      "\u001B[1;31m---------------------------------------------------------------------------\u001B[0m",
      "\u001B[1;31mNameError\u001B[0m                                 Traceback (most recent call last)",
      "Cell \u001B[1;32mIn[4], line 1\u001B[0m\n\u001B[1;32m----> 1\u001B[0m \u001B[43mdate\u001B[49m\u001B[38;5;241m.\u001B[39mtoday()\n",
      "\u001B[1;31mNameError\u001B[0m: name 'date' is not defined"
     ]
    }
   ],
   "execution_count": 4
  },
  {
   "cell_type": "code",
   "id": "3d400875",
   "metadata": {
    "ExecuteTime": {
     "end_time": "2024-12-02T09:58:57.104757Z",
     "start_time": "2024-12-02T09:58:57.102212Z"
    }
   },
   "source": [
    "from datetime import date\n",
    "# Damit erspart man sich Tipparbeit:\n",
    "# date.today() funktioniert damit\n",
    "# datetime.date.today() wäre sonst nötig\n",
    "from datetime import time\n",
    "from datetime import datetime\n",
    "from datetime import timedelta\n",
    "from datetime import timezone"
   ],
   "outputs": [],
   "execution_count": 5
  },
  {
   "cell_type": "code",
   "id": "d2ee4b28-f8ba-43a1-ae2e-39a30040daa1",
   "metadata": {
    "ExecuteTime": {
     "end_time": "2024-12-02T09:59:17.628567Z",
     "start_time": "2024-12-02T09:59:17.618987Z"
    }
   },
   "source": [
    "date.today()"
   ],
   "outputs": [
    {
     "data": {
      "text/plain": [
       "datetime.date(2024, 12, 2)"
      ]
     },
     "execution_count": 6,
     "metadata": {},
     "output_type": "execute_result"
    }
   ],
   "execution_count": 6
  },
  {
   "cell_type": "markdown",
   "id": "efcddc0d",
   "metadata": {},
   "source": [
    "## Klasse date"
   ]
  },
  {
   "cell_type": "markdown",
   "id": "a84d1b02",
   "metadata": {},
   "source": [
    "**Eigenschaften:**\n",
    "<ul>\n",
    "<li>Speichern von Datumswerten (ohne Uhrzeiten)\n",
    "<li>Attribute: year, month, day\n",
    "<li>Erlaubter Bereich für Jahr: 1 bis 9999\n",
    "    <li>Addition/Subtraktion <em>date</em> mit <em>timedelta</em> erzeugt <em>date</em>\n",
    "<li>Differenz von zwei <em>dates</em> erzeugt ein <b><em>timedelta</em></b>\n",
    "<li>Vergleich zweier Datumswerte erzeugt <b><em>bool</em></b>\n",
    "</ul>"
   ]
  },
  {
   "cell_type": "markdown",
   "id": "732626ba",
   "metadata": {},
   "source": [
    "| Beispiel Methode  | Beschreibung             |\n",
    "|---------------------|--------------------------|\n",
    "| date.today()        | Anzeige heutiges Datum |\n",
    "| date(2023,12,24)    | Erzeugen eines Datums  |\n",
    "| my_date.year        | Ausgabe Jahreszahl |\n",
    "| my_date.month       | Ausgabe Monatszahl |\n",
    "| my_date.day         | Ausgabe Tagesszahl |\n",
    "| my_date.weekday()   | Montag=0, Sonntag=6 |"
   ]
  },
  {
   "cell_type": "markdown",
   "id": "05b99b19",
   "metadata": {},
   "source": [
    "**(a) Erzeugung von date-Instanzen**"
   ]
  },
  {
   "cell_type": "code",
   "execution_count": null,
   "id": "014dd620",
   "metadata": {},
   "outputs": [],
   "source": [
    "date.today()"
   ]
  },
  {
   "cell_type": "code",
   "execution_count": null,
   "id": "07dbb5ab",
   "metadata": {},
   "outputs": [],
   "source": [
    "date.today().weekday()"
   ]
  },
  {
   "cell_type": "code",
   "execution_count": null,
   "id": "01f23296",
   "metadata": {},
   "outputs": [],
   "source": [
    "print('Heute ist:',date.today())"
   ]
  },
  {
   "cell_type": "code",
   "execution_count": null,
   "id": "e3e6a820",
   "metadata": {},
   "outputs": [],
   "source": [
    "my_date = date(2032,12,24)             # Zuerst Jahr, dann Monat, dann Tag)\n",
    "print('Weihnachten 2032 ist am:', my_date)"
   ]
  },
  {
   "cell_type": "markdown",
   "id": "227faf92",
   "metadata": {},
   "source": [
    "**Cheatsheet für Formate für strftime bzw. strptime:**  \n",
    "https://strftime.org/"
   ]
  },
  {
   "cell_type": "markdown",
   "id": "56df0d65",
   "metadata": {},
   "source": [
    "<b><u>strptime</u></b>\n",
    "<ul>\n",
    "    <li>ist die Abkürzung für <b>String parsed to Time</b></li>\n",
    "    <li>das cheatsheet <b>https://strftime.org/</b> ist hilfreich</li>\n",
    "</ul>"
   ]
  },
  {
   "cell_type": "code",
   "execution_count": null,
   "id": "499b4bf1",
   "metadata": {},
   "outputs": [],
   "source": [
    "string_date = \"24. im Monat 12 im Jahr 2023\"\n",
    "parsed_date = datetime.strptime( string_date, '%d. im Monat %m im Jahr %Y')\n",
    "parsed_date"
   ]
  },
  {
   "cell_type": "markdown",
   "id": "c7b9ba01",
   "metadata": {},
   "source": [
    "**Beim parsen eines Datumsstrings wird eine datetime-Instanz erzeugt.**  \n",
    "**Das kommt später. Mit date() lässt sich das reparieren.**"
   ]
  },
  {
   "cell_type": "code",
   "execution_count": null,
   "id": "a837e65c",
   "metadata": {},
   "outputs": [],
   "source": [
    "string_date = \"24. im Monat 12 im Jahr 2023\"\n",
    "parsed_date = datetime.strptime( string_date, '%d. im Monat %m im Jahr %Y').date()\n",
    "parsed_date"
   ]
  },
  {
   "cell_type": "markdown",
   "id": "10e3a900",
   "metadata": {},
   "source": [
    "**(b) Verarbeitung von date-Instanzen**"
   ]
  },
  {
   "cell_type": "markdown",
   "id": "4c1d3f3c",
   "metadata": {},
   "source": [
    "<b><u>strftime</u></b>\n",
    "<ul>\n",
    "    <li>ist die Abkürzung von <b>String from Time</b>"
   ]
  },
  {
   "cell_type": "code",
   "execution_count": null,
   "id": "f74391b9",
   "metadata": {},
   "outputs": [],
   "source": [
    "my_date"
   ]
  },
  {
   "cell_type": "code",
   "execution_count": null,
   "id": "cf20339f",
   "metadata": {
    "scrolled": true
   },
   "outputs": [],
   "source": [
    "string_date = my_date.strftime('%d.%m.%y')\n",
    "print('Formatiertes Datum:', string_date )\n",
    "print(type(string_date))"
   ]
  },
  {
   "cell_type": "code",
   "execution_count": null,
   "id": "7e027a76",
   "metadata": {},
   "outputs": [],
   "source": [
    "print('Der heutige Wochentag ist:', date.today().weekday() )"
   ]
  },
  {
   "cell_type": "code",
   "execution_count": null,
   "id": "4b849304",
   "metadata": {},
   "outputs": [],
   "source": [
    "print(my_date.year)\n",
    "print(type(my_date.year) )"
   ]
  },
  {
   "cell_type": "markdown",
   "id": "d299225e",
   "metadata": {},
   "source": [
    "## Klasse time"
   ]
  },
  {
   "cell_type": "markdown",
   "id": "455bda7e",
   "metadata": {},
   "source": [
    "**Eigenschaften:**\n",
    "<ul>\n",
    "<li>Speichern von Uhrzeiten - unabhängig von einem Tag\n",
    "<li>Auflösung: Mikrosekunden\n",
    "<li>Jder Tag hat 24*60*60 Sekunden\n",
    "<li>Attribute: hour, minute, second, microsecond, tzinfo\n",
    "<li>Zeitzonen können berücksichtigt werden (\"aware\") oder nicht (\"naiv\")\n",
    "<li>Zeiten können nicht addiert oder subtrahiert werden\n",
    "</ul>"
   ]
  },
  {
   "cell_type": "markdown",
   "id": "ef36bc76",
   "metadata": {},
   "source": [
    "| Methode            | Beschreibung             |\n",
    "|--------------------|--------------------------|\n",
    "|  ---      | Keine Anzeige der aktuellen Uhrzeit |\n",
    "| time(17,3,1) |   Erzeugen eines Zeitpunkts  |\n",
    "| my_time.hour   | Ausgabe der Stunde |\n",
    "| my_time.minute   | Ausgabe der Stunde |\n",
    "| my_time.second   | Ausgabe der Stunde |\n",
    "| my_time.microsecond   | Ausgabe der Stunde |"
   ]
  },
  {
   "cell_type": "markdown",
   "id": "c436951d",
   "metadata": {},
   "source": [
    "**(a) Erzeugung von time-Instanzen**"
   ]
  },
  {
   "cell_type": "code",
   "execution_count": null,
   "id": "0e41758f",
   "metadata": {},
   "outputs": [],
   "source": [
    "my_time = time(17,3,1)\n",
    "my_time"
   ]
  },
  {
   "cell_type": "code",
   "execution_count": null,
   "id": "bc0bb932",
   "metadata": {},
   "outputs": [],
   "source": [
    "print(my_time)"
   ]
  },
  {
   "cell_type": "code",
   "execution_count": null,
   "id": "fe28ab82",
   "metadata": {},
   "outputs": [],
   "source": [
    "string_time = '17 Uhr 39'\n",
    "parsed_time = datetime.strptime(string_time, '%H Uhr %M') \n",
    "print(parsed_time)"
   ]
  },
  {
   "cell_type": "code",
   "execution_count": null,
   "id": "90ad29ce",
   "metadata": {},
   "outputs": [],
   "source": [
    "string_time = '17 Uhr 39'\n",
    "parsed_time = datetime.strptime(string_time, '%H Uhr %M').time()\n",
    "print(parsed_time)"
   ]
  },
  {
   "cell_type": "markdown",
   "id": "f5e3eaa4",
   "metadata": {},
   "source": [
    "**(b) Verarbeitung von time-Instanzen**"
   ]
  },
  {
   "cell_type": "code",
   "execution_count": null,
   "id": "deaaee9b",
   "metadata": {},
   "outputs": [],
   "source": [
    "string_time = my_time.strftime('%H:%M')\n",
    "print('Formatierte Zeit:', string_time )"
   ]
  },
  {
   "cell_type": "code",
   "execution_count": null,
   "id": "bafd1cdf",
   "metadata": {},
   "outputs": [],
   "source": [
    "#my_time - my_time"
   ]
  },
  {
   "cell_type": "markdown",
   "id": "a8cf7ad3",
   "metadata": {},
   "source": [
    "<b>AUFGABE: Wie kann man die Differenz zwischen zwei <em>time</em> Intanzen dann berechnen?</b>"
   ]
  },
  {
   "cell_type": "code",
   "execution_count": null,
   "id": "bbaf3845",
   "metadata": {},
   "outputs": [],
   "source": [
    "my_datetime = datetime.combine(datetime.today(), my_time)\n",
    "my_datetime - my_datetime"
   ]
  },
  {
   "cell_type": "markdown",
   "id": "4641898c",
   "metadata": {},
   "source": [
    "## Klasse datetime"
   ]
  },
  {
   "cell_type": "markdown",
   "id": "8482994e",
   "metadata": {},
   "source": [
    "**Eigenschaften:**\n",
    "<ul>\n",
    "<li>Kombination von date und time\n",
    "<li>Attribute: year, month, day, hour, minute, second, microsecond, tzinfo\n",
    "<li>Zeitzonen können berücksichtigt werden (\"aware\") oder nicht (\"naiv\")\n",
    "</ul>"
   ]
  },
  {
   "cell_type": "markdown",
   "id": "613c965c",
   "metadata": {},
   "source": [
    "| Methode                       | Beschreibung              |\n",
    "|-------------------------------|---------------------------|\n",
    "| datetime.now()                | Anzeige der aktuelles Datums und Uhrzeit |\n",
    "| datetime(2023,12,24,23,59,59) | Erzeugen eines datetime |\n",
    "| my_datetime.date()            | Umwandlung in ein date |\n",
    "| my_datetime.time()            | Umwandlung in ein time |\n",
    "| my_datetime.utcnow()          | Aktuelles Datum und Uhrzeit in UTC |\n",
    "| my_datetime.year              |\n",
    "| my_datetime.month             |\n",
    "| my_datetime.day               |\n",
    "| my_datetime.hour              |\n",
    "| my_datetime.minute            |\n",
    "| my_datetime.second            |\n",
    "| my_datetime.microsecond       |\n",
    "| my_datetime.weekday()         |\n",
    "| datetime.strptime( my_string) | Erzeugen eines datetime aus einem String |\n",
    "| datetime.combine( my_date,my_time) | Erzeugen eines datetime aus einem daten und time |"
   ]
  },
  {
   "cell_type": "markdown",
   "id": "76d8cabc",
   "metadata": {},
   "source": [
    "**Erzeugung von datetime-Instanzen**"
   ]
  },
  {
   "cell_type": "code",
   "execution_count": null,
   "id": "1b346d95",
   "metadata": {},
   "outputs": [],
   "source": [
    "datetime.now()"
   ]
  },
  {
   "cell_type": "code",
   "execution_count": null,
   "id": "3fc09643",
   "metadata": {},
   "outputs": [],
   "source": [
    "print( datetime.now() )"
   ]
  },
  {
   "cell_type": "code",
   "execution_count": null,
   "id": "3bfa6dee",
   "metadata": {},
   "outputs": [],
   "source": [
    "string_date = \"24.12.2023 Uhrzeit 14:12\"\n",
    "parsed_date = datetime.strptime( string_date, '%d.%m.%Y Uhrzeit %H:%M')\n",
    "parsed_date"
   ]
  },
  {
   "cell_type": "code",
   "execution_count": null,
   "id": "f91c91a1",
   "metadata": {},
   "outputs": [],
   "source": [
    "my_datetime = datetime(year=2035, month=12, day=24, hour=17, minute=4, second=13)\n",
    "my_datetime"
   ]
  },
  {
   "cell_type": "markdown",
   "id": "ef2c1bf3",
   "metadata": {},
   "source": [
    "**(b) Verarbeitung von datetime-Instanzen**"
   ]
  },
  {
   "cell_type": "code",
   "execution_count": null,
   "id": "b296d5c5",
   "metadata": {},
   "outputs": [],
   "source": [
    "# Python strftime cheatsheet: https://strftime.org/\n",
    "string_year     = my_datetime.strftime('%Y')\n",
    "string_month    = my_datetime.strftime('%m')\n",
    "string_time     = my_datetime.strftime('%H:%M:%S')\n",
    "string_datetime = my_datetime.strftime('%a %d.%m.%y, %H:%M:%S')\n",
    "string_weekday  = my_datetime.strftime('%A')\n",
    "\n",
    "print('Jahr =',       string_year)\n",
    "print('Monat =',      string_month)\n",
    "print('Uhrzeit =',    string_time)\n",
    "print('Zeitstempel =',string_datetime)\n",
    "print('Wochentag =',  string_weekday)"
   ]
  },
  {
   "cell_type": "markdown",
   "id": "99e42348",
   "metadata": {},
   "source": [
    "## Klasse timedelta"
   ]
  },
  {
   "cell_type": "markdown",
   "id": "8484349e",
   "metadata": {},
   "source": [
    "**Eigenschaften:**\n",
    "<ul>\n",
    "<li>Eine Zeitdauer, Differenz aus zwei Datums-/Zeitwerten\n",
    "<li>Wertbereich: -1 Mrd Tage bis +1 Mrd Tage\n",
    "<li>Auflösung: Mikrosekunden\n",
    "<li>Intern werden Tage, Sekunden und Mikrosekunden gespeichert\n",
    "<li>Dauer können unteinander addiert, subtrahiert, mit Skalaren mulitpliziert/dividiert werden\n",
    "</ul>"
   ]
  },
  {
   "cell_type": "markdown",
   "id": "62f482b0",
   "metadata": {},
   "source": [
    "| Methode                          | Beschreibung          |\n",
    "|----------------------------------|---------------------- |\n",
    "| timedelta(days=2, hours=20, ...) | Erzeugen einer Dauer  |\n",
    "| my_timedelta.total_seconds       | Ausgabe der Dauer in Sekunden"
   ]
  },
  {
   "cell_type": "markdown",
   "id": "14ef7cee",
   "metadata": {},
   "source": [
    "**Erzeugung von timedelta-Instanzen**"
   ]
  },
  {
   "cell_type": "code",
   "execution_count": null,
   "id": "c17faf66",
   "metadata": {},
   "outputs": [],
   "source": [
    "timedelta(days=2, hours=20, weeks=1)"
   ]
  },
  {
   "cell_type": "code",
   "execution_count": null,
   "id": "acab8946",
   "metadata": {},
   "outputs": [],
   "source": [
    "date1 = date(2023,6,10)\n",
    "date2 = date(2023,6,20)\n",
    "date_difference = date2 - date1\n",
    "date_difference"
   ]
  },
  {
   "cell_type": "code",
   "execution_count": null,
   "id": "ac7e9321",
   "metadata": {},
   "outputs": [],
   "source": [
    "time1 = time(15,13,59)\n",
    "time2 = time(23,59,59)\n",
    "#time_difference = time2 - time1\n",
    "#time_difference"
   ]
  },
  {
   "cell_type": "code",
   "execution_count": null,
   "id": "abe116df",
   "metadata": {},
   "outputs": [],
   "source": [
    "datetime1 = datetime(2023,6,10,23,3,23)\n",
    "datetime2 = datetime(2023,6,20,11,1,1)\n",
    "datetime_difference = datetime2 - datetime1\n",
    "datetime_difference"
   ]
  },
  {
   "cell_type": "code",
   "execution_count": null,
   "id": "53a96100",
   "metadata": {},
   "outputs": [],
   "source": [
    "twentydays = timedelta(days=20)\n",
    "date3 = date1 + twentydays\n",
    "print('20 Tage nach date1:', date3)"
   ]
  },
  {
   "cell_type": "code",
   "execution_count": null,
   "id": "4fc825c3",
   "metadata": {},
   "outputs": [],
   "source": [
    "datetime1 = datetime(2023,12,24,17,3,1)\n",
    "datetime2 = datetime(2023,12,27,4,3,1)\n",
    "timediff = datetime2 - datetime1\n",
    "print(timediff)"
   ]
  },
  {
   "cell_type": "markdown",
   "id": "cfb079ea",
   "metadata": {},
   "source": [
    "## Klassen tzinfo und timezone"
   ]
  },
  {
   "cell_type": "markdown",
   "id": "e55dd496",
   "metadata": {},
   "source": [
    "**Eigenschaften:**\n",
    "<ul>\n",
    "<li>werden von den Klassen <em>datetime</em> und <em>time</em> verwendet\n",
    "<li>bilden die Zeitzonen ab\n",
    "<li><em>timezone</em> benötigt ein <em>timedelta</em> as input\n",
    "</ul>"
   ]
  },
  {
   "cell_type": "code",
   "execution_count": null,
   "id": "94ec5ab8",
   "metadata": {},
   "outputs": [],
   "source": [
    "two_hours_ahead = timezone(timedelta(hours=2))\n",
    "print('Timezonenobjekt:',two_hours_ahead)"
   ]
  },
  {
   "cell_type": "code",
   "execution_count": null,
   "id": "9479c334",
   "metadata": {},
   "outputs": [],
   "source": [
    "datetime_naive = datetime(2023,12,24,17,3,1)\n",
    "datetime_aware = datetime(2023,12,24,17,3,1).replace(tzinfo=two_hours_ahead)\n",
    "print(datetime_naive)\n",
    "print(datetime_aware)"
   ]
  },
  {
   "cell_type": "markdown",
   "id": "28521af9",
   "metadata": {},
   "source": [
    "# Numpy - Datum und Zeit"
   ]
  },
  {
   "cell_type": "markdown",
   "id": "89b606f2",
   "metadata": {},
   "source": [
    " **In Numpy gibt es die (Array-)Datentypen datetime64 sowie timedelta64.  \n",
    " Die Namen datetime sowie timeldeta waren bereits von <em>datetime</em> belegt.**"
   ]
  },
  {
   "cell_type": "markdown",
   "id": "6dace6fd",
   "metadata": {},
   "source": [
    "https://numpy.org/doc/stable/reference/arrays.datetime.html"
   ]
  },
  {
   "cell_type": "markdown",
   "id": "fc3f20ae",
   "metadata": {},
   "source": [
    "**Hier werden die folgenden Abkürzungen häufig verwendet:  \n",
    "years (‘Y’)  \n",
    "months (‘M’)  \n",
    "weeks (‘W’)  \n",
    "days (‘D’)  \n",
    "hours (‘h’)  \n",
    "minutes (‘m’)  \n",
    "seconds (‘s’)  \n",
    "milliseconds (‘ms’),**"
   ]
  },
  {
   "cell_type": "markdown",
   "id": "2bca30ac",
   "metadata": {},
   "source": [
    "## Datentyp datetime64"
   ]
  },
  {
   "cell_type": "markdown",
   "id": "e5284a33",
   "metadata": {},
   "source": [
    "**Eigenschaften:**\n",
    "<ul>\n",
    "<li>Hier sind auch negative Jahrezahlen (BC) möglich\n",
    "<li>Zeitzonen werden hier nicht berücksichtigt (d.h. \"naiv\")\n",
    "<li>Differenzen von <em>datetime64</em> erzeugt <em>timedelta64</em>\n",
    "</ul>"
   ]
  },
  {
   "cell_type": "markdown",
   "id": "106bd5f1",
   "metadata": {},
   "source": [
    "| Methode                       | Beschreibung              |\n",
    "|-------------------------------|---------------------------|\n",
    "| datetime.now()                  | Anzeige der aktuelles Datums und Uhrzeit |\n",
    "| np.datetime('2023-12-12T00:00') | Erzeugen eines datetime64 |\n",
    "| my_datetime.date()            | Umwandlung in ein date |\n",
    "| my_datetime.time()            | Umwandlung in ein time |\n",
    "| my_datetime.utcnow()          | Aktuelles Datum und Uhrzeit in UTC |\n",
    "| my_datetime.year              |\n",
    "| my_datetime.month             |\n",
    "| my_datetime.day               |\n",
    "| my_datetime.hour              |\n",
    "| my_datetime.minute            |\n",
    "| my_datetime.second            |\n",
    "| my_datetime.microsecond       |\n",
    "| my_datetime.weekday()         |\n",
    "| datetime.strptime( my_string) | Erzeugen eines datetime aus einem String |\n",
    "| datetime.combine( my_date,my_time) | Erzeugen eines datetime aus einem daten und time |"
   ]
  },
  {
   "cell_type": "markdown",
   "id": "2b6a7a23",
   "metadata": {},
   "source": [
    "**(a) Erzeugung von datetime64-Instanzen**"
   ]
  },
  {
   "cell_type": "code",
   "execution_count": null,
   "id": "c6d1e729",
   "metadata": {},
   "outputs": [],
   "source": [
    "np.datetime64('2005-02-25')"
   ]
  },
  {
   "cell_type": "code",
   "execution_count": null,
   "id": "c536edf5",
   "metadata": {},
   "outputs": [],
   "source": [
    "my_datetime64 = np.datetime64('2005-02-25T03:30')\n",
    "my_datetime64"
   ]
  },
  {
   "cell_type": "code",
   "execution_count": null,
   "id": "ebbb3d28",
   "metadata": {},
   "outputs": [],
   "source": [
    "np.array(['2007-07-13', '2006-01-13', '2010-08-13'], dtype='datetime64')"
   ]
  },
  {
   "cell_type": "code",
   "execution_count": null,
   "id": "8594ad86",
   "metadata": {},
   "outputs": [],
   "source": [
    "np.array(['2007-07-13T01:01:15', '2006-01-13', '2010-08-13'], dtype='datetime64')"
   ]
  },
  {
   "cell_type": "markdown",
   "id": "2944dfac",
   "metadata": {},
   "source": [
    "**Hinter dem Datentyp wird die Auflösung mit angegeben:  \n",
    "years (‘Y’), months (‘M’), weeks (‘W’), days (‘D’), (‘h’), minutes (‘m’), seconds (‘s’), milliseconds (‘ms’)**"
   ]
  },
  {
   "cell_type": "code",
   "execution_count": null,
   "id": "90c3a25e",
   "metadata": {},
   "outputs": [],
   "source": [
    "np.arange('2005-02', '2005-03', dtype='datetime64[D]')"
   ]
  },
  {
   "cell_type": "markdown",
   "id": "53238b46",
   "metadata": {},
   "source": [
    "**(b) Verarbeitung von datetime64-Instanzen**"
   ]
  },
  {
   "cell_type": "code",
   "execution_count": null,
   "id": "487aadca",
   "metadata": {},
   "outputs": [],
   "source": [
    "np.datetime64('2005-02-25T03:30') - np.datetime64('2005-02-24T04:30')"
   ]
  },
  {
   "cell_type": "markdown",
   "id": "856fff98",
   "metadata": {},
   "source": [
    "## Datentyp timedelta64"
   ]
  },
  {
   "cell_type": "markdown",
   "id": "87898eed",
   "metadata": {},
   "source": [
    "**Eigenschaften:**\n",
    "<ul>\n",
    "<li>eine Zeitdauer, Differenz aus zwei datetime64\n",
    "<li>es gibt eigene Funktion für Arbeitstage (Mo-Fr)\n",
    "<li>Auflösung: Mikrosekunden\n",
    "<li>intern werden Tage, Sekunden und Mikrosekunden gespeichert\n",
    "<li>Dauern können unteinander addiert, subtrahiert, mit Skalaren mulitpliziert/dividiert werden\n",
    "</ul>"
   ]
  },
  {
   "cell_type": "markdown",
   "id": "b0c0b758",
   "metadata": {},
   "source": [
    "**(a) Erzeugung von datetime64-Instanzen**"
   ]
  },
  {
   "cell_type": "code",
   "execution_count": null,
   "id": "d0f157c1",
   "metadata": {},
   "outputs": [],
   "source": [
    "np.timedelta64(4, 'h')"
   ]
  },
  {
   "cell_type": "markdown",
   "id": "d760c5aa",
   "metadata": {},
   "source": [
    "**(b) Verarbeitung von datetime64-Instanzen**"
   ]
  },
  {
   "cell_type": "code",
   "execution_count": null,
   "id": "101311af",
   "metadata": {},
   "outputs": [],
   "source": [
    "np.datetime64('2023-01-01') - np.datetime64('2023-01-02')"
   ]
  },
  {
   "cell_type": "code",
   "execution_count": null,
   "id": "31e02055",
   "metadata": {},
   "outputs": [],
   "source": [
    "np.datetime64('2023-01-01T00:00') - np.datetime64('2023-01-02')"
   ]
  },
  {
   "cell_type": "code",
   "execution_count": null,
   "id": "3655978c",
   "metadata": {},
   "outputs": [],
   "source": [
    "np.datetime64('2005-02-25T03:30') + np.timedelta64(20, 'D')"
   ]
  },
  {
   "cell_type": "markdown",
   "id": "8d3202ed",
   "metadata": {},
   "source": [
    "# Pandas - Datum und Zeit"
   ]
  },
  {
   "cell_type": "markdown",
   "id": "eba07de1",
   "metadata": {},
   "source": [
    "**Pandas verwendet die Numpy-Datentypen <em>datetime64</em> und <em>timedelta64</em>, sowie einen zusätzlichen Datentyp <em>period</em>.<br> \n",
    "<em>period</em> bezieht sich auf Zeitintervalle (Timespans).**"
   ]
  },
  {
   "cell_type": "markdown",
   "id": "d781ee95",
   "metadata": {},
   "source": [
    "<b>\n",
    "<ul>\n",
    "    <li>es ist üblich, die Zeitkompnenten in Pandas im <u>Index</u> einer <em>Series</em> oder eines <em>DataFrame</em> zu verwenden (wirklich?)\n",
    "<li>genauso ist es aber möglich, die Zeiten in einer Spalte zu haben.\n",
    "<li>der Klassenname mit index am Ende verweist auf eine Verwendung als Index."
   ]
  },
  {
   "cell_type": "markdown",
   "id": "fb26ce23",
   "metadata": {},
   "source": [
    "**Bei Pandas haben die Klassen für Einzelwerte einen anderen Namen als für \"1-dim array-likes\" (Endung Index).**"
   ]
  },
  {
   "cell_type": "markdown",
   "id": "c132ad75",
   "metadata": {},
   "source": [
    "https://pandas.pydata.org/docs/user_guide/timeseries.html\n",
    "https://pandas.pydata.org/docs/reference/api/pandas.to_datetime.html  \n",
    "https://pandas.pydata.org/docs/reference/api/pandas.to_timedelta.html"
   ]
  },
  {
   "cell_type": "markdown",
   "id": "99221ea0",
   "metadata": {},
   "source": [
    "## Timestamp + DatetimeIndex"
   ]
  },
  {
   "cell_type": "markdown",
   "id": "619219ab",
   "metadata": {},
   "source": [
    "https://pandas.pydata.org/docs/reference/api/pandas.Timestamp.html\n",
    "https://pandas.pydata.org/docs/reference/api/pandas.DatetimeIndex.html"
   ]
  },
  {
   "cell_type": "markdown",
   "id": "df64ba95",
   "metadata": {},
   "source": [
    "**Eigenschaften:**\n",
    "<ul>\n",
    "<li><em>Timestamp</em> entspricht der Klasse <em>datetime.datetime</em> - idR austauschbar\n",
    "<li>Verwendet als Datentyp <em>datetime64</em>\n",
    "<li>Zeitzonen können berücksichtigt werden (\"aware\") oder nicht (\"naiv\")\n",
    "</ul>"
   ]
  },
  {
   "cell_type": "markdown",
   "id": "f537cdb4",
   "metadata": {},
   "source": [
    "| Methode                       | Beschreibung              |\n",
    "|-------------------------------|---------------------------|\n",
    "| pd.Timestamp.now()                | Anzeige der aktuelles Datums und Uhrzeit |\n",
    "| pd.Timestamp(2023,12,24,23,59,59) | Erzeugen eines timestamp |\n",
    "| pd.Timestamp('2023-12-24 23:59:59') | Erzeugen eines timestamp |\n",
    "| pd.to_datetime('2020-11-12 13:11') | parsen eines timestamp aus einem String |"
   ]
  },
  {
   "cell_type": "markdown",
   "id": "b5141cd7",
   "metadata": {},
   "source": [
    "**Erzeugung von timestamp-Instanzen**"
   ]
  },
  {
   "cell_type": "code",
   "execution_count": null,
   "id": "d17bc99b",
   "metadata": {},
   "outputs": [],
   "source": [
    "pd.Timestamp.now()"
   ]
  },
  {
   "cell_type": "markdown",
   "id": "4f9425e7",
   "metadata": {},
   "source": [
    "Die Ausgabe ist bei Pandas bereits gut lesbar."
   ]
  },
  {
   "cell_type": "code",
   "execution_count": null,
   "id": "110c9f3c",
   "metadata": {},
   "outputs": [],
   "source": [
    "print(pd.Timestamp.now())"
   ]
  },
  {
   "cell_type": "code",
   "execution_count": null,
   "id": "4f548a43",
   "metadata": {},
   "outputs": [],
   "source": [
    "my_timestamp = pd.Timestamp(2023,12,24,10,0,5)\n",
    "my_timestamp"
   ]
  },
  {
   "cell_type": "code",
   "execution_count": null,
   "id": "dd2af7ac",
   "metadata": {},
   "outputs": [],
   "source": [
    "pd.Timestamp('2013-12-24 10:00:05')"
   ]
  },
  {
   "cell_type": "code",
   "execution_count": null,
   "id": "899f28a2",
   "metadata": {},
   "outputs": [],
   "source": [
    "pd.to_datetime('2020-11-12 Uhrzeit 13:11', format='%Y-%M-%d Uhrzeit %H:%m')"
   ]
  },
  {
   "cell_type": "markdown",
   "id": "c71f0077",
   "metadata": {},
   "source": [
    "**Erzeugung eines DateTimeIndex direkt** "
   ]
  },
  {
   "cell_type": "code",
   "execution_count": null,
   "id": "0389463c",
   "metadata": {},
   "outputs": [],
   "source": [
    "pd.DatetimeIndex(['2018','2019','2020'])"
   ]
  },
  {
   "cell_type": "markdown",
   "id": "c6a3829d",
   "metadata": {},
   "source": [
    "Die Frequenz der Zeitwerte wird defaultmäßig nicht automatisch ermittelt, dazu ist der Parameter freq='infer' nötig."
   ]
  },
  {
   "cell_type": "code",
   "execution_count": null,
   "id": "efb4f19c",
   "metadata": {},
   "outputs": [],
   "source": [
    "pd.DatetimeIndex(['2018','2019','2020'], freq='infer')"
   ]
  },
  {
   "cell_type": "markdown",
   "id": "edaaf5d0",
   "metadata": {},
   "source": [
    "**Erzeugung eines DateTimeIndex in einer Series**  "
   ]
  },
  {
   "cell_type": "code",
   "execution_count": null,
   "id": "432cc864",
   "metadata": {},
   "outputs": [],
   "source": [
    "my_timestamps = [ pd.Timestamp('2013-12-24 10:00:05'),\n",
    "                  pd.Timestamp('2013-12-24 10:00:10'),\n",
    "                  pd.Timestamp('2013-12-24 10:00:15')]\n",
    "my_timestamps"
   ]
  },
  {
   "cell_type": "code",
   "execution_count": null,
   "id": "be5e1c45",
   "metadata": {},
   "outputs": [],
   "source": [
    "my_values = [10, 120, 30]\n",
    "my_values"
   ]
  },
  {
   "cell_type": "code",
   "execution_count": null,
   "id": "41fc2c6b",
   "metadata": {},
   "outputs": [],
   "source": [
    "my_series = pd.Series( my_values, index = my_timestamps )\n",
    "print(my_series)"
   ]
  },
  {
   "cell_type": "code",
   "execution_count": null,
   "id": "02bc9747",
   "metadata": {},
   "outputs": [],
   "source": [
    "print(my_series.index)"
   ]
  },
  {
   "cell_type": "markdown",
   "id": "d80b4c12",
   "metadata": {},
   "source": [
    "**Erzeugung eines DateTimeIndex in einem DataFrame**  "
   ]
  },
  {
   "cell_type": "code",
   "execution_count": null,
   "id": "61fb24bc",
   "metadata": {},
   "outputs": [],
   "source": [
    "my_values"
   ]
  },
  {
   "cell_type": "code",
   "execution_count": null,
   "id": "bf029454",
   "metadata": {},
   "outputs": [],
   "source": [
    "df = pd.DataFrame(my_values, index = my_timestamps, columns=['value'])\n",
    "df"
   ]
  },
  {
   "cell_type": "code",
   "execution_count": null,
   "id": "c0950425-0525-4ded-aeb5-04fcf7a0e1c5",
   "metadata": {},
   "outputs": [],
   "source": [
    "df.info()"
   ]
  },
  {
   "cell_type": "code",
   "execution_count": null,
   "id": "ff4769c4-f5a4-4b1c-bbae-c953340dd804",
   "metadata": {},
   "outputs": [],
   "source": [
    "df.index"
   ]
  },
  {
   "cell_type": "code",
   "execution_count": null,
   "id": "c4617280",
   "metadata": {},
   "outputs": [],
   "source": [
    "df.index.freq = pd.infer_freq(df.index)"
   ]
  },
  {
   "cell_type": "code",
   "execution_count": null,
   "id": "bbacfdf7",
   "metadata": {},
   "outputs": [],
   "source": [
    "df.index"
   ]
  },
  {
   "cell_type": "code",
   "execution_count": null,
   "id": "0ec3c8ea-3d1e-4d65-b168-e67f7d1b79da",
   "metadata": {},
   "outputs": [],
   "source": [
    "df['timestamp'] = my_timestamps"
   ]
  },
  {
   "cell_type": "code",
   "execution_count": null,
   "id": "3de71429-9d5c-4f27-b20d-a8039afd903e",
   "metadata": {},
   "outputs": [],
   "source": [
    "df.timestamp.freq = pd.infer_freq(df.timestamp)\n",
    "print(df.timestamp.info(),'\\n')\n",
    "print(df.timestamp.freq)"
   ]
  },
  {
   "cell_type": "markdown",
   "id": "974eb950",
   "metadata": {},
   "source": [
    "## Timedelta + Timedeltaindex"
   ]
  },
  {
   "cell_type": "markdown",
   "id": "c0b9dd2d",
   "metadata": {},
   "source": [
    "https://pandas.pydata.org/docs/reference/api/pandas.Timedelta.html"
   ]
  },
  {
   "cell_type": "markdown",
   "id": "217eea3e",
   "metadata": {},
   "source": [
    "**Eigenschaften:**\n",
    "<ul>\n",
    "<li>Ähnlich zur Klasse datetime.timeldelta\n",
    "<li>Verwendet als Datentyp timedelta64\n",
    "<li>Attribute: year, month, day, hour, minute, second, microsecond, tzinfo\n",
    "<li>Zeitzonen können berücksichtigt werden (\"aware\") oder nicht (\"naiv\") ???\n",
    "</ul>"
   ]
  },
  {
   "cell_type": "code",
   "execution_count": null,
   "id": "7db7b0b0",
   "metadata": {},
   "outputs": [],
   "source": [
    "pd.Timedelta(100,'seconds')"
   ]
  },
  {
   "cell_type": "code",
   "execution_count": null,
   "id": "e7493020",
   "metadata": {},
   "outputs": [],
   "source": [
    "pd.Timestamp('2013-12-24 10:00:05') - pd.Timestamp('2013-12-24 11:03:05')"
   ]
  },
  {
   "cell_type": "markdown",
   "id": "f5e6987f",
   "metadata": {},
   "source": [
    "## Period + Periodindex"
   ]
  },
  {
   "cell_type": "markdown",
   "id": "91f72439",
   "metadata": {},
   "source": [
    "**Eigenschaften:**\n",
    "<ul>\n",
    "<li>Beschreibt eine Zeitspanne\n",
    "<li>Ist bei \"Flussgrößen\" angebrachter\n",
    "<li>Periodenindex verwendet als Datentyp period (kleingeschrieben)\n",
    "</ul>"
   ]
  },
  {
   "cell_type": "markdown",
   "id": "94e8fd6d",
   "metadata": {},
   "source": [
    "| Methode                       | Beschreibung              |\n",
    "|-------------------------------|---------------------------|\n",
    "| pd.Timestamp.now()                | Anzeige der aktuelles Datums und Uhrzeit |\n",
    "| pd.Period(2023,12,24,23,59,59) | Erzeugen einer period |\n",
    "| pd.Period('2023-12-24 23:59:59') | Erzeugen einer period |"
   ]
  },
  {
   "cell_type": "markdown",
   "id": "b749a327",
   "metadata": {},
   "source": [
    "**Erzeugung von period-Instanzen**"
   ]
  },
  {
   "cell_type": "code",
   "execution_count": null,
   "id": "7bcd659f",
   "metadata": {},
   "outputs": [],
   "source": [
    "pd.Period('2023-06-01 11')"
   ]
  },
  {
   "cell_type": "code",
   "execution_count": null,
   "id": "9d8dab79",
   "metadata": {},
   "outputs": [],
   "source": [
    "pd.Period('2023-06-01',freq='s')"
   ]
  },
  {
   "cell_type": "markdown",
   "id": "7a81024d",
   "metadata": {},
   "source": [
    "**Erzeugung eines PeriodIndex in einem DataFrame**  "
   ]
  },
  {
   "cell_type": "code",
   "execution_count": null,
   "id": "16e83304",
   "metadata": {},
   "outputs": [],
   "source": [
    "my_periods = [ pd.Period('2023-01') ,pd.Period('2023-02'), ]\n",
    "values = [81,63]\n",
    "df = pd.DataFrame ( values, index = my_periods, columns=['values'])\n",
    "df"
   ]
  },
  {
   "cell_type": "code",
   "execution_count": null,
   "id": "7ee2b863",
   "metadata": {},
   "outputs": [],
   "source": [
    "df.index"
   ]
  },
  {
   "cell_type": "markdown",
   "id": "86735a78",
   "metadata": {},
   "source": [
    "## date_range"
   ]
  },
  {
   "cell_type": "markdown",
   "id": "18c78d99",
   "metadata": {},
   "source": [
    "<b>date_range</b>:<br>\n",
    "Return a fixed frequency DatetimeIndex.<br>\n",
    "https://pandas.pydata.org/docs/reference/api/pandas.date_range.html"
   ]
  },
  {
   "cell_type": "markdown",
   "id": "5a908483",
   "metadata": {},
   "source": [
    "<b>Offset aliases</b><br>\n",
    "A number of string aliases are given to useful common time series frequencies.<br>\n",
    "https://pandas.pydata.org/docs/user_guide/timeseries.html#timeseries-offset-aliases"
   ]
  },
  {
   "cell_type": "code",
   "execution_count": null,
   "id": "bbc1b0f8",
   "metadata": {},
   "outputs": [],
   "source": [
    "start = pd.Timestamp(2023,1,1)\n",
    "end   = pd.Timestamp(2023,1,15)\n",
    "pd.date_range(start, end)"
   ]
  },
  {
   "cell_type": "code",
   "execution_count": null,
   "id": "b29131f8",
   "metadata": {},
   "outputs": [],
   "source": [
    "pd.date_range(start, periods= 10, freq='h')"
   ]
  },
  {
   "cell_type": "code",
   "execution_count": null,
   "id": "1d94b072",
   "metadata": {},
   "outputs": [],
   "source": [
    "pd.date_range(start, periods= 10, freq='h').to_period()"
   ]
  },
  {
   "cell_type": "code",
   "execution_count": null,
   "id": "75205d9a",
   "metadata": {},
   "outputs": [],
   "source": [
    "pd_timestamp = pd.Timestamp(year=2017, month=1, day=1, hour=12)"
   ]
  },
  {
   "cell_type": "code",
   "execution_count": null,
   "id": "739b3378",
   "metadata": {},
   "outputs": [],
   "source": [
    "pd.date_range('1/1/2011', '1/1/2012', freq='ME')"
   ]
  },
  {
   "cell_type": "code",
   "execution_count": null,
   "id": "5f75d9ce",
   "metadata": {},
   "outputs": [],
   "source": [
    "pd.date_range('1/2/2011', freq='QS', periods=4)"
   ]
  },
  {
   "cell_type": "code",
   "execution_count": null,
   "id": "a614501e",
   "metadata": {},
   "outputs": [],
   "source": [
    "np_datetime = np.datetime64('2005-02-25T02:00')\n",
    "pd_datetime = pd.to_datetime(np_datetime)\n",
    "print('Pandas datetime:',pd_datetime )"
   ]
  },
  {
   "cell_type": "markdown",
   "id": "08e392bf",
   "metadata": {},
   "source": [
    "## Arbeiten mit Zeitzonen"
   ]
  },
  {
   "cell_type": "markdown",
   "id": "491b73f3",
   "metadata": {},
   "source": [
    "https://pandas.pydata.org/docs/reference/api/pandas.Series.dt.tz_localize.html\n",
    "https://pandas.pydata.org/docs/reference/api/pandas.Series.dt.tz_convert.html"
   ]
  },
  {
   "cell_type": "markdown",
   "id": "6e58428a",
   "metadata": {},
   "source": [
    "<b>Methoden für ein DatetimeIndex</b><br>\n",
    "\\begin{array}{|l|l|} \\hline\n",
    "\\text{Zuordnung einer Zeitzone} & \\textbf{tz\\_localize(tz)} \\\\ \\hline\n",
    "\\text{Ändern der Zeitzone}    & \\textbf{tz\\_convert(tz)}  \\\\ \\hline\n",
    "\\text{Entfernen der Zeitzone} & \\textbf{tz\\_localize(None) bzw. tz\\_convert(None)}  \\\\ \\hline\n",
    "\\end{array}"
   ]
  },
  {
   "cell_type": "markdown",
   "id": "f8409693",
   "metadata": {},
   "source": [
    "<b>Zunächst wir ein naiver DatetimeIndex erzeugt:</b>"
   ]
  },
  {
   "cell_type": "code",
   "execution_count": null,
   "id": "4fe626ee",
   "metadata": {},
   "outputs": [],
   "source": [
    "dti_naive = pd.date_range('2023-07-01 07:00', periods=2, freq='6MS')\n",
    "dti_naive"
   ]
  },
  {
   "cell_type": "markdown",
   "id": "8ee5834a",
   "metadata": {},
   "source": [
    "<b>Zuordnung unserer Zeitzone:<b>"
   ]
  },
  {
   "cell_type": "code",
   "execution_count": null,
   "id": "34beef0a",
   "metadata": {},
   "outputs": [],
   "source": [
    "dti_aware = dti_naive.tz_localize(tz='Europe/Vienna')\n",
    "dti_aware"
   ]
  },
  {
   "cell_type": "markdown",
   "id": "b26177ff",
   "metadata": {},
   "source": [
    "<b>'Umformatierung' auf Zeitzone 'UCT'.</b><br>\n",
    "<b>Es sind dieselben Zeitpunkte - jedoch anders dargestellt.</b>"
   ]
  },
  {
   "cell_type": "code",
   "execution_count": null,
   "id": "f93f83f5",
   "metadata": {},
   "outputs": [],
   "source": [
    "dti_aware.tz_convert(\"UTC\")"
   ]
  },
  {
   "cell_type": "markdown",
   "id": "f30a5b30",
   "metadata": {},
   "source": [
    "<b>tz_localize(None)</b><br>\n",
    "* entfernt die Zeitzone<br>\n",
    "* speichert Zeiten in 'local time'"
   ]
  },
  {
   "cell_type": "code",
   "execution_count": null,
   "id": "b8c3f1cc",
   "metadata": {},
   "outputs": [],
   "source": [
    "dti_aware.tz_localize(None)"
   ]
  },
  {
   "cell_type": "markdown",
   "id": "b8f26768",
   "metadata": {},
   "source": [
    "<b>tz_convert(None)</b><br>\n",
    "* entfernt die Zeitzone\n",
    "* speichert Zeiten entsprechend der entfernten Zeitzone"
   ]
  },
  {
   "cell_type": "code",
   "execution_count": null,
   "id": "d4ac546e",
   "metadata": {},
   "outputs": [],
   "source": [
    "dti_aware.tz_convert(None)"
   ]
  },
  {
   "cell_type": "markdown",
   "id": "ad5cd478",
   "metadata": {},
   "source": [
    "# (Persönliche) Empfehlung"
   ]
  },
  {
   "cell_type": "markdown",
   "id": "8c8f7c21",
   "metadata": {},
   "source": [
    "<b>\n",
    "<ul>\n",
    "<li>entscheident ist, ob ein Datum/Zeitwert als String vorliegt oder nicht\n",
    "<li>als erstes ein DataFrame (Pandas) mit einem DatetimeIndex erstellen\n",
    "<li>Period und Periodrange nicht verwenden -<br>\n",
    "    bei Bedarf ist ein PeriodIndex  aus einem DatetimeIndex schnell erstellt.\n",
    "</ul>\n",
    "</b>"
   ]
  },
  {
   "cell_type": "markdown",
   "id": "8f6a127a",
   "metadata": {},
   "source": [
    "# Übungsaufgaben"
   ]
  },
  {
   "cell_type": "code",
   "execution_count": null,
   "id": "e6cc63ef",
   "metadata": {},
   "outputs": [],
   "source": [
    "events = ['event1','event2','event3','event4','event5']\n",
    "dates = ['Jan 1, 2023','Feb 15, 2023','Mar 20, 2023','Apr 15, 2023','May 22, 2023']\n",
    "times = ['10:30', '14:45', '08:00', '16:30', '12:15']\n",
    "\n",
    "df = pd.DataFrame(list(zip(events, dates, times)),\n",
    "                  columns =['Event', 'Date', 'Time'])\n",
    "df"
   ]
  },
  {
   "cell_type": "code",
   "execution_count": null,
   "id": "1fa20ced-5b6b-4749-96fd-7ac8ea835363",
   "metadata": {},
   "outputs": [],
   "source": [
    "df.info()"
   ]
  },
  {
   "cell_type": "markdown",
   "id": "23888c02",
   "metadata": {},
   "source": [
    "## Erzeuge DataFrame df"
   ]
  },
  {
   "cell_type": "markdown",
   "id": "793c994e",
   "metadata": {},
   "source": [
    "<b>Erzeuge ein DataFrame df mit einen Index als DateTimeIndex -<br>\n",
    "    erzeugt aus den Spalten Date und Time</b>"
   ]
  },
  {
   "cell_type": "code",
   "execution_count": null,
   "id": "5e5a7fbb",
   "metadata": {},
   "outputs": [],
   "source": []
  },
  {
   "cell_type": "code",
   "execution_count": null,
   "id": "433871a9",
   "metadata": {},
   "outputs": [],
   "source": []
  },
  {
   "cell_type": "code",
   "execution_count": null,
   "id": "123bff1d",
   "metadata": {},
   "outputs": [],
   "source": []
  },
  {
   "cell_type": "markdown",
   "id": "c496e483",
   "metadata": {},
   "source": [
    "## Berechne Zeitdifferenz"
   ]
  },
  {
   "cell_type": "markdown",
   "id": "d3d98f40",
   "metadata": {},
   "source": [
    "<b>Berechne die Zeitdifferenz zwischen event1 und event2 in Tagen</b>"
   ]
  },
  {
   "cell_type": "code",
   "execution_count": null,
   "id": "d1cb09fe",
   "metadata": {},
   "outputs": [],
   "source": []
  },
  {
   "cell_type": "code",
   "execution_count": null,
   "id": "7fb800a6",
   "metadata": {},
   "outputs": [],
   "source": []
  },
  {
   "cell_type": "markdown",
   "id": "740881d4",
   "metadata": {},
   "source": [
    "## Hinzufügen Zeitzone"
   ]
  },
  {
   "cell_type": "markdown",
   "id": "9066ffd5",
   "metadata": {},
   "source": [
    "<b>Konvertiere den Index in die Zeitzone UTC</b>"
   ]
  },
  {
   "cell_type": "code",
   "execution_count": null,
   "id": "eaff9704",
   "metadata": {},
   "outputs": [],
   "source": []
  },
  {
   "cell_type": "markdown",
   "id": "d223f6f4",
   "metadata": {},
   "source": [
    "## Verwenden pd.date_range"
   ]
  },
  {
   "cell_type": "markdown",
   "id": "3d03a8f8",
   "metadata": {},
   "source": [
    "**Erzeuge eine Liste von Datumswerten zwischen 17.01.2023 und 06.02.2023**"
   ]
  },
  {
   "cell_type": "code",
   "execution_count": null,
   "id": "ccd83cbd",
   "metadata": {},
   "outputs": [],
   "source": []
  },
  {
   "cell_type": "markdown",
   "id": "906bbe52",
   "metadata": {},
   "source": [
    "**Erzeuge ein DatetimeIndex mit 5 Elementen, beginnend am 01.01.2018 um 0:00 mit der Frequenz Stunde.**"
   ]
  },
  {
   "cell_type": "code",
   "execution_count": null,
   "id": "e163e807",
   "metadata": {},
   "outputs": [],
   "source": []
  },
  {
   "cell_type": "code",
   "execution_count": null,
   "id": "d60e073a",
   "metadata": {},
   "outputs": [],
   "source": []
  }
 ],
 "metadata": {
  "kernelspec": {
   "display_name": "Python 3 (ipykernel)",
   "language": "python",
   "name": "python3"
  },
  "language_info": {
   "codemirror_mode": {
    "name": "ipython",
    "version": 3
   },
   "file_extension": ".py",
   "mimetype": "text/x-python",
   "name": "python",
   "nbconvert_exporter": "python",
   "pygments_lexer": "ipython3",
   "version": "3.10.13"
  },
  "toc": {
   "base_numbering": 1,
   "nav_menu": {},
   "number_sections": true,
   "sideBar": true,
   "skip_h1_title": false,
   "title_cell": "Table of Contents",
   "title_sidebar": "Contents",
   "toc_cell": false,
   "toc_position": {
    "height": "366.6px",
    "left": "297px",
    "top": "66.1px",
    "width": "243.665px"
   },
   "toc_section_display": true,
   "toc_window_display": true
  }
 },
 "nbformat": 4,
 "nbformat_minor": 5
}
