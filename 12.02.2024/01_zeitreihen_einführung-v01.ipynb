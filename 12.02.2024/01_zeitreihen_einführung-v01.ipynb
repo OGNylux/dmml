{
 "cells": [
  {
   "cell_type": "markdown",
   "id": "8b887ae9",
   "metadata": {},
   "source": [
    "<font size=\"+3\">\n",
    "<center>\n",
    "<b>01 ZEITREIHEN - Einführung</b><br><br><br>\n",
    "<font size=\"+2\">"
   ]
  },
  {
   "cell_type": "markdown",
   "id": "3d45b72b",
   "metadata": {},
   "source": [
    "<img src=\"pics/moritz-kindler-mGFHA_0TWnA-unsplash.jpg\" alt=\"Drawing\" style=\"width: 700px;\"/>"
   ]
  },
  {
   "cell_type": "markdown",
   "id": "ad97400a",
   "metadata": {},
   "source": [
    "Foto von <a href=\"https://unsplash.com/de/@moritz_photography?utm_content=creditCopyText&utm_medium=referral&utm_source=unsplash\">Moritz Kindler</a> auf <a href=\"https://unsplash.com/de/fotos/horloge-analogique-mGFHA_0TWnA?utm_content=creditCopyText&utm_medium=referral&utm_source=unsplash\">Unsplash</a>\n",
    "  "
   ]
  },
  {
   "cell_type": "markdown",
   "id": "f122f06c",
   "metadata": {},
   "source": [
    "# Inhalt"
   ]
  },
  {
   "cell_type": "markdown",
   "id": "9d0b4483",
   "metadata": {},
   "source": [
    "<ul><b>\n",
    "<li>Was ist eine Zeitreihe?\n",
    "<li>Bestands- und Flussgrößen\n",
    "<li>Visualisierungsmöglichkeiten Zeitreihen\n",
    "<li>Womit beschäftigt sich die Zeitreihenanalyse ?\n",
    "<li>Beispiel Zeitreihen\n",
    "<li>Libraries in Python\n",
    "</b></ul>"
   ]
  },
  {
   "cell_type": "markdown",
   "id": "28760c00",
   "metadata": {},
   "source": [
    "# Zeitreihen - Definition"
   ]
  },
  {
   "cell_type": "markdown",
   "id": "c01c554a",
   "metadata": {},
   "source": [
    "<ul><b>\n",
    "<li>Sehr häufig werden Dinge wiederholt über die Zeit gemessen.\n",
    "    <li>Bei einer Zeitreihe geht es wiederholte Messungen <u>eines Objektes</u>.\n",
    "<li>Die Entwicklung eines Wertes über der Zeit wird analysiert.\n",
    "<li>I.d.R besitzen die benachbarten Datenpunkte denselben zeitlich Abstand voneinander (äquidistant)\n",
    "</b></ul>"
   ]
  },
  {
   "cell_type": "markdown",
   "id": "2f03c43c",
   "metadata": {},
   "source": [
    "<img src=\"pics/ts-example.png\" alt=\"Drawing\" style=\"width: 700px;\"/>"
   ]
  },
  {
   "cell_type": "markdown",
   "id": "ab1cbb36",
   "metadata": {},
   "source": [
    "<font size=\"+1\">\n",
    "<b>Eine Zeitreihe ist eine Menge (Folge) an Beobachtungen eines Objekts,<br>\n",
    "    die jeweils zu einer bestimmten Zeit aufgenommen wurden.</b>"
   ]
  },
  {
   "cell_type": "markdown",
   "id": "a7256988",
   "metadata": {},
   "source": [
    "Begriff \"Abtastung\":<br>\n",
    "aus einer kontinuierlichen Zeit werden diskrete Zeitpunkte "
   ]
  },
  {
   "cell_type": "markdown",
   "id": "90e13152",
   "metadata": {},
   "source": [
    "Die zentrale Eigenschaft einer Zeitreihe ist die zeitliche Abhängigkeit.<br>\n",
    "Eine Beobachtung eines Zeitpunkts steht in einer Beziehung zu der(den) vorherigen Messung(en).<br>\n",
    "Nur daher können Muster, Trends und Saisonalitäten entstehen."
   ]
  },
  {
   "cell_type": "markdown",
   "id": "99390890",
   "metadata": {},
   "source": [
    "# Bestands- und Flussgrößen"
   ]
  },
  {
   "cell_type": "markdown",
   "id": "0385b7c1",
   "metadata": {},
   "source": [
    "<b>Es gibt bei Zeitreihen zeitpunktbezogene Daten (Bestandsgrößen) sowie zeitraumbezogene Daten (Flussgrößen)"
   ]
  },
  {
   "cell_type": "markdown",
   "id": "5afb494b",
   "metadata": {},
   "source": [
    "<b>Ein entscheidendes Kriterium:</b><br>\n",
    "<b>Sind Werte der einzelnen Zeitpunkte/Perioden sinnvoll addierbar?</b><br><br>\n",
    "\n",
    "Wenn \"JA\": => Flussgröße<br>\n",
    "Wenn \"NEIN\": => Bestandsgröße<br>\n"
   ]
  },
  {
   "cell_type": "markdown",
   "id": "b7e5da5e",
   "metadata": {},
   "source": [
    "<b>MINIÜBUNG</b><br>\n",
    "<b>Nennt Beispiele für Zeitreihen und diskutiert, ob es sich um Flussgrößen oder Bestandsgrößen handelt.</b>"
   ]
  },
  {
   "cell_type": "markdown",
   "id": "925d458f",
   "metadata": {},
   "source": [
    "# Eigenschaften von Zeitreihen"
   ]
  },
  {
   "cell_type": "markdown",
   "id": "f6831aa5",
   "metadata": {},
   "source": [
    "<ul><b>\n",
    "<li>äquidistant vs. nicht-äqidistant\n",
    "<li>univariat vs. multivariat<br>(ein vs. mehrere Messwerte an den Beobachtungszeitpunkten)\n"
   ]
  },
  {
   "cell_type": "markdown",
   "id": "9e6ae07b",
   "metadata": {},
   "source": [
    "<b>Nicht-äquidistante Zeitreihen</b>"
   ]
  },
  {
   "cell_type": "markdown",
   "id": "1a311a45",
   "metadata": {},
   "source": [
    "<ul>\n",
    "<li>Eine Transformation in eine äquidistante Zeitreihe ist sinnvoll.\n",
    "<li>Eine einfache Methode dafür stellt einer lineare Interpolation dar.\n",
    "<li>Das gehört zur Datenvorverarbeitung.\n",
    "</ul>"
   ]
  },
  {
   "cell_type": "markdown",
   "id": "9addfa5d",
   "metadata": {},
   "source": [
    "<img src='pics/non-aequi.png' alt='Drawing' style='width: 700px;'/>"
   ]
  },
  {
   "cell_type": "markdown",
   "id": "a3a0ffbf",
   "metadata": {},
   "source": [
    "# Visualisierung"
   ]
  },
  {
   "cell_type": "markdown",
   "id": "20cd0141",
   "metadata": {},
   "source": [
    "<ul>\n",
    "<li>Ein erster Schritt besteht in der Analyse der vorhanden Zeitreihen.\n",
    "<li>Das geht am besten mit Visualisierungen\n",
    "<li>Üblich sind <b>Liniendiagramme</b>, da das die visuelle Darstellung des Verlaufs unterstützt.\n",
    "    <li><b>Streudiagramme</b> sind aber auch möglich.\n",
    "</ul>"
   ]
  },
  {
   "cell_type": "markdown",
   "id": "ae51a76e",
   "metadata": {},
   "source": [
    "![alt](pics/brownlee-ts-line.png) | ![alt](pics/brownlee-ts-scatter.png)\n",
    "- | -:\n",
    " | Grafiken: Brownlee: Introduction to Time Series with Python | _"
   ]
  },
  {
   "cell_type": "markdown",
   "id": "06510296",
   "metadata": {},
   "source": [
    "Mit <b>Stacked Line Plots</b> lässt sich bspw. der Verlauf über verschiedene Jahre analysieren.<br>\n",
    "Mit einem <b>Histogramm</b> lässt sich die Verteilung der Werte ansehen – die Zeitinformation geht dabei natürlich verloren."
   ]
  },
  {
   "cell_type": "markdown",
   "id": "7b388ee8",
   "metadata": {},
   "source": [
    "Stacked line plots | Histogram\n",
    ":- | :-\n",
    "![alt](pics/brownlee-stacked.png) | ![alt](pics/brownlee-hist.png)\n",
    " | Grafiken: Brownlee: Introduction to Time Series with Python | _"
   ]
  },
  {
   "cell_type": "markdown",
   "id": "772acbec",
   "metadata": {},
   "source": [
    "# Mathematische Betrachtungsweise einer Zeitreihe"
   ]
  },
  {
   "cell_type": "markdown",
   "id": "2acdfee9",
   "metadata": {},
   "source": [
    "https://de.wikipedia.org/wiki/Zeitreihenanalyse"
   ]
  },
  {
   "cell_type": "markdown",
   "id": "e5d33ff9",
   "metadata": {},
   "source": [
    "<ul>\n",
    "<li>Jedem Beobachtungszeitpunkt $t$ wird eine eigene Zufallsvariable $X_t$ zugeordnet.\n",
    "<li>Eine Folge von Zufallsvariablen heißt <b>stochastischer Prozess</b>,<br>\n",
    "   d.h. die Folge $X_1, X_2, X_3, \\ldots,  X_T$ ist ein stochastischer Prozess.\n",
    "<li>Die Zeitreihe $x_1, x_2, x_3, \\ldots,  x_T$ ist hier eine Realisierung (\"Kopie\") dieses stochastischen Prozesses.\n",
    "<li>Die Verteilungen der einzelnen Zufallsvariablen ist i.a. unbekannt,<br>\n",
    "    häufig macht man aber Annahmen über deren Verteilung.\n",
    "<li>Aus der Zeitreihe lassen sich Kennwerte der Verteilung(en) schätzen -<br>\n",
    "    natürlich nur, wenn die $X_i$ ähnliche/gleiche Verteilen besitzen.\n",
    "</ul>"
   ]
  },
  {
   "cell_type": "markdown",
   "id": "213bf468",
   "metadata": {},
   "source": [
    "# Zeitreihenanalyse"
   ]
  },
  {
   "cell_type": "markdown",
   "id": "31d6a41d",
   "metadata": {},
   "source": [
    "https://de.wikipedia.org/wiki/Zeitreihenanalyse"
   ]
  },
  {
   "cell_type": "markdown",
   "id": "01347dd3",
   "metadata": {},
   "source": [
    "## Aufgaben der Zeitreihenanalyse"
   ]
  },
  {
   "cell_type": "markdown",
   "id": "511be5e3",
   "metadata": {},
   "source": [
    "<ul>\n",
    "    <li><b>Erzeugen von wertvollen Einsichten</b><br>\n",
    "        Identifikation und Verstehen von Anomalien, Trends und Mustern in den Daten\n",
    "    <li><b>Abhängigkeitsanalyse</b><br>\n",
    "        Untersuchung der kausalen Abhängigkeit zwischen externen Variablen und der Zeitreihe\n",
    "    <li><b>Anomalieerkennung</b><br>\n",
    "        Bsp. zur Qualitätssicherung\n",
    "    <li><b>Forecasting</b><br>\n",
    "<ul>\n",
    "<li>Welche Werte sind künftig zu erwarten\n",
    "<li>Ist wichtig – sind Basis für viele Planungs- und Entscheidungsprozesse\n",
    "<li>aber: „ein Forecast ist mehr als eine Zahl“\n",
    "    <li>Forecasting problems are a subset of prediction problems\n",
    "    <li>The only difference between forecasting and prediction is the explicit addition of temporal dimension in forecasting.\n",
    "    <li>Suche nach Anomalien (anomaly detection)\u000b",
    "Anomalie = Wert der sich deutlich vom erwarteten Wert unterscheidet\n",
    "    </ul>\n",
    "</ul>\n",
    "    \n"
   ]
  },
  {
   "cell_type": "markdown",
   "id": "9faf0e16",
   "metadata": {},
   "source": [
    "## Beispiele der Zeitreihenanalyse"
   ]
  },
  {
   "cell_type": "markdown",
   "id": "fe5bdc84",
   "metadata": {},
   "source": [
    "<ul>\n",
    "<li>Veränderungen der Temperaturmesswerte in einem Weinberg aufgrund von Maßnahmen zur Frostbekämpfung\n",
    "<li>Prognose der Anzahl Anrufe in Rettungsleitstellen\n",
    "<li>Umsatzplanung für das nächste Jahr\n",
    "<li>Entdeckung ungewöhnlicher Ereignisse\n",
    "</ul>"
   ]
  },
  {
   "cell_type": "markdown",
   "id": "05460003",
   "metadata": {},
   "source": [
    "## Schritte einer Zeitreihenanalyse"
   ]
  },
  {
   "cell_type": "markdown",
   "id": "4a9cd1b9",
   "metadata": {},
   "source": [
    "<img src='pics/tsa-steps-datawizards.JPG' alt='Drawing' style='width: 700px;'/>"
   ]
  },
  {
   "cell_type": "markdown",
   "id": "7301fc41",
   "metadata": {},
   "source": [
    "https://medium.com/@datasciencewizards/introduction-to-time-series-analysis-i-82d614d462b0"
   ]
  },
  {
   "cell_type": "markdown",
   "id": "8da405a9",
   "metadata": {},
   "source": [
    "<ul>\n",
    "<li><b>Data Collection:</b><br>\n",
    "    Es werden zeitabhängige Daten gesammelt (IoT, Sensoren, ...)\n",
    "<li><b>Data Processing:</b><br>\n",
    "    Formatierung Daten, fehlende Werte, Duplikate, Inkonstistenzen<br>\n",
    "    Jedes fehlende Datum (bspw. jeder fehlende Zeitraum) wird als <b>fehlender Wert</b> betrachtet!<br>\n",
    "    Die Erzeugung konsistenter Zeitpunkte (-räume) oder Indizes gehört auch dazu\n",
    "    <li><b>Data Visualization</b><br>\n",
    "    Aufgrund der vielen Daten hier besonders wichtig.\n",
    "</ul>        "
   ]
  },
  {
   "cell_type": "markdown",
   "id": "5700dcc5",
   "metadata": {},
   "source": [
    "## Typen von Zeitreihenanalysen"
   ]
  },
  {
   "cell_type": "markdown",
   "id": "55f2e15e",
   "metadata": {},
   "source": [
    "<img src='pics/tsa-types.JPG' alt='Drawing' style='width: 700px;'/>"
   ]
  },
  {
   "cell_type": "markdown",
   "id": "6f029585",
   "metadata": {},
   "source": [
    "<ul>\n",
    "<li><b>Descriptive Analysis</b><br>\n",
    "    Datenanalyse (Visualisierungen, Autokorrelationen, ...)\n",
    "<li><b>Time Series Smoothing</b><br>\n",
    "   Entfernen von zufälligen, kurzfristigen Schwankungen (Moving averages)\n",
    "<li><b>Trend Analysis</b><br>\n",
    "Modellierung des langrstigen Trends (Regression, Zeitreihendekomposition)\n",
    "<li><b>Seasonality Analysis</b><br>\n",
    "Ermittlung saisonaler Effekte (Saisonindizes, Zeitreihendekomposition)\n",
    "<li><b>Time Series Forecasting:</b><br>\n",
    "    Schätzung künftiger Werte auf Basis der Vergangenheit (Exponentielle Glättung, ARIMA, ...)"
   ]
  },
  {
   "cell_type": "markdown",
   "id": "ed894218",
   "metadata": {},
   "source": [
    "## Python und Zeitreihenanalyse"
   ]
  },
  {
   "cell_type": "markdown",
   "id": "04db7934",
   "metadata": {},
   "source": [
    "https://towardsdatascience.com/time-series-analysis-from-scratch-seeing-the-big-picture-2d0f9d837329"
   ]
  },
  {
   "cell_type": "markdown",
   "id": "f88007d7-9c92-4c70-9080-b5d9ddd1a489",
   "metadata": {},
   "source": [
    "<b>Nützliche Python-Libraries für ZRA:</b><br>\n",
    "\\begin{array}{|l|l|c|} \\hline\n",
    "\\textbf{library}        & \\textbf{Beschreibung} & \\textbf{Bemerkung} \\\\ \\hline\n",
    "\\textbf{Pandas}           & \\text{Fundamental library for data analysis} & \\text{X} \\\\\n",
    "                        & \\text{date-time indexes, date ranges} &  \\\\\n",
    "                        & \\text{transformations like shifting, lagging, aggregating, ...} &  \\\\ \\hline\n",
    "\\textbf{Statsmodels}      & \\text{library for statistical modeling} & \\text{X} \\\\\n",
    "                        & \\text{simple moving average to seasonal and vector autoregression} &  \\\\\n",
    "                        & \\text{test for stationarity, ...} &  \\\\ \\hline                    \n",
    "\\textbf{Scikit-Learn}     & \\text{general machine learning library} & \\text{X} \\\\\n",
    "                        & \\text{regression can be used for time series forecasting} &  \\\\ \\hline\n",
    "\\textbf{Tensorflow-Keras} & \\text{most popular deep learning library} & \\text{?} \\\\ \\hline\n",
    "\\textbf{Prophet}          & \\text{time series forecasting library from Facebook} & \\text{--} \\\\ \\hline\n",
    "\\textbf{Stumpy}           & \\text{library that efficiently computes the matrix profile} & \\text{--} \\\\ \n",
    "                        & \\text{pattern and anomaly detection} & \\text{--} \\\\  \\hline\n",
    "\\textbf{PyCaret}          & \\text{library for automated machine learning} &  \\text{--} \\\\ \n",
    "                        & \\text{supports time series as of the most recent release} \\\\ \\hline\n",
    "\\textbf{Plotly}           & \\text{graphing library makes interactive, publication-quality graphs} & \\text{x} \\\\ \\hline\n",
    "\\end{array}\n",
    "\n",
    "<b>und natürlich NumPy + Matplotlib.</b>"
   ]
  }
 ],
 "metadata": {
  "kernelspec": {
   "display_name": "Python 3 (ipykernel)",
   "language": "python",
   "name": "python3"
  },
  "language_info": {
   "codemirror_mode": {
    "name": "ipython",
    "version": 3
   },
   "file_extension": ".py",
   "mimetype": "text/x-python",
   "name": "python",
   "nbconvert_exporter": "python",
   "pygments_lexer": "ipython3",
   "version": "3.10.13"
  },
  "toc": {
   "base_numbering": 1,
   "nav_menu": {},
   "number_sections": true,
   "sideBar": true,
   "skip_h1_title": false,
   "title_cell": "Table of Contents",
   "title_sidebar": "Contents",
   "toc_cell": false,
   "toc_position": {
    "height": "366.6px",
    "left": "297px",
    "top": "66.1px",
    "width": "165px"
   },
   "toc_section_display": true,
   "toc_window_display": true
  }
 },
 "nbformat": 4,
 "nbformat_minor": 5
}
